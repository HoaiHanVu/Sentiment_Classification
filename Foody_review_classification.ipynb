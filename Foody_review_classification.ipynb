{
 "cells": [
  {
   "cell_type": "code",
   "execution_count": 1,
   "id": "d3e4b5d6",
   "metadata": {},
   "outputs": [
    {
     "name": "stdout",
     "output_type": "stream",
     "text": [
      "importing Jupyter notebook from /Users/vuhan/Desktop/JOHN/10. Capstone Project/Week3/Lib/Functions.ipynb\n"
     ]
    }
   ],
   "source": [
    "import warnings\n",
    "warnings.filterwarnings('ignore')\n",
    "import numpy as np\n",
    "import pandas as pd\n",
    "import matplotlib.pyplot as plt\n",
    "import seaborn as sb\n",
    "import tensorflow as tf\n",
    "from tensorflow import keras\n",
    "from lazypredict.Supervised import LazyClassifier\n",
    "from underthesea import word_tokenize, pos_tag, sent_tokenize\n",
    "from pyvi import ViPosTagger, ViTokenizer\n",
    "import import_ipynb\n",
    "import Lib.Functions as fc"
   ]
  },
  {
   "cell_type": "markdown",
   "id": "f7bcf3c5",
   "metadata": {},
   "source": [
    "- Đọc dữ liệu:"
   ]
  },
  {
   "cell_type": "code",
   "execution_count": 2,
   "id": "42f4c7b4",
   "metadata": {},
   "outputs": [],
   "source": [
    "data = pd.read_csv('data_Foody.csv')"
   ]
  },
  {
   "cell_type": "code",
   "execution_count": 3,
   "id": "2117fdd4",
   "metadata": {},
   "outputs": [
    {
     "data": {
      "text/html": [
       "<div>\n",
       "<style scoped>\n",
       "    .dataframe tbody tr th:only-of-type {\n",
       "        vertical-align: middle;\n",
       "    }\n",
       "\n",
       "    .dataframe tbody tr th {\n",
       "        vertical-align: top;\n",
       "    }\n",
       "\n",
       "    .dataframe thead th {\n",
       "        text-align: right;\n",
       "    }\n",
       "</style>\n",
       "<table border=\"1\" class=\"dataframe\">\n",
       "  <thead>\n",
       "    <tr style=\"text-align: right;\">\n",
       "      <th></th>\n",
       "      <th>Unnamed: 0</th>\n",
       "      <th>restaurant</th>\n",
       "      <th>review_text</th>\n",
       "      <th>review_score</th>\n",
       "    </tr>\n",
       "  </thead>\n",
       "  <tbody>\n",
       "    <tr>\n",
       "      <th>0</th>\n",
       "      <td>0</td>\n",
       "      <td>Good Morning Restaurant</td>\n",
       "      <td>Pizza phong cách Ý. Ngán hải sản nên cả nhà gh...</td>\n",
       "      <td>8.20</td>\n",
       "    </tr>\n",
       "    <tr>\n",
       "      <th>1</th>\n",
       "      <td>1</td>\n",
       "      <td>Hạt Dẻ Trùng Khánh</td>\n",
       "      <td>- Vị trí: chỉ là 1 chiếc xe nho nhỏ nằm ở khu ...</td>\n",
       "      <td>8.00</td>\n",
       "    </tr>\n",
       "    <tr>\n",
       "      <th>2</th>\n",
       "      <td>2</td>\n",
       "      <td>Bột - Healthy &amp; Weight Loss Food - Shop Online</td>\n",
       "      <td>Nay lang thang trên BM thấy đang khuyến mãi xo...</td>\n",
       "      <td>8.20</td>\n",
       "    </tr>\n",
       "    <tr>\n",
       "      <th>3</th>\n",
       "      <td>3</td>\n",
       "      <td>Bánh Giò Chợ Nguyễn Công Trứ</td>\n",
       "      <td>Quán nằm trong chợ Nguyễn Công Trứ, cũng dễ tì...</td>\n",
       "      <td>8.20</td>\n",
       "    </tr>\n",
       "    <tr>\n",
       "      <th>4</th>\n",
       "      <td>4</td>\n",
       "      <td>Quán Quảng - Bún Quảng</td>\n",
       "      <td>Ngãi heo với heo thiệttttt 🐷🐷🐷\\n🤤🤤 bún nem chả...</td>\n",
       "      <td>9.00</td>\n",
       "    </tr>\n",
       "  </tbody>\n",
       "</table>\n",
       "</div>"
      ],
      "text/plain": [
       "   Unnamed: 0                                      restaurant  \\\n",
       "0           0                         Good Morning Restaurant   \n",
       "1           1                              Hạt Dẻ Trùng Khánh   \n",
       "2           2  Bột - Healthy & Weight Loss Food - Shop Online   \n",
       "3           3                    Bánh Giò Chợ Nguyễn Công Trứ   \n",
       "4           4                          Quán Quảng - Bún Quảng   \n",
       "\n",
       "                                         review_text  review_score  \n",
       "0  Pizza phong cách Ý. Ngán hải sản nên cả nhà gh...          8.20  \n",
       "1  - Vị trí: chỉ là 1 chiếc xe nho nhỏ nằm ở khu ...          8.00  \n",
       "2  Nay lang thang trên BM thấy đang khuyến mãi xo...          8.20  \n",
       "3  Quán nằm trong chợ Nguyễn Công Trứ, cũng dễ tì...          8.20  \n",
       "4  Ngãi heo với heo thiệttttt 🐷🐷🐷\\n🤤🤤 bún nem chả...          9.00  "
      ]
     },
     "execution_count": 3,
     "metadata": {},
     "output_type": "execute_result"
    }
   ],
   "source": [
    "data.head()"
   ]
  },
  {
   "cell_type": "code",
   "execution_count": 4,
   "id": "77081f51",
   "metadata": {},
   "outputs": [
    {
     "name": "stdout",
     "output_type": "stream",
     "text": [
      "<class 'pandas.core.frame.DataFrame'>\n",
      "RangeIndex: 39925 entries, 0 to 39924\n",
      "Data columns (total 4 columns):\n",
      " #   Column        Non-Null Count  Dtype  \n",
      "---  ------        --------------  -----  \n",
      " 0   Unnamed: 0    39925 non-null  int64  \n",
      " 1   restaurant    39925 non-null  object \n",
      " 2   review_text   39925 non-null  object \n",
      " 3   review_score  39925 non-null  float64\n",
      "dtypes: float64(1), int64(1), object(2)\n",
      "memory usage: 1.2+ MB\n"
     ]
    }
   ],
   "source": [
    "data.info()"
   ]
  },
  {
   "cell_type": "markdown",
   "id": "5274be3f",
   "metadata": {},
   "source": [
    "- Ta sẽ xem qua phổ điểm đánh giá của khách hàng trong dataset:"
   ]
  },
  {
   "cell_type": "code",
   "execution_count": 5,
   "id": "7f05ffc7",
   "metadata": {},
   "outputs": [
    {
     "data": {
      "image/png": "[encoded data removed]",
      "text/plain": [
       "<Figure size 1440x432 with 1 Axes>"
      ]
     },
     "metadata": {
      "needs_background": "light"
     },
     "output_type": "display_data"
    }
   ],
   "source": [
    "score = data['review_score'].value_counts()\n",
    "score = pd.DataFrame(score).sort_values(by = 'review_score', ascending = False)\n",
    "\n",
    "plt.figure(figsize = (20, 6))\n",
    "sb.barplot(score.index, score['review_score']);"
   ]
  },
  {
   "cell_type": "markdown",
   "id": "5eaa471b",
   "metadata": {},
   "source": [
    "- Dễ dàng nhận thấy điểm số từ 7.0 trở lên chiếm số lượng khá lớn, dựa trên số điểm có thể phỏng đoán các đánh giá thực sự chê hoặc nhận xét không tốt về dịch vụ chiếm số lượng nhỏ hơn các đánh giá tích cực khá nhiều."
   ]
  },
  {
   "cell_type": "markdown",
   "id": "033f1e14",
   "metadata": {},
   "source": [
    "- Để xử lý văn bản Tiếng Việt, ta sẽ load một số file dữ liệu cần thiết để làm sạch hoặc thay thế các từ không phải tiếng Việt trong câu: các icon cảm xúc, teencode, các từ dễ nhầm lẫn và stopwords trong tiếng Việt."
   ]
  },
  {
   "cell_type": "code",
   "execution_count": 6,
   "id": "52ca5dff",
   "metadata": {},
   "outputs": [],
   "source": [
    "# EMOJICON\n",
    "file = open('files/emojicon.txt', 'r', encoding=\"utf8\")\n",
    "emoji_lst = file.read().split('\\n')\n",
    "emoji_dict = {}\n",
    "for line in emoji_lst:\n",
    "    key, value = line.split('\\t')\n",
    "    emoji_dict[key] = str(value)\n",
    "file.close()\n",
    "\n",
    "# TEENCODE\n",
    "file = open('files/teencode.txt', 'r', encoding=\"utf8\")\n",
    "teen_lst = file.read().split('\\n')\n",
    "teen_dict = {}\n",
    "for line in teen_lst:\n",
    "    key, value = line.split('\\t')\n",
    "    teen_dict[key] = str(value)\n",
    "file.close()\n",
    "\n",
    "# TRANSLATE ENGLISH -> VNMESE\n",
    "file = open('files/english-vnmese.txt', 'r', encoding=\"utf8\")\n",
    "english_lst = file.read().split('\\n')\n",
    "english_dict = {}\n",
    "for line in english_lst:\n",
    "    key, value = line.split('\\t')\n",
    "    english_dict[key] = str(value)\n",
    "file.close()\n",
    "\n",
    "# WRONG WORDS\n",
    "file = open('files/wrong-word.txt', 'r', encoding=\"utf8\")\n",
    "wrong_lst = file.read().split('\\n')\n",
    "file.close()\n",
    "\n",
    "# STOPWORDS\n",
    "file = open('files/vietnamese-stopwords.txt', 'r', encoding=\"utf8\")\n",
    "stopwords_lst = file.read().split('\\n')\n",
    "file.close()"
   ]
  },
  {
   "cell_type": "markdown",
   "id": "77a5a982",
   "metadata": {},
   "source": [
    "- Xử lý văn bản tiếng Việt:"
   ]
  },
  {
   "cell_type": "code",
   "execution_count": 7,
   "id": "e9d2c88a",
   "metadata": {},
   "outputs": [
    {
     "name": "stdout",
     "output_type": "stream",
     "text": [
      "Cleaning text took 16.36 minutes.\n"
     ]
    }
   ],
   "source": [
    "import time\n",
    "\n",
    "t1 = time.time()\n",
    "final_text = data['review_text'].apply(lambda x: fc.clean_text(x, emoji_dict, teen_dict, wrong_lst, stopwords_lst))\n",
    "t2 = time.time()\n",
    "\n",
    "print('Cleaning text took {:.2f} minutes.'.format((t2 - t1) / 60))"
   ]
  },
  {
   "cell_type": "code",
   "execution_count": 8,
   "id": "d15a785e",
   "metadata": {},
   "outputs": [],
   "source": [
    "data['clean_text'] = final_text"
   ]
  },
  {
   "cell_type": "code",
   "execution_count": 9,
   "id": "ad9de60c",
   "metadata": {},
   "outputs": [
    {
     "data": {
      "text/html": [
       "<div>\n",
       "<style scoped>\n",
       "    .dataframe tbody tr th:only-of-type {\n",
       "        vertical-align: middle;\n",
       "    }\n",
       "\n",
       "    .dataframe tbody tr th {\n",
       "        vertical-align: top;\n",
       "    }\n",
       "\n",
       "    .dataframe thead th {\n",
       "        text-align: right;\n",
       "    }\n",
       "</style>\n",
       "<table border=\"1\" class=\"dataframe\">\n",
       "  <thead>\n",
       "    <tr style=\"text-align: right;\">\n",
       "      <th></th>\n",
       "      <th>Unnamed: 0</th>\n",
       "      <th>restaurant</th>\n",
       "      <th>review_text</th>\n",
       "      <th>review_score</th>\n",
       "      <th>clean_text</th>\n",
       "    </tr>\n",
       "  </thead>\n",
       "  <tbody>\n",
       "    <tr>\n",
       "      <th>0</th>\n",
       "      <td>0</td>\n",
       "      <td>Good Morning Restaurant</td>\n",
       "      <td>Pizza phong cách Ý. Ngán hải sản nên cả nhà gh...</td>\n",
       "      <td>8.20</td>\n",
       "      <td>ngán hải sản ghé ăn. giá rẻ món trình bày đẹp ...</td>\n",
       "    </tr>\n",
       "    <tr>\n",
       "      <th>1</th>\n",
       "      <td>1</td>\n",
       "      <td>Hạt Dẻ Trùng Khánh</td>\n",
       "      <td>- Vị trí: chỉ là 1 chiếc xe nho nhỏ nằm ở khu ...</td>\n",
       "      <td>8.00</td>\n",
       "      <td>vị trí ngã sân cát quán phở hoà đông đối diện ...</td>\n",
       "    </tr>\n",
       "    <tr>\n",
       "      <th>2</th>\n",
       "      <td>2</td>\n",
       "      <td>Bột - Healthy &amp; Weight Loss Food - Shop Online</td>\n",
       "      <td>Nay lang thang trên BM thấy đang khuyến mãi xo...</td>\n",
       "      <td>8.20</td>\n",
       "      <td>khuyến mãi đọc review thử cảm vị đồ đa đồ siêu...</td>\n",
       "    </tr>\n",
       "    <tr>\n",
       "      <th>3</th>\n",
       "      <td>3</td>\n",
       "      <td>Bánh Giò Chợ Nguyễn Công Trứ</td>\n",
       "      <td>Quán nằm trong chợ Nguyễn Công Trứ, cũng dễ tì...</td>\n",
       "      <td>8.20</td>\n",
       "      <td>quán chợ nguyễn công trứ thẳng chợ tới. quán t...</td>\n",
       "    </tr>\n",
       "    <tr>\n",
       "      <th>4</th>\n",
       "      <td>4</td>\n",
       "      <td>Quán Quảng - Bún Quảng</td>\n",
       "      <td>Ngãi heo với heo thiệttttt 🐷🐷🐷\\n🤤🤤 bún nem chả...</td>\n",
       "      <td>9.00</td>\n",
       "      <td>ngãi thiệttttt bún chả quảng thơm quán trần vă...</td>\n",
       "    </tr>\n",
       "  </tbody>\n",
       "</table>\n",
       "</div>"
      ],
      "text/plain": [
       "   Unnamed: 0                                      restaurant  \\\n",
       "0           0                         Good Morning Restaurant   \n",
       "1           1                              Hạt Dẻ Trùng Khánh   \n",
       "2           2  Bột - Healthy & Weight Loss Food - Shop Online   \n",
       "3           3                    Bánh Giò Chợ Nguyễn Công Trứ   \n",
       "4           4                          Quán Quảng - Bún Quảng   \n",
       "\n",
       "                                         review_text  review_score  \\\n",
       "0  Pizza phong cách Ý. Ngán hải sản nên cả nhà gh...          8.20   \n",
       "1  - Vị trí: chỉ là 1 chiếc xe nho nhỏ nằm ở khu ...          8.00   \n",
       "2  Nay lang thang trên BM thấy đang khuyến mãi xo...          8.20   \n",
       "3  Quán nằm trong chợ Nguyễn Công Trứ, cũng dễ tì...          8.20   \n",
       "4  Ngãi heo với heo thiệttttt 🐷🐷🐷\\n🤤🤤 bún nem chả...          9.00   \n",
       "\n",
       "                                          clean_text  \n",
       "0  ngán hải sản ghé ăn. giá rẻ món trình bày đẹp ...  \n",
       "1  vị trí ngã sân cát quán phở hoà đông đối diện ...  \n",
       "2  khuyến mãi đọc review thử cảm vị đồ đa đồ siêu...  \n",
       "3  quán chợ nguyễn công trứ thẳng chợ tới. quán t...  \n",
       "4  ngãi thiệttttt bún chả quảng thơm quán trần vă...  "
      ]
     },
     "execution_count": 9,
     "metadata": {},
     "output_type": "execute_result"
    }
   ],
   "source": [
    "data.head()"
   ]
  },
  {
   "cell_type": "code",
   "execution_count": 10,
   "id": "cf3d33f2",
   "metadata": {},
   "outputs": [],
   "source": [
    "df = data[['clean_text', 'review_score']]"
   ]
  },
  {
   "cell_type": "code",
   "execution_count": 11,
   "id": "261056f3",
   "metadata": {},
   "outputs": [
    {
     "name": "stdout",
     "output_type": "stream",
     "text": [
      "<class 'pandas.core.frame.DataFrame'>\n",
      "RangeIndex: 39925 entries, 0 to 39924\n",
      "Data columns (total 2 columns):\n",
      " #   Column        Non-Null Count  Dtype  \n",
      "---  ------        --------------  -----  \n",
      " 0   clean_text    39925 non-null  object \n",
      " 1   review_score  39925 non-null  float64\n",
      "dtypes: float64(1), object(1)\n",
      "memory usage: 624.0+ KB\n"
     ]
    }
   ],
   "source": [
    "df.info()"
   ]
  },
  {
   "cell_type": "markdown",
   "id": "f18c55c2",
   "metadata": {},
   "source": [
    "- Kiểm tra, loại bỏ dữ liệu trùng cũng như các dòng bị rỗng sau khi xử lý và làm sạch:"
   ]
  },
  {
   "cell_type": "code",
   "execution_count": 12,
   "id": "489b62d2",
   "metadata": {},
   "outputs": [
    {
     "name": "stdout",
     "output_type": "stream",
     "text": [
      "Before dropping duplicates: 39925 rows.\n",
      "After dropping duplicates: 39639 rows.\n"
     ]
    }
   ],
   "source": [
    "dup_val = len(df) - len(df.drop_duplicates())\n",
    "\n",
    "if dup_val > 0:\n",
    "    print('Before dropping duplicates: {} rows.'.format(len(df)))\n",
    "    df = df.drop_duplicates()\n",
    "    print('After dropping duplicates: {} rows.'.format(len(df)))\n",
    "else:\n",
    "    print('No duplicate values.')"
   ]
  },
  {
   "cell_type": "code",
   "execution_count": 13,
   "id": "95b362e6",
   "metadata": {},
   "outputs": [
    {
     "data": {
      "text/plain": [
       "0"
      ]
     },
     "execution_count": 13,
     "metadata": {},
     "output_type": "execute_result"
    }
   ],
   "source": [
    "len(df.loc[df['clean_text'] == ''])"
   ]
  },
  {
   "cell_type": "markdown",
   "id": "513c0b07",
   "metadata": {},
   "source": [
    "- Việc đánh giá và cho điểm của khách hàng dựa khá nhiều vào cảm xúc cũng như nhiều yếu tố khác nhau cộng hưởng đến trải nghiệm dịch vụ. Thực tế từ dữ liệu `review_text` và `score` cho thấy, việc khen chê trong cùng một post đánh giá (review) khá phổ biến, vì như giải thích ở trên, có khá nhiều yếu tố tác động đến trải nghiệm của khách hàng sử dụng dịch vụ như: giá cả, chất lượng, vị trí, phục vụ, thái độ nhân viên, khẩu vị, ... . Vì vậy, trong đa số trường hợp, việc một bình luận của khách hàng không hẳn khớp với mức điểm đánh giá có thể hiểu được bằng việc khách hàng thích điểm này nhưng không thích điểm kia của nhà hàng. Hơn nữa, với những khách hàng khác nhau sẽ có những cảm nhận khác nhau, cách cho điểm đối với từng yếu tố cụ thể giữa hai người cũng sẽ khác nhau.\n",
    "\n",
    "\n",
    "- Từ những giả định trên, ta sẽ chọn ra một ngưỡng điểm để phân loại các đánh giá và bình luận. Ngưỡng điểm này sẽ không quá cao trên phổ điểm từ 1 - 10, dựa trên những lập luận ở trên. Với các số điểm vượt trên ngưỡng, ta có thể xem nhà hàng được đánh giá có chất lượng ở mức ổn đến tốt, có thể tồn tại cả điểm hài lòng và chưa hài lòng nhưng nhìn chung là đánh giá ổn. Ngược lại, với điểm dưới ngưỡng, có thể xem nhà hàng nhận đánh giá khá tiêu cực và cần nhìn nhận lại cách cung cấp dịch vụ nói chung.\n",
    "\n",
    "\n",
    "- Ta sẽ chọn ngưỡng điểm là `6` để phân loại các bình luận:"
   ]
  },
  {
   "cell_type": "code",
   "execution_count": 14,
   "id": "d9a1bb8d",
   "metadata": {},
   "outputs": [],
   "source": [
    "def convert_score(score):\n",
    "    if score >= 6.0:\n",
    "        return 'Good'\n",
    "    else:\n",
    "        return 'Bad'\n",
    "    \n",
    "df['class'] = df.apply(lambda x: convert_score(x['review_score']), axis = 1)"
   ]
  },
  {
   "cell_type": "code",
   "execution_count": 15,
   "id": "7b3473eb",
   "metadata": {},
   "outputs": [
    {
     "data": {
      "text/plain": [
       "Good    32896\n",
       "Bad      6743\n",
       "Name: class, dtype: int64"
      ]
     },
     "execution_count": 15,
     "metadata": {},
     "output_type": "execute_result"
    }
   ],
   "source": [
    "df['class'].value_counts()"
   ]
  },
  {
   "cell_type": "markdown",
   "id": "6ed5bc44",
   "metadata": {},
   "source": [
    "- Các bình luận 'tích cực' chiếm số lượng khá lớn, gần gấp 5 lần các đánh giá tiêu cực."
   ]
  },
  {
   "cell_type": "code",
   "execution_count": 16,
   "id": "67bff0f5",
   "metadata": {},
   "outputs": [],
   "source": [
    "from sklearn.preprocessing import LabelEncoder\n",
    "\n",
    "encoder = LabelEncoder()\n",
    "\n",
    "df['labels'] = encoder.fit_transform(df['class'])"
   ]
  },
  {
   "cell_type": "code",
   "execution_count": 17,
   "id": "94e358d7",
   "metadata": {},
   "outputs": [
    {
     "data": {
      "text/plain": [
       "1    32896\n",
       "0     6743\n",
       "Name: labels, dtype: int64"
      ]
     },
     "execution_count": 17,
     "metadata": {},
     "output_type": "execute_result"
    }
   ],
   "source": [
    "df['labels'].value_counts()"
   ]
  },
  {
   "cell_type": "markdown",
   "id": "ac1b115b",
   "metadata": {},
   "source": [
    "- Ta sẽ chuẩn bị dữ liệu cho việc xây dựng mô hình phân loại đánh giá dịch vụ:"
   ]
  },
  {
   "cell_type": "code",
   "execution_count": 18,
   "id": "72ca16db",
   "metadata": {},
   "outputs": [],
   "source": [
    "X = df.iloc[:, 0]\n",
    "y = df.iloc[:, -1]"
   ]
  },
  {
   "cell_type": "code",
   "execution_count": 19,
   "id": "d1396dbc",
   "metadata": {},
   "outputs": [],
   "source": [
    "from sklearn.model_selection import train_test_split\n",
    "\n",
    "X_train, X_test, y_train, y_test = train_test_split(X, y, test_size = 0.3, random_state = 42)"
   ]
  },
  {
   "cell_type": "markdown",
   "id": "5fcc5a80",
   "metadata": {},
   "source": [
    "Xử lý dữ liệu văn bản bằng lớp `CountVectorizer` của Sklearn và khớp với tập train, test:"
   ]
  },
  {
   "cell_type": "code",
   "execution_count": 20,
   "id": "4229a58c",
   "metadata": {},
   "outputs": [],
   "source": [
    "from sklearn.feature_extraction.text import CountVectorizer\n",
    "\n",
    "cv = CountVectorizer()\n",
    "\n",
    "X_train_cv = cv.fit_transform(X_train)\n",
    "X_test_cv = cv.transform(X_test)"
   ]
  },
  {
   "cell_type": "markdown",
   "id": "c9f13b5a",
   "metadata": {},
   "source": [
    "Ta sẽ bắt đầu với thuật toán `MultinomialNB` và `BernoulliNB` của lớp `naive_bayes`: "
   ]
  },
  {
   "cell_type": "code",
   "execution_count": 22,
   "id": "2a0d0f81",
   "metadata": {},
   "outputs": [
    {
     "name": "stdout",
     "output_type": "stream",
     "text": [
      "Train score : 0.9252171405917757\n",
      "Test score : 0.9220484359233098\n"
     ]
    }
   ],
   "source": [
    "from sklearn.naive_bayes import MultinomialNB\n",
    "\n",
    "multiNB = MultinomialNB()\n",
    "multiNB.fit(X_train_cv, y_train)\n",
    "\n",
    "print('Train score : {}'.format(multiNB.score(X_train_cv, y_train)))\n",
    "print('Test score : {}'.format(multiNB.score(X_test_cv, y_test)))"
   ]
  },
  {
   "cell_type": "code",
   "execution_count": 24,
   "id": "1d00dace",
   "metadata": {},
   "outputs": [
    {
     "data": {
      "text/plain": [
       "0.9123512750450938"
      ]
     },
     "execution_count": 24,
     "metadata": {},
     "output_type": "execute_result"
    }
   ],
   "source": [
    "from sklearn.model_selection import cross_val_score\n",
    "\n",
    "multiNB_score = cross_val_score(multiNB, X_train_cv, y_train, cv=5)\n",
    "multiNB_score.mean()"
   ]
  },
  {
   "cell_type": "markdown",
   "id": "0eaafacd",
   "metadata": {},
   "source": [
    "Trung bình kiểm định chéo không khác biệt quá lớn. Tiếp theo, ta sẽ đánh giá mô hình bằng tập test, đồng thời hiển thị các thông số quan trọng trong việc đánh giá bài toán phân loại như \n",
    "\n",
    "_confusion matrix, precision_ và _recall_ :\n",
    "\n",
    "\n",
    "Hàm `eval_clf_testset` đã được viết sẵn trong thư viện Lib, hàm này trả về độ chính xác của mô hình trên tập test, ma trận nhầm lẫn, các giá trị precision, recall và f1-score của từng lớp:"
   ]
  },
  {
   "cell_type": "code",
   "execution_count": 25,
   "id": "3297c3c1",
   "metadata": {},
   "outputs": [
    {
     "name": "stdout",
     "output_type": "stream",
     "text": [
      "----- CLASSIFICATION MODEL PREFOMANCE IN TEST SET-----\n",
      "* R-squared model of Test: 0.922\n",
      "\n",
      "* Confusion Matrix of Test: \n",
      "[[1448  527]\n",
      " [ 400 9517]]\n",
      "\n",
      "* Classification Report of Test: \n",
      "              precision    recall  f1-score   support\n",
      "\n",
      "           0       0.78      0.73      0.76      1975\n",
      "           1       0.95      0.96      0.95      9917\n",
      "\n",
      "    accuracy                           0.92     11892\n",
      "   macro avg       0.87      0.85      0.86     11892\n",
      "weighted avg       0.92      0.92      0.92     11892\n",
      "\n"
     ]
    }
   ],
   "source": [
    "fc.eval_clf_testset(multiNB, X_test_cv, y_test)"
   ]
  },
  {
   "cell_type": "code",
   "execution_count": 73,
   "id": "5b6b48ef",
   "metadata": {},
   "outputs": [
    {
     "name": "stdout",
     "output_type": "stream",
     "text": [
      "Train score : 0.9075215338595164\n",
      "Test score : 0.9047258661284897\n"
     ]
    }
   ],
   "source": [
    "from sklearn.naive_bayes import BernoulliNB\n",
    "\n",
    "ber_nb = BernoulliNB()\n",
    "ber_nb.fit(X_train_cv, y_train)\n",
    "\n",
    "print('Train score : {}'.format(ber_nb.score(X_train_cv, y_train)))\n",
    "print('Test score : {}'.format(ber_nb.score(X_test_cv, y_test)))"
   ]
  },
  {
   "cell_type": "code",
   "execution_count": 74,
   "id": "a82651f1",
   "metadata": {},
   "outputs": [
    {
     "name": "stdout",
     "output_type": "stream",
     "text": [
      "----- CLASSIFICATION MODEL PREFOMANCE IN TEST SET-----\n",
      "* R-squared model of Test: 0.9047\n",
      "\n",
      "* Confusion Matrix of Test: \n",
      "[[1603  372]\n",
      " [ 761 9156]]\n",
      "\n",
      "* Classification Report of Test: \n",
      "              precision    recall  f1-score   support\n",
      "\n",
      "           0       0.68      0.81      0.74      1975\n",
      "           1       0.96      0.92      0.94      9917\n",
      "\n",
      "    accuracy                           0.90     11892\n",
      "   macro avg       0.82      0.87      0.84     11892\n",
      "weighted avg       0.91      0.90      0.91     11892\n",
      "\n"
     ]
    }
   ],
   "source": [
    "fc.eval_clf_testset(ber_nb, X_test_cv, y_test)"
   ]
  },
  {
   "cell_type": "code",
   "execution_count": 75,
   "id": "0a8503ab",
   "metadata": {},
   "outputs": [
    {
     "data": {
      "text/plain": [
       "0.9034495169164479"
      ]
     },
     "execution_count": 75,
     "metadata": {},
     "output_type": "execute_result"
    }
   ],
   "source": [
    "ber_score = cross_val_score(ber_nb, X_train_cv, y_train, cv = 5)\n",
    "ber_score.mean()"
   ]
  },
  {
   "cell_type": "markdown",
   "id": "c8667326",
   "metadata": {},
   "source": [
    "Ta sẽ thử phân loại với một thuật toán phổ biến khác sử dụng phương pháp xác suất để phân loại các lớp,\n",
    "\n",
    "`Logistic Regression`:"
   ]
  },
  {
   "cell_type": "code",
   "execution_count": 26,
   "id": "8c5322a6",
   "metadata": {},
   "outputs": [
    {
     "name": "stdout",
     "output_type": "stream",
     "text": [
      "Train score : 0.9584099181893538\n",
      "Test score : 0.9273461150353178\n"
     ]
    }
   ],
   "source": [
    "from sklearn.linear_model import LogisticRegression\n",
    "\n",
    "logit = LogisticRegression(random_state = 42)\n",
    "logit.fit(X_train_cv, y_train)\n",
    "\n",
    "print('Train score : {}'.format(logit.score(X_train_cv, y_train)))\n",
    "print('Test score : {}'.format(logit.score(X_test_cv, y_test)))"
   ]
  },
  {
   "cell_type": "code",
   "execution_count": 28,
   "id": "2c66e351",
   "metadata": {},
   "outputs": [
    {
     "data": {
      "text/plain": [
       "0.9212171075382465"
      ]
     },
     "execution_count": 28,
     "metadata": {},
     "output_type": "execute_result"
    }
   ],
   "source": [
    "logit_score = cross_val_score(logit, X_train_cv, y_train, cv=5)\n",
    "logit_score.mean()"
   ]
  },
  {
   "cell_type": "code",
   "execution_count": 27,
   "id": "fec2e3a3",
   "metadata": {},
   "outputs": [
    {
     "name": "stdout",
     "output_type": "stream",
     "text": [
      "----- CLASSIFICATION MODEL PREFOMANCE IN TEST SET-----\n",
      "* R-squared model of Test: 0.9273\n",
      "\n",
      "* Confusion Matrix of Test: \n",
      "[[1441  534]\n",
      " [ 330 9587]]\n",
      "\n",
      "* Classification Report of Test: \n",
      "              precision    recall  f1-score   support\n",
      "\n",
      "           0       0.81      0.73      0.77      1975\n",
      "           1       0.95      0.97      0.96      9917\n",
      "\n",
      "    accuracy                           0.93     11892\n",
      "   macro avg       0.88      0.85      0.86     11892\n",
      "weighted avg       0.93      0.93      0.93     11892\n",
      "\n"
     ]
    }
   ],
   "source": [
    "fc.eval_clf_testset(logit, X_test_cv, y_test)"
   ]
  },
  {
   "cell_type": "markdown",
   "id": "c7824e20",
   "metadata": {},
   "source": [
    "- Tương tự như `MultinomialNB` và `BernoulliNB`, mô hình `Logistic Regression` có điểm `precision, recall và f1-score` của lớp 0 khá thấp so với lớp 1, điều này có thể do dữ liệu bị lệch giữa 2 class dẫn đến bộ phân loại có hiệu suất ko tốt ở lớp 0."
   ]
  },
  {
   "cell_type": "markdown",
   "id": "c1a29018",
   "metadata": {},
   "source": [
    "Các bộ phân loại từ đầu đến giờ đều có một điểm chung là có thể ước tính xác suất của từng lớp, bây giờ ta sẽ huấn luyện với một mô hình mạnh mẽ khác sử dụng các ranh giới để phân loại: `Support Vector Machine`.\n",
    "\n",
    "Ta sẽ bắt đầu với `SVC`:"
   ]
  },
  {
   "cell_type": "code",
   "execution_count": 29,
   "id": "fac7317d",
   "metadata": {},
   "outputs": [
    {
     "name": "stdout",
     "output_type": "stream",
     "text": [
      "Train score : 0.9556708833387393\n",
      "Test score : 0.925748402287252\n"
     ]
    }
   ],
   "source": [
    "from sklearn.svm import SVC\n",
    "\n",
    "svc = SVC(random_state = 42)\n",
    "svc.fit(X_train_cv, y_train)\n",
    "\n",
    "print('Train score : {}'.format(svc.score(X_train_cv, y_train)))\n",
    "print('Test score : {}'.format(svc.score(X_test_cv, y_test)))"
   ]
  },
  {
   "cell_type": "code",
   "execution_count": 31,
   "id": "1029c31f",
   "metadata": {},
   "outputs": [
    {
     "name": "stdout",
     "output_type": "stream",
     "text": [
      "SVC cross validation took 2.61 minutes.\n",
      "0.9179374905631889\n"
     ]
    }
   ],
   "source": [
    "import time\n",
    "\n",
    "t1 = time.time()\n",
    "svc_score = cross_val_score(svc, X_train_cv, y_train, cv=5, n_jobs = -1)\n",
    "t2 = time.time()\n",
    "\n",
    "print('SVC cross validation took {:.2f} minutes.'.format((t2 - t1) / 60))\n",
    "print(svc_score.mean())"
   ]
  },
  {
   "cell_type": "code",
   "execution_count": 33,
   "id": "14e352fb",
   "metadata": {},
   "outputs": [
    {
     "name": "stdout",
     "output_type": "stream",
     "text": [
      "----- CLASSIFICATION MODEL PREFOMANCE IN TEST SET-----\n",
      "* R-squared model of Test: 0.9257\n",
      "\n",
      "* Confusion Matrix of Test: \n",
      "[[1280  695]\n",
      " [ 188 9729]]\n",
      "\n",
      "* Classification Report of Test: \n",
      "              precision    recall  f1-score   support\n",
      "\n",
      "           0       0.87      0.65      0.74      1975\n",
      "           1       0.93      0.98      0.96      9917\n",
      "\n",
      "    accuracy                           0.93     11892\n",
      "   macro avg       0.90      0.81      0.85     11892\n",
      "weighted avg       0.92      0.93      0.92     11892\n",
      "\n"
     ]
    }
   ],
   "source": [
    "fc.eval_clf_testset(svc, X_test_cv, y_test)"
   ]
  },
  {
   "cell_type": "markdown",
   "id": "1cad98ac",
   "metadata": {},
   "source": [
    "Ta sẽ thử thêm một mô hình SVM khác cho tác vụ phân loại, lần này là `LinearSVC`, ta cũng sẽ bắt đầu với các tham số mặc định: "
   ]
  },
  {
   "cell_type": "code",
   "execution_count": 34,
   "id": "f7ad6bda",
   "metadata": {},
   "outputs": [
    {
     "name": "stdout",
     "output_type": "stream",
     "text": [
      "Train score : 0.9726456914261001\n",
      "Test score : 0.9129667003027245\n"
     ]
    }
   ],
   "source": [
    "from sklearn.svm import LinearSVC\n",
    "\n",
    "lin_svc = LinearSVC(random_state = 42)\n",
    "lin_svc.fit(X_train_cv, y_train)\n",
    "\n",
    "print('Train score : {}'.format(lin_svc.score(X_train_cv, y_train)))\n",
    "print('Test score : {}'.format(lin_svc.score(X_test_cv, y_test)))"
   ]
  },
  {
   "cell_type": "code",
   "execution_count": 35,
   "id": "5508f502",
   "metadata": {},
   "outputs": [
    {
     "data": {
      "text/plain": [
       "0.9066928900426827"
      ]
     },
     "execution_count": 35,
     "metadata": {},
     "output_type": "execute_result"
    }
   ],
   "source": [
    "lin_svc_score = cross_val_score(lin_svc, X_train_cv, y_train, cv=5)\n",
    "lin_svc_score.mean()"
   ]
  },
  {
   "cell_type": "code",
   "execution_count": 36,
   "id": "efba193b",
   "metadata": {},
   "outputs": [
    {
     "name": "stdout",
     "output_type": "stream",
     "text": [
      "----- CLASSIFICATION MODEL PREFOMANCE IN TEST SET-----\n",
      "* R-squared model of Test: 0.913\n",
      "\n",
      "* Confusion Matrix of Test: \n",
      "[[1418  557]\n",
      " [ 478 9439]]\n",
      "\n",
      "* Classification Report of Test: \n",
      "              precision    recall  f1-score   support\n",
      "\n",
      "           0       0.75      0.72      0.73      1975\n",
      "           1       0.94      0.95      0.95      9917\n",
      "\n",
      "    accuracy                           0.91     11892\n",
      "   macro avg       0.85      0.83      0.84     11892\n",
      "weighted avg       0.91      0.91      0.91     11892\n",
      "\n"
     ]
    }
   ],
   "source": [
    "fc.eval_clf_testset(lin_svc, X_test_cv, y_test)"
   ]
  },
  {
   "cell_type": "markdown",
   "id": "c5d442f8",
   "metadata": {},
   "source": [
    "Ta sẽ thử tìm kiếm dạng lưới với mô hình này với hy vọng sẽ cải thiện được các điểm số đánh giá mà ta quan tâm:"
   ]
  },
  {
   "cell_type": "code",
   "execution_count": 37,
   "id": "59a629bb",
   "metadata": {},
   "outputs": [
    {
     "name": "stdout",
     "output_type": "stream",
     "text": [
      "Grid Search for LinearSVC took 1.23 minutes.\n"
     ]
    }
   ],
   "source": [
    "from sklearn.model_selection import GridSearchCV\n",
    "\n",
    "params_lin_svc = [{'loss': ['hinge', 'squared-hinge'], \n",
    "                   'C': [1, 10, 100, 1000], \n",
    "                   'max_iter': [1000, 5000, 10000],\n",
    "                   'dual': [True, False]}]\n",
    "\n",
    "grid_search_lin_svc = GridSearchCV(LinearSVC(random_state = 42), \n",
    "                                   params_lin_svc, cv=4, n_jobs = -1)\n",
    "t1 = time.time()\n",
    "grid_search_lin_svc.fit(X_train_cv, y_train)\n",
    "t2 = time.time()\n",
    "\n",
    "print('Grid Search for LinearSVC took {:.2f} minutes.'.format((t2 - t1) / 60))"
   ]
  },
  {
   "cell_type": "code",
   "execution_count": 38,
   "id": "15c50738",
   "metadata": {},
   "outputs": [
    {
     "data": {
      "text/plain": [
       "{'C': 1, 'dual': True, 'loss': 'hinge', 'max_iter': 1000}"
      ]
     },
     "execution_count": 38,
     "metadata": {},
     "output_type": "execute_result"
    }
   ],
   "source": [
    "grid_search_lin_svc.best_params_"
   ]
  },
  {
   "cell_type": "code",
   "execution_count": 40,
   "id": "554774d0",
   "metadata": {},
   "outputs": [
    {
     "name": "stdout",
     "output_type": "stream",
     "text": [
      "Train score : 0.9674199012505856\n",
      "Test score : 0.9203666330306088\n"
     ]
    }
   ],
   "source": [
    "print('Train score : {}'.format(grid_search_lin_svc.score(X_train_cv, y_train)))\n",
    "print('Test score : {}'.format(grid_search_lin_svc.score(X_test_cv, y_test)))"
   ]
  },
  {
   "cell_type": "code",
   "execution_count": 41,
   "id": "ee3e838d",
   "metadata": {},
   "outputs": [
    {
     "data": {
      "text/plain": [
       "0.9133242869829642"
      ]
     },
     "execution_count": 41,
     "metadata": {},
     "output_type": "execute_result"
    }
   ],
   "source": [
    "lin_svc_gr = cross_val_score(grid_search_lin_svc, X_train_cv, y_train)\n",
    "lin_svc_gr.mean()"
   ]
  },
  {
   "cell_type": "code",
   "execution_count": 87,
   "id": "dcaa3c2f",
   "metadata": {},
   "outputs": [
    {
     "name": "stdout",
     "output_type": "stream",
     "text": [
      "----- CLASSIFICATION MODEL PREFOMANCE IN TEST SET-----\n",
      "* R-squared model of Test: 0.9204\n",
      "\n",
      "* Confusion Matrix of Test: \n",
      "[[1431  544]\n",
      " [ 403 9514]]\n",
      "\n",
      "* Classification Report of Test: \n",
      "              precision    recall  f1-score   support\n",
      "\n",
      "           0       0.78      0.72      0.75      1975\n",
      "           1       0.95      0.96      0.95      9917\n",
      "\n",
      "    accuracy                           0.92     11892\n",
      "   macro avg       0.86      0.84      0.85     11892\n",
      "weighted avg       0.92      0.92      0.92     11892\n",
      "\n"
     ]
    }
   ],
   "source": [
    "fc.eval_clf_testset(grid_search_lin_svc, X_test_cv, y_test)"
   ]
  },
  {
   "cell_type": "markdown",
   "id": "4e6a8de8",
   "metadata": {},
   "source": [
    "Kết quả tương tự như các tham số mặc định, khác biệt nhỏ ở đây là Tìm kiếm dạng lưới cho thấy hàm loss trong `LinearSVC` là __hinge__."
   ]
  },
  {
   "cell_type": "markdown",
   "id": "52bf35a3",
   "metadata": {},
   "source": [
    "Các mô hình độc lập hoạt động tương đối tốt trên dữ liệu, bây giờ ta sẽ xem các mô hình học _ensemble_ hoạt động ra sao.\n",
    "\n",
    "Khởi đầu với `RandomForestClassifier` và các tham số mặc định:"
   ]
  },
  {
   "cell_type": "code",
   "execution_count": 43,
   "id": "313f9fc4",
   "metadata": {},
   "outputs": [
    {
     "name": "stdout",
     "output_type": "stream",
     "text": [
      "RandomForestClassifier training took 0.447 minutes.\n",
      "Train score : 0.9991710815583666\n",
      "Test score : 0.9159098553649512\n"
     ]
    }
   ],
   "source": [
    "from sklearn.ensemble import RandomForestClassifier\n",
    "\n",
    "forest = RandomForestClassifier(random_state = 42)\n",
    "t1 = time.time()\n",
    "forest.fit(X_train_cv, y_train)\n",
    "t2 = time.time()\n",
    "\n",
    "print('RandomForestClassifier training took {:.3f} minutes.'.format((t2 - t1) / 60))\n",
    "print('Train score : {}'.format(forest.score(X_train_cv, y_train)))\n",
    "print('Test score : {}'.format(forest.score(X_test_cv, y_test)))"
   ]
  },
  {
   "cell_type": "code",
   "execution_count": 44,
   "id": "ff0ef631",
   "metadata": {},
   "outputs": [
    {
     "data": {
      "text/plain": [
       "0.9071615987946858"
      ]
     },
     "execution_count": 44,
     "metadata": {},
     "output_type": "execute_result"
    }
   ],
   "source": [
    "forest_score = cross_val_score(forest, X_train_cv, y_train, cv=5)\n",
    "forest_score.mean()"
   ]
  },
  {
   "cell_type": "code",
   "execution_count": 45,
   "id": "ef60dd94",
   "metadata": {},
   "outputs": [
    {
     "name": "stdout",
     "output_type": "stream",
     "text": [
      "----- CLASSIFICATION MODEL PREFOMANCE IN TEST SET-----\n",
      "* R-squared model of Test: 0.9159\n",
      "\n",
      "* Confusion Matrix of Test: \n",
      "[[1090  885]\n",
      " [ 115 9802]]\n",
      "\n",
      "* Classification Report of Test: \n",
      "              precision    recall  f1-score   support\n",
      "\n",
      "           0       0.90      0.55      0.69      1975\n",
      "           1       0.92      0.99      0.95      9917\n",
      "\n",
      "    accuracy                           0.92     11892\n",
      "   macro avg       0.91      0.77      0.82     11892\n",
      "weighted avg       0.92      0.92      0.91     11892\n",
      "\n"
     ]
    }
   ],
   "source": [
    "fc.eval_clf_testset(forest, X_test_cv, y_test)"
   ]
  },
  {
   "cell_type": "markdown",
   "id": "41ea0532",
   "metadata": {},
   "source": [
    "Mô hình bị overfitting nhẹ và các điểm số đánh giá có vẻ khá thấp nếu so với các kết quả có được từ các mô hình phía trên. \n",
    "\n",
    "Ta sẽ dùng Tìm kiếm dạng lưới để tinh chỉnh các Siêu tham số với hy vọng mô hình sẽ hoạt động tốt hơn: "
   ]
  },
  {
   "cell_type": "code",
   "execution_count": 46,
   "id": "d5b51c85",
   "metadata": {},
   "outputs": [
    {
     "name": "stdout",
     "output_type": "stream",
     "text": [
      "Grid Search RandomForestClassifier took 20.38 minutes.\n"
     ]
    }
   ],
   "source": [
    "params_forest = {'n_estimators': [90, 120, 150],\n",
    "                'bootstrap': [True, False], \n",
    "                'max_depth': [1, 3, 5, 7, None]}\n",
    "\n",
    "grid_search_forest = GridSearchCV(RandomForestClassifier(random_state = 42), params_forest, cv=4)\n",
    "t1 = time.time()\n",
    "grid_search_forest.fit(X_train_cv, y_train)\n",
    "t2 = time.time()\n",
    "\n",
    "print('Grid Search RandomForestClassifier took {:.2f} minutes.'.format((t2 - t1) / 60))"
   ]
  },
  {
   "cell_type": "code",
   "execution_count": 47,
   "id": "836146ee",
   "metadata": {},
   "outputs": [
    {
     "data": {
      "text/plain": [
       "{'bootstrap': False, 'max_depth': None, 'n_estimators': 150}"
      ]
     },
     "execution_count": 47,
     "metadata": {},
     "output_type": "execute_result"
    }
   ],
   "source": [
    "grid_search_forest.best_params_"
   ]
  },
  {
   "cell_type": "code",
   "execution_count": 48,
   "id": "1e501d9d",
   "metadata": {},
   "outputs": [
    {
     "name": "stdout",
     "output_type": "stream",
     "text": [
      "Train score : 0.9991710815583666\n",
      "Test score : 0.9166666666666666\n"
     ]
    }
   ],
   "source": [
    "print('Train score : {}'.format(grid_search_forest.score(X_train_cv, y_train)))\n",
    "print('Test score : {}'.format(grid_search_forest.score(X_test_cv, y_test)))"
   ]
  },
  {
   "cell_type": "code",
   "execution_count": 50,
   "id": "8d907c53",
   "metadata": {},
   "outputs": [
    {
     "name": "stdout",
     "output_type": "stream",
     "text": [
      "----- CLASSIFICATION MODEL PREFOMANCE IN TEST SET-----\n",
      "* R-squared model of Test: 0.9167\n",
      "\n",
      "* Confusion Matrix of Test: \n",
      "[[1126  849]\n",
      " [ 142 9775]]\n",
      "\n",
      "* Classification Report of Test: \n",
      "              precision    recall  f1-score   support\n",
      "\n",
      "           0       0.89      0.57      0.69      1975\n",
      "           1       0.92      0.99      0.95      9917\n",
      "\n",
      "    accuracy                           0.92     11892\n",
      "   macro avg       0.90      0.78      0.82     11892\n",
      "weighted avg       0.91      0.92      0.91     11892\n",
      "\n"
     ]
    }
   ],
   "source": [
    "fc.eval_clf_testset(grid_search_forest, X_test_cv, y_test)"
   ]
  },
  {
   "cell_type": "markdown",
   "id": "985102db",
   "metadata": {},
   "source": [
    "Kết quả có vẻ không khả quan hơn so với các tham số mặc định.\n",
    "\n",
    "Một lựa chọn khác cho việc sử dụng Cây Quyết định trong lớp _ensemble_ của Sklearn là mô hình Cây Siêu ngẫu nhiên `ExtraTreesClassifier`\n",
    "\n",
    "`ExtraTreesClassifier` sử dụng ngưỡng ngẫu nhiên đối với từng đặc trưng thay vì tìm kiếm các ngưỡng tốt nhất nên thời gian chạy thuật toán sẽ rút ngắn so với `Decision Tree`:"
   ]
  },
  {
   "cell_type": "code",
   "execution_count": 51,
   "id": "9328c74e",
   "metadata": {},
   "outputs": [
    {
     "name": "stdout",
     "output_type": "stream",
     "text": [
      "ExtraTreesClassifier training took 3.81 minutes.\n",
      "Train score : 0.9991710815583666\n",
      "Test score : 0.9162462159434914\n"
     ]
    }
   ],
   "source": [
    "from sklearn.ensemble import ExtraTreesClassifier\n",
    "\n",
    "trees = ExtraTreesClassifier(n_estimators = 120, random_state = 42)\n",
    "t1 = time.time()\n",
    "trees.fit(X_train_cv, y_train)\n",
    "t2 = time.time()\n",
    "\n",
    "print('ExtraTreesClassifier training took {:.2f} minutes.'.format((t2 - t1) / 60))\n",
    "print('Train score : {}'.format(trees.score(X_train_cv, y_train)))\n",
    "print('Test score : {}'.format(trees.score(X_test_cv, y_test)))"
   ]
  },
  {
   "cell_type": "code",
   "execution_count": 52,
   "id": "14ed8edf",
   "metadata": {},
   "outputs": [
    {
     "data": {
      "text/plain": [
       "0.9074858711658136"
      ]
     },
     "execution_count": 52,
     "metadata": {},
     "output_type": "execute_result"
    }
   ],
   "source": [
    "trees_score = cross_val_score(trees, X_train_cv, y_train, cv=5)\n",
    "trees_score.mean()"
   ]
  },
  {
   "cell_type": "code",
   "execution_count": 53,
   "id": "e62b8083",
   "metadata": {
    "scrolled": true
   },
   "outputs": [
    {
     "name": "stdout",
     "output_type": "stream",
     "text": [
      "----- CLASSIFICATION MODEL PREFOMANCE IN TEST SET-----\n",
      "* R-squared model of Test: 0.9162\n",
      "\n",
      "* Confusion Matrix of Test: \n",
      "[[1110  865]\n",
      " [ 131 9786]]\n",
      "\n",
      "* Classification Report of Test: \n",
      "              precision    recall  f1-score   support\n",
      "\n",
      "           0       0.89      0.56      0.69      1975\n",
      "           1       0.92      0.99      0.95      9917\n",
      "\n",
      "    accuracy                           0.92     11892\n",
      "   macro avg       0.91      0.77      0.82     11892\n",
      "weighted avg       0.91      0.92      0.91     11892\n",
      "\n"
     ]
    }
   ],
   "source": [
    "fc.eval_clf_testset(trees, X_test_cv, y_test)"
   ]
  },
  {
   "cell_type": "markdown",
   "id": "317056ce",
   "metadata": {},
   "source": [
    "- Hiệu suất của Cây siêu ngẫu nhiên khá tương đồng với Rừng ngẫu nhiên: phân loại khá kém ở lớp 0.\n",
    "\n",
    "\n",
    "\n",
    "- Ta sẽ thử một thuật toán khác trong lớp _ensemble_: `XGBoost`"
   ]
  },
  {
   "cell_type": "code",
   "execution_count": 54,
   "id": "e4961f20",
   "metadata": {},
   "outputs": [
    {
     "name": "stdout",
     "output_type": "stream",
     "text": [
      "Train score : 0.9526074890979205\n",
      "Test score : 0.9289438277833838\n"
     ]
    }
   ],
   "source": [
    "import xgboost as xgb\n",
    "\n",
    "xgb_clf = xgb.XGBClassifier(random_state = 42)\n",
    "xgb_clf.fit(X_train_cv, y_train)\n",
    "\n",
    "print('Train score : {}'.format(xgb_clf.score(X_train_cv, y_train)))\n",
    "print('Test score : {}'.format(xgb_clf.score(X_test_cv, y_test)))"
   ]
  },
  {
   "cell_type": "code",
   "execution_count": 55,
   "id": "518e6dce",
   "metadata": {},
   "outputs": [
    {
     "data": {
      "text/plain": [
       "0.9197033797177967"
      ]
     },
     "execution_count": 55,
     "metadata": {},
     "output_type": "execute_result"
    }
   ],
   "source": [
    "xgb_clf_score = cross_val_score(xgb_clf, X_train_cv, y_train)\n",
    "xgb_clf_score.mean()"
   ]
  },
  {
   "cell_type": "code",
   "execution_count": 56,
   "id": "5a2b3b3a",
   "metadata": {},
   "outputs": [
    {
     "name": "stdout",
     "output_type": "stream",
     "text": [
      "----- CLASSIFICATION MODEL PREFOMANCE IN TEST SET-----\n",
      "* R-squared model of Test: 0.9289\n",
      "\n",
      "* Confusion Matrix of Test: \n",
      "[[1377  598]\n",
      " [ 247 9670]]\n",
      "\n",
      "* Classification Report of Test: \n",
      "              precision    recall  f1-score   support\n",
      "\n",
      "           0       0.85      0.70      0.77      1975\n",
      "           1       0.94      0.98      0.96      9917\n",
      "\n",
      "    accuracy                           0.93     11892\n",
      "   macro avg       0.89      0.84      0.86     11892\n",
      "weighted avg       0.93      0.93      0.93     11892\n",
      "\n"
     ]
    }
   ],
   "source": [
    "fc.eval_clf_testset(xgb_clf, X_test_cv, y_test)"
   ]
  },
  {
   "cell_type": "markdown",
   "id": "459977f8",
   "metadata": {},
   "source": [
    "`XGBoost` khớp dữ liệu tương đối tốt, các chỉ số metrics ở lớp 0 được cải thiện tốt hơn so với các thuật toán cùng lớp phía trên."
   ]
  },
  {
   "cell_type": "code",
   "execution_count": 79,
   "id": "11dac576",
   "metadata": {},
   "outputs": [
    {
     "data": {
      "image/png": "[encoded data removed]",
      "text/plain": [
       "<Figure size 864x432 with 1 Axes>"
      ]
     },
     "metadata": {
      "needs_background": "light"
     },
     "output_type": "display_data"
    }
   ],
   "source": [
    "plt.figure(figsize = (12, 6))\n",
    "plt.plot([1] * 5, multiNB_score, '.')\n",
    "plt.plot([2] * 5, logit_score, '.')\n",
    "plt.plot([3] * 5, svc_score, '.')\n",
    "plt.plot([4] * 5, lin_svc_gr, '.')\n",
    "plt.plot([5] * 5, forest_score, '.')\n",
    "plt.plot([6] * 5, trees_score, '.')\n",
    "plt.plot([7] * 5, xgb_clf_score, '.')\n",
    "plt.plot([8] * 5, ber_score, '.')\n",
    "\n",
    "plt.boxplot([multiNB_score, logit_score, svc_score, lin_svc_gr, \n",
    "             forest_score, trees_score, xgb_clf_score, ber_score],\n",
    "           labels = ['Multinomial', 'Logistic', 'SVC', 'LinearSVC', \n",
    "                     'Random Forest', 'Extra Trees', 'XGBoost', 'BernoulliNB'])\n",
    "plt.ylabel('Accuracy', fontsize = 15)\n",
    "plt.ylim([0.90, 0.95])\n",
    "plt.grid(True)\n",
    "plt.title('Classification Model Performance by Accuracy Score \\n', fontsize = 18, color = 'b');"
   ]
  },
  {
   "cell_type": "markdown",
   "id": "939c6c54",
   "metadata": {},
   "source": [
    "Biểu đồ trên đánh giá độ chính xác trên 5 fold kiểm định chéo trên tập huấn luyện.  Nhìn chung, các bộ phân loại mà ta sử dụng hoạt động khá tốt trên tập huấn luyện, độ chính xác >= 90%. Có thể thấy các bộ phân loại đơn lẻ hoạt động tốt hơn một chút so với các bộ phân loại kết hợp.\n",
    "\n",
    "\n",
    "Việc chọn ra một thuật toán phân loại tốt nhất cho tập huấn luyện trên có vẻ hơi khó khăn một chút, vì các chỉ số đánh giá một bộ phân loại mà ta quan tâm trong trường hợp này không hẳn chỉ dựa trên _accuracy score_. Việc quan tâm đến _precision, recall, f1-score_ trên từng lớp sẽ cho cái nhìn tổng quát hơn.\n",
    "\n",
    "\n",
    "Một cách tiếp cận cho trường hợp này là kết hợp các bộ phân loại với nhau thành một bộ phân loại biểu quyết. Điều này có vẻ khả thi vì trên cùng một bộ dữ liệu, ta đã huấn luyện 8 bộ phân loại độc lập khác nhau, điều này làm tăng khả năng các bộ phân loại này mắc phải những lỗi rất khác nhau. Việc kết hợp các bộ phân loại này thành một bộ phân loại ___ensemble___ có thể cải thiện độ chính xác và các chỉ số đánh giá khác.\n",
    "\n",
    "\n",
    "Ta sẽ xây dựng một bộ phân loại biểu quyết với các mô hình dự đoán phía trên kèm theo các siêu tham số đã được tinh chỉnh của chúng. Để rút ngắn thời gian huấn luyện và tăng hiệu quả cho bộ phân loại biểu quyết, ta sẽ chỉ lựa chọn các bộ phân loại có độ chính xác trên 5 fold kiểm định chéo đều từ 0.91 trở lên: `Logistic Regression, SVC, XGBoost` được lựa chọn.\n",
    "\n",
    "\n",
    "Bắt đầu với `Voting Classifier` trong lớp _ensemble_ của Sklearn:"
   ]
  },
  {
   "cell_type": "code",
   "execution_count": 62,
   "id": "96a5f8a2",
   "metadata": {},
   "outputs": [
    {
     "name": "stdout",
     "output_type": "stream",
     "text": [
      "Voting Classifier training took 30.84 minutes.\n"
     ]
    }
   ],
   "source": [
    "from sklearn.ensemble import VotingClassifier\n",
    "\n",
    "multiNB = MultinomialNB()\n",
    "logit_clf = LogisticRegression(random_state = 42)\n",
    "svc = SVC(probability = True, random_state = 42)\n",
    "lin_svc = LinearSVC(loss = 'hinge', random_state = 42)\n",
    "forest_clf = RandomForestClassifier(random_state = 42)\n",
    "trees_clf = ExtraTreesClassifier(random_state = 42)\n",
    "xgb_clf = xgb.XGBClassifier(random_state = 42)\n",
    "\n",
    "named_estimators = [\n",
    "#                     ('multiNB', multiNB),\n",
    "                    ('logit_clf', logit_clf),\n",
    "                    ('svc', svc),\n",
    "#                     ('lin_svc', lin_svc),\n",
    "#                     ('forest_clf', forest_clf),\n",
    "#                     ('trees_clf', trees_clf),\n",
    "                    ('xgb_clf', xgb_clf)\n",
    "                    ]\n",
    "\n",
    "voting_clf = VotingClassifier(named_estimators)\n",
    "t1 = time.time()\n",
    "voting_clf.fit(X_train_cv, y_train)\n",
    "t2 = time.time()\n",
    "\n",
    "print('Voting Classifier training took {:.2f} minutes.'.format((t2 - t1) / 60))"
   ]
  },
  {
   "cell_type": "code",
   "execution_count": 63,
   "id": "2751da6f",
   "metadata": {},
   "outputs": [
    {
     "data": {
      "text/plain": [
       "0.9581576386636393"
      ]
     },
     "execution_count": 63,
     "metadata": {},
     "output_type": "execute_result"
    }
   ],
   "source": [
    "voting_clf.score(X_train_cv, y_train)"
   ]
  },
  {
   "cell_type": "code",
   "execution_count": 64,
   "id": "7adf7c94",
   "metadata": {},
   "outputs": [
    {
     "name": "stdout",
     "output_type": "stream",
     "text": [
      "Voting Score: 0.925433817309831\n",
      "Voting Classifier cross-validation took 41.39 minutes.\n"
     ]
    }
   ],
   "source": [
    "t1 = time.time()\n",
    "voting_clf_score = cross_val_score(voting_clf, X_train_cv, y_train, cv=5)\n",
    "t2 = time.time()\n",
    "\n",
    "print('Voting Score: {}'.format(voting_clf_score.mean()))\n",
    "print('Voting Classifier cross-validation took {:.2f} minutes.'.format((t2 - t1) / 60))"
   ]
  },
  {
   "cell_type": "markdown",
   "id": "51b66608",
   "metadata": {},
   "source": [
    "Trung bình điểm số đánh giá trên 5 fold cao hơn hẳn so với bất kỳ bộ phân loại nào trước đó.\n",
    "\n",
    "Ta sẽ xem mô hình hoạt động ra sao trên tập kiểm tra:"
   ]
  },
  {
   "cell_type": "code",
   "execution_count": 65,
   "id": "b98ef0a6",
   "metadata": {},
   "outputs": [
    {
     "name": "stdout",
     "output_type": "stream",
     "text": [
      "----- CLASSIFICATION MODEL PREFOMANCE IN TEST SET-----\n",
      "* R-squared model of Test: 0.9338\n",
      "\n",
      "* Confusion Matrix of Test: \n",
      "[[1390  585]\n",
      " [ 202 9715]]\n",
      "\n",
      "* Classification Report of Test: \n",
      "              precision    recall  f1-score   support\n",
      "\n",
      "           0       0.87      0.70      0.78      1975\n",
      "           1       0.94      0.98      0.96      9917\n",
      "\n",
      "    accuracy                           0.93     11892\n",
      "   macro avg       0.91      0.84      0.87     11892\n",
      "weighted avg       0.93      0.93      0.93     11892\n",
      "\n"
     ]
    }
   ],
   "source": [
    "fc.eval_clf_testset(voting_clf, X_test_cv, y_test)"
   ]
  },
  {
   "cell_type": "markdown",
   "id": "6a107a64",
   "metadata": {},
   "source": [
    "- Các chỉ số đánh giá trên tập kiểm tra có cải thiện hơn so với các bộ phân loại trước đó."
   ]
  },
  {
   "cell_type": "code",
   "execution_count": 162,
   "id": "2e39ac9c",
   "metadata": {},
   "outputs": [
    {
     "data": {
      "image/png": "[encoded data removed]",
      "text/plain": [
       "<Figure size 864x432 with 1 Axes>"
      ]
     },
     "metadata": {
      "needs_background": "light"
     },
     "output_type": "display_data"
    }
   ],
   "source": [
    "plt.figure(figsize = (12, 6))\n",
    "plt.plot([1] * 5, multiNB_score, '.')\n",
    "plt.plot([2] * 5, logit_score, '.')\n",
    "plt.plot([3] * 5, svc_score, '.')\n",
    "plt.plot([4] * 5, lin_svc_gr, '.')\n",
    "plt.plot([5] * 5, forest_score, '.')\n",
    "plt.plot([6] * 5, trees_score, '.')\n",
    "plt.plot([7] * 5, xgb_clf_score, '.')\n",
    "plt.plot([8] * 5, ber_score, '.')\n",
    "plt.plot([9] * 5, voting_clf_score, '.')\n",
    "plt.boxplot([multiNB_score, logit_score, svc_score, lin_svc_gr, \n",
    "             forest_score, trees_score, xgb_clf_score, ber_score, voting_clf_score],\n",
    "           labels = ['Multinomial', 'Logistic', 'SVC', 'LinearSVC', \n",
    "                     'Random Forest', 'Extra Trees', 'XGBoost', 'BernoulliNB', 'VOTING'])\n",
    "plt.ylabel('Accuracy', fontsize = 15)\n",
    "plt.ylim([0.90, 0.95])\n",
    "plt.grid(True)\n",
    "plt.title('Classification Model Performance by Accuracy Score \\n', fontsize = 18, color = 'b');"
   ]
  },
  {
   "cell_type": "markdown",
   "id": "91c8bed3",
   "metadata": {},
   "source": [
    "Bộ phân loại biểu quyết có thể là mô hình phân loại khá ổn cho đến thời điểm này.\n",
    "\n",
    "Bộ phân loại biểu quyết mà ta đang sử dụng dựa trên biểu quyết cứng _(hard voting)_. Ta sẽ thay đổi thành bộ biểu quyết mềm _(soft voting)_ với hy vọng độ chính xác sẽ cải thiện hơn:\n",
    "\n",
    "- _Soft voting_ thường đạt chất lượng cao hơn vì sử dụng phương thức ước tính xác suất của từng lớp, đồng thời, các biểu quyết có độ tin cậy cao  sẽ được gán trọng số lớn hơn.\n",
    "- Các bộ phân loại ta đã sử dụng mặc định đều có phương thức `predict_proba`, ngoại trừ `SVC`. Đối với `SVC`, ta sẽ chỉnh tham số `probability = True` để có phương thức ước tính xác suất các lớp, đánh đổi bằng thời gian huấn luyện lâu hơn."
   ]
  },
  {
   "cell_type": "code",
   "execution_count": 67,
   "id": "45e16c3f",
   "metadata": {},
   "outputs": [
    {
     "name": "stdout",
     "output_type": "stream",
     "text": [
      "Voting Modified training took 750.04s.\n"
     ]
    }
   ],
   "source": [
    "named_estimators1 = [\n",
    "#                     ('multiNB', multiNB),\n",
    "                    ('logit_clf', logit_clf),\n",
    "                    ('svc', svc),\n",
    "#                     ('lin_svc', lin_svc),\n",
    "#                     ('forest_clf', forest_clf),\n",
    "#                     ('trees_clf', trees_clf),\n",
    "                    ('xgb_clf', xgb_clf)\n",
    "                    ]\n",
    "\n",
    "\n",
    "\n",
    "voting_modified = VotingClassifier(named_estimators1)\n",
    "t1 = time.time()\n",
    "voting_modified.fit(X_train_cv, y_train)\n",
    "t2 = time.time()\n",
    "\n",
    "print('Voting Modified training took {:.2f}s.'.format(t2 - t1))"
   ]
  },
  {
   "cell_type": "markdown",
   "id": "5fcbcaf8",
   "metadata": {},
   "source": [
    "Mô hình biểu quyết này vẫn là ___hard voting___ , ta sẽ so sánh với ___soft voting___ :"
   ]
  },
  {
   "cell_type": "code",
   "execution_count": 68,
   "id": "787d22ff",
   "metadata": {},
   "outputs": [
    {
     "name": "stdout",
     "output_type": "stream",
     "text": [
      "Hard Voting score: 0.93\n",
      "Hard Voting time: 26.89 minutes.\n"
     ]
    }
   ],
   "source": [
    "t1 = time.time()\n",
    "hard_score = cross_val_score(voting_modified, X_train_cv, y_train)\n",
    "t2 = time.time()\n",
    "print('Hard Voting score: {:.2f}'.format(hard_score.mean()))\n",
    "print('Hard Voting time: {:.2f} minutes.'.format((t2 - t1) / 60))"
   ]
  },
  {
   "cell_type": "code",
   "execution_count": 69,
   "id": "648b7e38",
   "metadata": {},
   "outputs": [
    {
     "name": "stdout",
     "output_type": "stream",
     "text": [
      "----- CLASSIFICATION MODEL PREFOMANCE IN TEST SET-----\n",
      "* R-squared model of Test: 0.9338\n",
      "\n",
      "* Confusion Matrix of Test: \n",
      "[[1390  585]\n",
      " [ 202 9715]]\n",
      "\n",
      "* Classification Report of Test: \n",
      "              precision    recall  f1-score   support\n",
      "\n",
      "           0       0.87      0.70      0.78      1975\n",
      "           1       0.94      0.98      0.96      9917\n",
      "\n",
      "    accuracy                           0.93     11892\n",
      "   macro avg       0.91      0.84      0.87     11892\n",
      "weighted avg       0.93      0.93      0.93     11892\n",
      "\n"
     ]
    }
   ],
   "source": [
    "fc.eval_clf_testset(voting_modified, X_test_cv, y_test)"
   ]
  },
  {
   "cell_type": "markdown",
   "id": "f7c50fb0",
   "metadata": {},
   "source": [
    "Bây giờ ta sẽ đổi thành bộ phân loại biểu quyết ___soft voting___ :"
   ]
  },
  {
   "cell_type": "code",
   "execution_count": 70,
   "id": "41d5d06f",
   "metadata": {},
   "outputs": [],
   "source": [
    "voting_modified.voting = 'soft'"
   ]
  },
  {
   "cell_type": "code",
   "execution_count": 95,
   "id": "815dbc8d",
   "metadata": {},
   "outputs": [
    {
     "name": "stdout",
     "output_type": "stream",
     "text": [
      "Soft Voting score: 0.93\n",
      "Soft Voting time: 20.14 minutes.\n"
     ]
    }
   ],
   "source": [
    "t1 = time.time()\n",
    "soft_score = cross_val_score(voting_modified, X_train_cv, y_train)\n",
    "t2 = time.time()\n",
    "print('Soft Voting score: {:.2f}'.format(soft_score.mean()))\n",
    "print('Soft Voting time: {:.2f} minutes.'.format((t2 - t1) / 60))"
   ]
  },
  {
   "cell_type": "code",
   "execution_count": 72,
   "id": "da4e6f6e",
   "metadata": {},
   "outputs": [
    {
     "name": "stdout",
     "output_type": "stream",
     "text": [
      "----- CLASSIFICATION MODEL PREFOMANCE IN TEST SET-----\n",
      "* R-squared model of Test: 0.9342\n",
      "\n",
      "* Confusion Matrix of Test: \n",
      "[[1441  534]\n",
      " [ 249 9668]]\n",
      "\n",
      "* Classification Report of Test: \n",
      "              precision    recall  f1-score   support\n",
      "\n",
      "           0       0.85      0.73      0.79      1975\n",
      "           1       0.95      0.97      0.96      9917\n",
      "\n",
      "    accuracy                           0.93     11892\n",
      "   macro avg       0.90      0.85      0.87     11892\n",
      "weighted avg       0.93      0.93      0.93     11892\n",
      "\n"
     ]
    }
   ],
   "source": [
    "fc.eval_clf_testset(voting_modified, X_test_cv, y_test)"
   ]
  },
  {
   "cell_type": "markdown",
   "id": "fc3056ab",
   "metadata": {},
   "source": [
    "Kiểm định chéo với ___soft voting___ cho kết quả tương đương so với ___hard voting___, tuy nhiên thời gian xử lý ngắn hơn. Ta sẽ dùng bộ phân loại biểu quyết với phương thức `soft voting` để lưu model và đánh giá trên dữ liệu mới."
   ]
  },
  {
   "cell_type": "markdown",
   "id": "3714a0e5",
   "metadata": {},
   "source": [
    "Ta sẽ dùng một cách tiếp cận khác cho việc phân loại, đó là sử dụng mạng `Neural Network` với lớp _Embedding_ cho việc xử lý ngôn ngữ tự nhiên, mạng tích chập 1 chiều và LSTM 2 chiều."
   ]
  },
  {
   "cell_type": "code",
   "execution_count": 82,
   "id": "26d98766",
   "metadata": {},
   "outputs": [],
   "source": [
    "vocab_size = 1200\n",
    "max_length = 150\n",
    "embedding_dim = 64\n",
    "oov_tok = '<OOV>'\n",
    "padding_type = 'post'\n",
    "trunc_type = 'post'"
   ]
  },
  {
   "cell_type": "markdown",
   "id": "17f8a902",
   "metadata": {},
   "source": [
    "- Xử lý ngôn ngữ tự nhiên với lớp `Tokenizer`:"
   ]
  },
  {
   "cell_type": "code",
   "execution_count": 83,
   "id": "6674a849",
   "metadata": {},
   "outputs": [],
   "source": [
    "from tensorflow.keras.preprocessing.text import Tokenizer\n",
    "from tensorflow.keras.preprocessing.sequence import pad_sequences\n",
    "\n",
    "tokenizer = Tokenizer(num_words = vocab_size, oov_token = oov_tok)\n",
    "tokenizer.fit_on_texts(X_train)\n",
    "word_index = tokenizer.word_index\n",
    "\n",
    "train_sequence = tokenizer.texts_to_sequences(X_train)\n",
    "train_padded = pad_sequences(train_sequence, maxlen = max_length, padding = padding_type, truncating = trunc_type)\n",
    "\n",
    "valid_sequence = tokenizer.texts_to_sequences(X_test)\n",
    "valid_padded = pad_sequences(valid_sequence, maxlen = max_length, padding = padding_type, truncating = trunc_type)"
   ]
  },
  {
   "cell_type": "markdown",
   "id": "402ddb4c",
   "metadata": {},
   "source": [
    "Bắt đầu phân loại với lớp `GlobalAveragePooling1D`:"
   ]
  },
  {
   "cell_type": "code",
   "execution_count": 84,
   "id": "2a006b22",
   "metadata": {
    "scrolled": true
   },
   "outputs": [
    {
     "name": "stdout",
     "output_type": "stream",
     "text": [
      "Epoch 1/150\n",
      "868/868 - 2s - loss: 0.2769 - accuracy: 0.8912 - val_loss: 0.1949 - val_accuracy: 0.9250 - 2s/epoch - 2ms/step\n",
      "Epoch 2/150\n",
      "868/868 - 1s - loss: 0.1837 - accuracy: 0.9297 - val_loss: 0.1887 - val_accuracy: 0.9273 - 1s/epoch - 1ms/step\n",
      "Epoch 3/150\n",
      "868/868 - 1s - loss: 0.1755 - accuracy: 0.9331 - val_loss: 0.1809 - val_accuracy: 0.9318 - 1s/epoch - 1ms/step\n",
      "Epoch 4/150\n",
      "868/868 - 1s - loss: 0.1675 - accuracy: 0.9347 - val_loss: 0.1750 - val_accuracy: 0.9337 - 1s/epoch - 1ms/step\n",
      "Epoch 5/150\n",
      "868/868 - 1s - loss: 0.1620 - accuracy: 0.9375 - val_loss: 0.1842 - val_accuracy: 0.9288 - 1s/epoch - 1ms/step\n",
      "Epoch 6/150\n",
      "868/868 - 1s - loss: 0.1574 - accuracy: 0.9386 - val_loss: 0.1931 - val_accuracy: 0.9203 - 1s/epoch - 2ms/step\n",
      "Epoch 7/150\n",
      "868/868 - 2s - loss: 0.1545 - accuracy: 0.9397 - val_loss: 0.1813 - val_accuracy: 0.9325 - 2s/epoch - 2ms/step\n",
      "Epoch 8/150\n",
      "868/868 - 1s - loss: 0.1497 - accuracy: 0.9400 - val_loss: 0.1865 - val_accuracy: 0.9319 - 1s/epoch - 1ms/step\n",
      "Epoch 9/150\n",
      "868/868 - 1s - loss: 0.1455 - accuracy: 0.9428 - val_loss: 0.1843 - val_accuracy: 0.9336 - 1s/epoch - 1ms/step\n",
      "Epoch 10/150\n",
      "868/868 - 1s - loss: 0.1431 - accuracy: 0.9431 - val_loss: 0.1865 - val_accuracy: 0.9340 - 1s/epoch - 1ms/step\n",
      "Epoch 11/150\n",
      "868/868 - 1s - loss: 0.1404 - accuracy: 0.9439 - val_loss: 0.2083 - val_accuracy: 0.9220 - 1s/epoch - 1ms/step\n",
      "Epoch 12/150\n",
      "868/868 - 1s - loss: 0.1374 - accuracy: 0.9464 - val_loss: 0.2206 - val_accuracy: 0.9169 - 1s/epoch - 1ms/step\n",
      "Epoch 13/150\n",
      "868/868 - 1s - loss: 0.1364 - accuracy: 0.9448 - val_loss: 0.2050 - val_accuracy: 0.9324 - 1s/epoch - 2ms/step\n",
      "Epoch 14/150\n",
      "868/868 - 1s - loss: 0.1326 - accuracy: 0.9464 - val_loss: 0.2086 - val_accuracy: 0.9290 - 1s/epoch - 1ms/step\n",
      "Epoch 15/150\n",
      "868/868 - 1s - loss: 0.1321 - accuracy: 0.9473 - val_loss: 0.2144 - val_accuracy: 0.9316 - 1s/epoch - 1ms/step\n",
      "Epoch 16/150\n",
      "868/868 - 1s - loss: 0.1276 - accuracy: 0.9480 - val_loss: 0.2182 - val_accuracy: 0.9311 - 1s/epoch - 1ms/step\n",
      "Epoch 17/150\n",
      "868/868 - 1s - loss: 0.1239 - accuracy: 0.9491 - val_loss: 0.2268 - val_accuracy: 0.9300 - 1s/epoch - 1ms/step\n",
      "Epoch 18/150\n",
      "868/868 - 1s - loss: 0.1204 - accuracy: 0.9497 - val_loss: 0.2266 - val_accuracy: 0.9270 - 1s/epoch - 1ms/step\n",
      "Epoch 19/150\n",
      "868/868 - 1s - loss: 0.1177 - accuracy: 0.9512 - val_loss: 0.2437 - val_accuracy: 0.9274 - 1s/epoch - 1ms/step\n",
      "Epoch 20/150\n",
      "868/868 - 1s - loss: 0.1142 - accuracy: 0.9527 - val_loss: 0.2391 - val_accuracy: 0.9293 - 1s/epoch - 2ms/step\n",
      "Epoch 21/150\n",
      "868/868 - 2s - loss: 0.1106 - accuracy: 0.9525 - val_loss: 0.2527 - val_accuracy: 0.9278 - 2s/epoch - 2ms/step\n",
      "Epoch 22/150\n",
      "868/868 - 1s - loss: 0.1088 - accuracy: 0.9536 - val_loss: 0.2585 - val_accuracy: 0.9256 - 1s/epoch - 2ms/step\n",
      "Epoch 23/150\n",
      "868/868 - 1s - loss: 0.1033 - accuracy: 0.9578 - val_loss: 0.2952 - val_accuracy: 0.9273 - 1s/epoch - 1ms/step\n",
      "Epoch 24/150\n",
      "868/868 - 1s - loss: 0.1006 - accuracy: 0.9581 - val_loss: 0.3312 - val_accuracy: 0.9202 - 1s/epoch - 2ms/step\n",
      "Epoch 25/150\n",
      "868/868 - 1s - loss: 0.0967 - accuracy: 0.9604 - val_loss: 0.3057 - val_accuracy: 0.9224 - 1s/epoch - 1ms/step\n",
      "Epoch 26/150\n",
      "868/868 - 1s - loss: 0.0947 - accuracy: 0.9606 - val_loss: 0.3312 - val_accuracy: 0.9126 - 1s/epoch - 2ms/step\n",
      "Epoch 27/150\n",
      "868/868 - 1s - loss: 0.0938 - accuracy: 0.9625 - val_loss: 0.3271 - val_accuracy: 0.9189 - 1s/epoch - 1ms/step\n",
      "Epoch 28/150\n",
      "868/868 - 2s - loss: 0.0867 - accuracy: 0.9647 - val_loss: 0.3381 - val_accuracy: 0.9140 - 2s/epoch - 2ms/step\n",
      "Epoch 29/150\n",
      "868/868 - 1s - loss: 0.0863 - accuracy: 0.9657 - val_loss: 0.3652 - val_accuracy: 0.9190 - 1s/epoch - 2ms/step\n",
      "Epoch 30/150\n",
      "868/868 - 1s - loss: 0.0821 - accuracy: 0.9670 - val_loss: 0.3840 - val_accuracy: 0.9201 - 1s/epoch - 2ms/step\n",
      "Epoch 31/150\n",
      "868/868 - 1s - loss: 0.0799 - accuracy: 0.9670 - val_loss: 0.3770 - val_accuracy: 0.9191 - 1s/epoch - 2ms/step\n",
      "Epoch 32/150\n",
      "868/868 - 1s - loss: 0.0776 - accuracy: 0.9683 - val_loss: 0.4199 - val_accuracy: 0.9157 - 1s/epoch - 1ms/step\n",
      "Epoch 33/150\n",
      "868/868 - 1s - loss: 0.0724 - accuracy: 0.9708 - val_loss: 0.4157 - val_accuracy: 0.9142 - 1s/epoch - 1ms/step\n",
      "Epoch 34/150\n",
      "868/868 - 1s - loss: 0.0694 - accuracy: 0.9724 - val_loss: 0.4313 - val_accuracy: 0.9103 - 1s/epoch - 2ms/step\n",
      "Epoch 35/150\n",
      "868/868 - 1s - loss: 0.0657 - accuracy: 0.9729 - val_loss: 0.4536 - val_accuracy: 0.9119 - 1s/epoch - 1ms/step\n",
      "Epoch 36/150\n",
      "868/868 - 1s - loss: 0.0646 - accuracy: 0.9736 - val_loss: 0.5111 - val_accuracy: 0.9092 - 1s/epoch - 1ms/step\n",
      "Epoch 37/150\n",
      "868/868 - 1s - loss: 0.0630 - accuracy: 0.9753 - val_loss: 0.4926 - val_accuracy: 0.9057 - 1s/epoch - 2ms/step\n",
      "Epoch 38/150\n",
      "868/868 - 1s - loss: 0.0609 - accuracy: 0.9771 - val_loss: 0.5637 - val_accuracy: 0.9149 - 1s/epoch - 2ms/step\n",
      "Epoch 39/150\n",
      "868/868 - 1s - loss: 0.0577 - accuracy: 0.9765 - val_loss: 0.5562 - val_accuracy: 0.9108 - 1s/epoch - 2ms/step\n",
      "Epoch 40/150\n",
      "868/868 - 1s - loss: 0.0580 - accuracy: 0.9776 - val_loss: 0.5806 - val_accuracy: 0.9133 - 1s/epoch - 1ms/step\n",
      "Epoch 41/150\n",
      "868/868 - 1s - loss: 0.0539 - accuracy: 0.9783 - val_loss: 0.6564 - val_accuracy: 0.9208 - 1s/epoch - 2ms/step\n",
      "Epoch 42/150\n",
      "868/868 - 1s - loss: 0.0544 - accuracy: 0.9793 - val_loss: 0.5898 - val_accuracy: 0.9120 - 1s/epoch - 1ms/step\n",
      "Epoch 43/150\n",
      "868/868 - 1s - loss: 0.0527 - accuracy: 0.9801 - val_loss: 0.6973 - val_accuracy: 0.9117 - 1s/epoch - 1ms/step\n",
      "Epoch 44/150\n",
      "868/868 - 1s - loss: 0.0501 - accuracy: 0.9812 - val_loss: 0.6853 - val_accuracy: 0.9097 - 1s/epoch - 1ms/step\n",
      "Epoch 45/150\n",
      "868/868 - 1s - loss: 0.0484 - accuracy: 0.9813 - val_loss: 0.7027 - val_accuracy: 0.9094 - 1s/epoch - 1ms/step\n",
      "Epoch 46/150\n",
      "868/868 - 2s - loss: 0.0488 - accuracy: 0.9812 - val_loss: 0.6913 - val_accuracy: 0.9125 - 2s/epoch - 2ms/step\n",
      "Epoch 47/150\n",
      "868/868 - 1s - loss: 0.0446 - accuracy: 0.9818 - val_loss: 0.7114 - val_accuracy: 0.8977 - 1s/epoch - 2ms/step\n",
      "Epoch 48/150\n",
      "868/868 - 1s - loss: 0.0422 - accuracy: 0.9836 - val_loss: 0.7605 - val_accuracy: 0.9037 - 1s/epoch - 1ms/step\n",
      "Epoch 49/150\n",
      "868/868 - 1s - loss: 0.0411 - accuracy: 0.9840 - val_loss: 0.8218 - val_accuracy: 0.9146 - 1s/epoch - 1ms/step\n",
      "Epoch 50/150\n",
      "868/868 - 1s - loss: 0.0438 - accuracy: 0.9818 - val_loss: 0.8207 - val_accuracy: 0.9160 - 1s/epoch - 1ms/step\n",
      "Epoch 51/150\n",
      "868/868 - 1s - loss: 0.0417 - accuracy: 0.9837 - val_loss: 0.8099 - val_accuracy: 0.9108 - 1s/epoch - 1ms/step\n",
      "Epoch 52/150\n",
      "868/868 - 1s - loss: 0.0400 - accuracy: 0.9841 - val_loss: 0.8618 - val_accuracy: 0.9078 - 1s/epoch - 1ms/step\n",
      "Epoch 53/150\n",
      "868/868 - 1s - loss: 0.0403 - accuracy: 0.9841 - val_loss: 0.8439 - val_accuracy: 0.9136 - 1s/epoch - 1ms/step\n",
      "Epoch 54/150\n",
      "868/868 - 1s - loss: 0.0374 - accuracy: 0.9853 - val_loss: 0.8402 - val_accuracy: 0.9095 - 1s/epoch - 1ms/step\n",
      "Epoch 55/150\n",
      "868/868 - 1s - loss: 0.0388 - accuracy: 0.9844 - val_loss: 0.7894 - val_accuracy: 0.9104 - 1s/epoch - 1ms/step\n",
      "Epoch 56/150\n",
      "868/868 - 1s - loss: 0.0497 - accuracy: 0.9812 - val_loss: 0.9213 - val_accuracy: 0.9172 - 1s/epoch - 1ms/step\n",
      "Epoch 57/150\n",
      "868/868 - 1s - loss: 0.0342 - accuracy: 0.9868 - val_loss: 0.9554 - val_accuracy: 0.9098 - 1s/epoch - 1ms/step\n",
      "Epoch 58/150\n",
      "868/868 - 1s - loss: 0.0335 - accuracy: 0.9869 - val_loss: 0.9915 - val_accuracy: 0.9117 - 1s/epoch - 1ms/step\n",
      "Epoch 59/150\n",
      "868/868 - 1s - loss: 0.0326 - accuracy: 0.9872 - val_loss: 0.9986 - val_accuracy: 0.9157 - 1s/epoch - 1ms/step\n",
      "Epoch 60/150\n",
      "868/868 - 1s - loss: 0.0407 - accuracy: 0.9835 - val_loss: 0.9319 - val_accuracy: 0.9084 - 1s/epoch - 1ms/step\n",
      "Epoch 61/150\n",
      "868/868 - 1s - loss: 0.0339 - accuracy: 0.9867 - val_loss: 0.9384 - val_accuracy: 0.9083 - 1s/epoch - 1ms/step\n",
      "Epoch 62/150\n",
      "868/868 - 1s - loss: 0.0319 - accuracy: 0.9880 - val_loss: 1.0634 - val_accuracy: 0.9131 - 1s/epoch - 1ms/step\n",
      "Epoch 63/150\n",
      "868/868 - 1s - loss: 0.0327 - accuracy: 0.9872 - val_loss: 1.0027 - val_accuracy: 0.8882 - 1s/epoch - 1ms/step\n",
      "Epoch 64/150\n",
      "868/868 - 1s - loss: 0.0336 - accuracy: 0.9865 - val_loss: 1.0725 - val_accuracy: 0.9140 - 1s/epoch - 1ms/step\n",
      "Epoch 65/150\n",
      "868/868 - 1s - loss: 0.0319 - accuracy: 0.9878 - val_loss: 1.0441 - val_accuracy: 0.9109 - 1s/epoch - 1ms/step\n",
      "Epoch 66/150\n",
      "868/868 - 1s - loss: 0.0274 - accuracy: 0.9894 - val_loss: 1.0517 - val_accuracy: 0.9088 - 1s/epoch - 1ms/step\n",
      "Epoch 67/150\n",
      "868/868 - 1s - loss: 0.0318 - accuracy: 0.9879 - val_loss: 1.0634 - val_accuracy: 0.9136 - 1s/epoch - 1ms/step\n"
     ]
    },
    {
     "name": "stdout",
     "output_type": "stream",
     "text": [
      "Epoch 68/150\n",
      "868/868 - 1s - loss: 0.0330 - accuracy: 0.9875 - val_loss: 1.0536 - val_accuracy: 0.9132 - 1s/epoch - 1ms/step\n",
      "Epoch 69/150\n",
      "868/868 - 1s - loss: 0.0293 - accuracy: 0.9886 - val_loss: 1.0681 - val_accuracy: 0.9135 - 1s/epoch - 1ms/step\n",
      "Epoch 70/150\n",
      "868/868 - 1s - loss: 0.0291 - accuracy: 0.9890 - val_loss: 1.0094 - val_accuracy: 0.8962 - 1s/epoch - 1ms/step\n",
      "Epoch 71/150\n",
      "868/868 - 1s - loss: 0.0316 - accuracy: 0.9877 - val_loss: 1.1180 - val_accuracy: 0.9120 - 1s/epoch - 1ms/step\n",
      "Epoch 72/150\n",
      "868/868 - 1s - loss: 0.0285 - accuracy: 0.9880 - val_loss: 1.1296 - val_accuracy: 0.9141 - 1s/epoch - 1ms/step\n",
      "Epoch 73/150\n",
      "868/868 - 1s - loss: 0.0265 - accuracy: 0.9894 - val_loss: 1.1482 - val_accuracy: 0.9123 - 1s/epoch - 1ms/step\n",
      "Epoch 74/150\n",
      "868/868 - 1s - loss: 0.0288 - accuracy: 0.9885 - val_loss: 1.1658 - val_accuracy: 0.9131 - 1s/epoch - 1ms/step\n",
      "Epoch 75/150\n",
      "868/868 - 1s - loss: 0.0264 - accuracy: 0.9894 - val_loss: 1.1674 - val_accuracy: 0.9121 - 1s/epoch - 1ms/step\n",
      "Epoch 76/150\n",
      "868/868 - 1s - loss: 0.0273 - accuracy: 0.9887 - val_loss: 1.2319 - val_accuracy: 0.9119 - 1s/epoch - 1ms/step\n",
      "Epoch 77/150\n",
      "868/868 - 1s - loss: 0.0289 - accuracy: 0.9879 - val_loss: 1.1960 - val_accuracy: 0.9115 - 1s/epoch - 1ms/step\n",
      "Epoch 78/150\n",
      "868/868 - 1s - loss: 0.0269 - accuracy: 0.9892 - val_loss: 1.2369 - val_accuracy: 0.9105 - 1s/epoch - 1ms/step\n",
      "Epoch 79/150\n",
      "868/868 - 1s - loss: 0.0260 - accuracy: 0.9895 - val_loss: 1.1819 - val_accuracy: 0.9080 - 1s/epoch - 1ms/step\n",
      "Epoch 80/150\n",
      "868/868 - 1s - loss: 0.0291 - accuracy: 0.9890 - val_loss: 1.1813 - val_accuracy: 0.9107 - 1s/epoch - 1ms/step\n",
      "Epoch 81/150\n",
      "868/868 - 1s - loss: 0.0266 - accuracy: 0.9898 - val_loss: 1.2053 - val_accuracy: 0.9137 - 1s/epoch - 1ms/step\n",
      "Epoch 82/150\n",
      "868/868 - 1s - loss: 0.0263 - accuracy: 0.9898 - val_loss: 1.1008 - val_accuracy: 0.9093 - 1s/epoch - 1ms/step\n",
      "Epoch 83/150\n",
      "868/868 - 1s - loss: 0.0236 - accuracy: 0.9909 - val_loss: 1.2306 - val_accuracy: 0.9057 - 1s/epoch - 1ms/step\n",
      "Epoch 84/150\n",
      "868/868 - 1s - loss: 0.0244 - accuracy: 0.9905 - val_loss: 1.1648 - val_accuracy: 0.9073 - 1s/epoch - 1ms/step\n",
      "Epoch 85/150\n",
      "868/868 - 1s - loss: 0.0227 - accuracy: 0.9910 - val_loss: 1.3689 - val_accuracy: 0.9139 - 1s/epoch - 1ms/step\n",
      "Epoch 86/150\n",
      "868/868 - 1s - loss: 0.0312 - accuracy: 0.9884 - val_loss: 1.1547 - val_accuracy: 0.9088 - 1s/epoch - 1ms/step\n",
      "Epoch 87/150\n",
      "868/868 - 1s - loss: 0.0246 - accuracy: 0.9901 - val_loss: 1.2055 - val_accuracy: 0.9089 - 1s/epoch - 1ms/step\n",
      "Epoch 88/150\n",
      "868/868 - 1s - loss: 0.0276 - accuracy: 0.9896 - val_loss: 1.1141 - val_accuracy: 0.9121 - 1s/epoch - 1ms/step\n",
      "Epoch 89/150\n",
      "868/868 - 1s - loss: 0.0228 - accuracy: 0.9909 - val_loss: 1.2777 - val_accuracy: 0.9153 - 1s/epoch - 1ms/step\n",
      "Epoch 90/150\n",
      "868/868 - 1s - loss: 0.0254 - accuracy: 0.9895 - val_loss: 1.1698 - val_accuracy: 0.9081 - 1s/epoch - 1ms/step\n",
      "Epoch 91/150\n",
      "868/868 - 1s - loss: 0.0246 - accuracy: 0.9902 - val_loss: 1.1791 - val_accuracy: 0.9102 - 1s/epoch - 1ms/step\n",
      "Epoch 92/150\n",
      "868/868 - 1s - loss: 0.0207 - accuracy: 0.9916 - val_loss: 1.3296 - val_accuracy: 0.9144 - 1s/epoch - 1ms/step\n",
      "Epoch 93/150\n",
      "868/868 - 1s - loss: 0.0251 - accuracy: 0.9902 - val_loss: 1.2301 - val_accuracy: 0.9059 - 1s/epoch - 1ms/step\n",
      "Epoch 94/150\n",
      "868/868 - 1s - loss: 0.0202 - accuracy: 0.9924 - val_loss: 1.3132 - val_accuracy: 0.9141 - 1s/epoch - 1ms/step\n",
      "Epoch 95/150\n",
      "868/868 - 1s - loss: 0.0255 - accuracy: 0.9905 - val_loss: 1.2820 - val_accuracy: 0.9099 - 1s/epoch - 1ms/step\n",
      "Epoch 96/150\n",
      "868/868 - 1s - loss: 0.0200 - accuracy: 0.9923 - val_loss: 1.2787 - val_accuracy: 0.9101 - 1s/epoch - 2ms/step\n",
      "Epoch 97/150\n",
      "868/868 - 1s - loss: 0.0260 - accuracy: 0.9901 - val_loss: 1.2749 - val_accuracy: 0.9103 - 1s/epoch - 2ms/step\n",
      "Epoch 98/150\n",
      "868/868 - 1s - loss: 0.0230 - accuracy: 0.9906 - val_loss: 1.2622 - val_accuracy: 0.9109 - 1s/epoch - 1ms/step\n",
      "Epoch 99/150\n",
      "868/868 - 1s - loss: 0.0194 - accuracy: 0.9923 - val_loss: 1.2910 - val_accuracy: 0.9094 - 1s/epoch - 1ms/step\n",
      "Epoch 100/150\n",
      "868/868 - 1s - loss: 0.0188 - accuracy: 0.9925 - val_loss: 1.3465 - val_accuracy: 0.9101 - 1s/epoch - 1ms/step\n",
      "Epoch 101/150\n",
      "868/868 - 1s - loss: 0.0252 - accuracy: 0.9904 - val_loss: 1.2563 - val_accuracy: 0.9111 - 1s/epoch - 1ms/step\n",
      "Epoch 102/150\n",
      "868/868 - 1s - loss: 0.0221 - accuracy: 0.9915 - val_loss: 1.3315 - val_accuracy: 0.9106 - 1s/epoch - 1ms/step\n",
      "Epoch 103/150\n",
      "868/868 - 1s - loss: 0.0199 - accuracy: 0.9921 - val_loss: 1.3354 - val_accuracy: 0.9136 - 1s/epoch - 1ms/step\n",
      "Epoch 104/150\n",
      "868/868 - 1s - loss: 0.0221 - accuracy: 0.9918 - val_loss: 1.3101 - val_accuracy: 0.9102 - 1s/epoch - 1ms/step\n",
      "Epoch 105/150\n",
      "868/868 - 1s - loss: 0.0208 - accuracy: 0.9916 - val_loss: 1.3759 - val_accuracy: 0.9073 - 1s/epoch - 1ms/step\n",
      "Epoch 106/150\n",
      "868/868 - 1s - loss: 0.0175 - accuracy: 0.9932 - val_loss: 1.4300 - val_accuracy: 0.9115 - 1s/epoch - 1ms/step\n",
      "Epoch 107/150\n",
      "868/868 - 1s - loss: 0.0237 - accuracy: 0.9909 - val_loss: 1.3793 - val_accuracy: 0.9024 - 1s/epoch - 1ms/step\n",
      "Epoch 108/150\n",
      "868/868 - 1s - loss: 0.0211 - accuracy: 0.9923 - val_loss: 1.4408 - val_accuracy: 0.9025 - 1s/epoch - 1ms/step\n",
      "Epoch 109/150\n",
      "868/868 - 1s - loss: 0.0187 - accuracy: 0.9931 - val_loss: 1.3795 - val_accuracy: 0.9106 - 1s/epoch - 1ms/step\n",
      "Epoch 110/150\n",
      "868/868 - 1s - loss: 0.0186 - accuracy: 0.9922 - val_loss: 1.3642 - val_accuracy: 0.9111 - 1s/epoch - 1ms/step\n",
      "Epoch 111/150\n",
      "868/868 - 1s - loss: 0.0241 - accuracy: 0.9911 - val_loss: 1.3485 - val_accuracy: 0.9102 - 1s/epoch - 1ms/step\n",
      "Epoch 112/150\n",
      "868/868 - 1s - loss: 0.0173 - accuracy: 0.9935 - val_loss: 1.3673 - val_accuracy: 0.9132 - 1s/epoch - 1ms/step\n",
      "Epoch 113/150\n",
      "868/868 - 1s - loss: 0.0192 - accuracy: 0.9922 - val_loss: 1.4471 - val_accuracy: 0.9138 - 1s/epoch - 1ms/step\n",
      "Epoch 114/150\n",
      "868/868 - 1s - loss: 0.0227 - accuracy: 0.9915 - val_loss: 1.3464 - val_accuracy: 0.9074 - 1s/epoch - 1ms/step\n",
      "Epoch 115/150\n",
      "868/868 - 1s - loss: 0.0174 - accuracy: 0.9932 - val_loss: 1.4652 - val_accuracy: 0.9099 - 1s/epoch - 1ms/step\n",
      "Epoch 116/150\n",
      "868/868 - 1s - loss: 0.0203 - accuracy: 0.9922 - val_loss: 1.3530 - val_accuracy: 0.9116 - 1s/epoch - 1ms/step\n",
      "Epoch 117/150\n",
      "868/868 - 1s - loss: 0.0210 - accuracy: 0.9919 - val_loss: 1.3057 - val_accuracy: 0.9146 - 1s/epoch - 1ms/step\n",
      "Epoch 118/150\n",
      "868/868 - 1s - loss: 0.0203 - accuracy: 0.9922 - val_loss: 1.3436 - val_accuracy: 0.9058 - 1s/epoch - 1ms/step\n",
      "Epoch 119/150\n",
      "868/868 - 1s - loss: 0.0155 - accuracy: 0.9937 - val_loss: 1.4277 - val_accuracy: 0.9067 - 1s/epoch - 2ms/step\n",
      "Epoch 120/150\n",
      "868/868 - 1s - loss: 0.0166 - accuracy: 0.9934 - val_loss: 1.5445 - val_accuracy: 0.9140 - 1s/epoch - 1ms/step\n",
      "Epoch 121/150\n",
      "868/868 - 1s - loss: 0.0171 - accuracy: 0.9934 - val_loss: 1.4612 - val_accuracy: 0.9118 - 1s/epoch - 1ms/step\n",
      "Epoch 122/150\n",
      "868/868 - 1s - loss: 0.0175 - accuracy: 0.9937 - val_loss: 1.5593 - val_accuracy: 0.9101 - 1s/epoch - 1ms/step\n",
      "Epoch 123/150\n",
      "868/868 - 1s - loss: 0.0198 - accuracy: 0.9925 - val_loss: 1.4767 - val_accuracy: 0.9131 - 1s/epoch - 1ms/step\n",
      "Epoch 124/150\n",
      "868/868 - 1s - loss: 0.0215 - accuracy: 0.9918 - val_loss: 1.4870 - val_accuracy: 0.9152 - 1s/epoch - 1ms/step\n",
      "Epoch 125/150\n",
      "868/868 - 1s - loss: 0.0204 - accuracy: 0.9923 - val_loss: 1.4178 - val_accuracy: 0.9079 - 1s/epoch - 1ms/step\n",
      "Epoch 126/150\n",
      "868/868 - 1s - loss: 0.0170 - accuracy: 0.9933 - val_loss: 1.4843 - val_accuracy: 0.9109 - 1s/epoch - 1ms/step\n",
      "Epoch 127/150\n",
      "868/868 - 1s - loss: 0.0200 - accuracy: 0.9924 - val_loss: 1.4086 - val_accuracy: 0.9093 - 1s/epoch - 1ms/step\n",
      "Epoch 128/150\n",
      "868/868 - 1s - loss: 0.0182 - accuracy: 0.9931 - val_loss: 1.4899 - val_accuracy: 0.9153 - 1s/epoch - 1ms/step\n",
      "Epoch 129/150\n",
      "868/868 - 1s - loss: 0.0164 - accuracy: 0.9937 - val_loss: 1.4955 - val_accuracy: 0.9121 - 1s/epoch - 1ms/step\n",
      "Epoch 130/150\n",
      "868/868 - 1s - loss: 0.0229 - accuracy: 0.9917 - val_loss: 1.4566 - val_accuracy: 0.9135 - 1s/epoch - 1ms/step\n",
      "Epoch 131/150\n",
      "868/868 - 1s - loss: 0.0167 - accuracy: 0.9931 - val_loss: 1.4787 - val_accuracy: 0.9146 - 1s/epoch - 1ms/step\n",
      "Epoch 132/150\n",
      "868/868 - 1s - loss: 0.0160 - accuracy: 0.9936 - val_loss: 1.5324 - val_accuracy: 0.9067 - 1s/epoch - 1ms/step\n",
      "Epoch 133/150\n",
      "868/868 - 1s - loss: 0.0177 - accuracy: 0.9932 - val_loss: 1.4955 - val_accuracy: 0.9094 - 1s/epoch - 1ms/step\n"
     ]
    },
    {
     "name": "stdout",
     "output_type": "stream",
     "text": [
      "Epoch 134/150\n",
      "868/868 - 1s - loss: 0.0159 - accuracy: 0.9939 - val_loss: 1.4465 - val_accuracy: 0.9097 - 1s/epoch - 1ms/step\n",
      "Epoch 135/150\n",
      "868/868 - 1s - loss: 0.0150 - accuracy: 0.9939 - val_loss: 1.5984 - val_accuracy: 0.9160 - 1s/epoch - 1ms/step\n",
      "Epoch 136/150\n",
      "868/868 - 1s - loss: 0.0182 - accuracy: 0.9929 - val_loss: 1.5161 - val_accuracy: 0.9084 - 1s/epoch - 1ms/step\n",
      "Epoch 137/150\n",
      "868/868 - 1s - loss: 0.0196 - accuracy: 0.9928 - val_loss: 1.5064 - val_accuracy: 0.9101 - 1s/epoch - 1ms/step\n",
      "Epoch 138/150\n",
      "868/868 - 1s - loss: 0.0145 - accuracy: 0.9940 - val_loss: 1.5491 - val_accuracy: 0.9115 - 1s/epoch - 1ms/step\n",
      "Epoch 139/150\n",
      "868/868 - 1s - loss: 0.0152 - accuracy: 0.9938 - val_loss: 1.5362 - val_accuracy: 0.9133 - 1s/epoch - 1ms/step\n",
      "Epoch 140/150\n",
      "868/868 - 1s - loss: 0.0188 - accuracy: 0.9924 - val_loss: 1.4498 - val_accuracy: 0.9087 - 1s/epoch - 1ms/step\n",
      "Epoch 141/150\n",
      "868/868 - 1s - loss: 0.0168 - accuracy: 0.9935 - val_loss: 1.4885 - val_accuracy: 0.9063 - 1s/epoch - 1ms/step\n",
      "Epoch 142/150\n",
      "868/868 - 1s - loss: 0.0183 - accuracy: 0.9930 - val_loss: 1.4663 - val_accuracy: 0.9120 - 1s/epoch - 1ms/step\n",
      "Epoch 143/150\n",
      "868/868 - 1s - loss: 0.0171 - accuracy: 0.9928 - val_loss: 1.5513 - val_accuracy: 0.9098 - 1s/epoch - 1ms/step\n",
      "Epoch 144/150\n",
      "868/868 - 1s - loss: 0.0127 - accuracy: 0.9950 - val_loss: 1.5625 - val_accuracy: 0.9103 - 1s/epoch - 1ms/step\n",
      "Epoch 145/150\n",
      "868/868 - 1s - loss: 0.0221 - accuracy: 0.9922 - val_loss: 1.4950 - val_accuracy: 0.9141 - 1s/epoch - 1ms/step\n",
      "Epoch 146/150\n",
      "868/868 - 1s - loss: 0.0131 - accuracy: 0.9946 - val_loss: 1.5800 - val_accuracy: 0.9075 - 1s/epoch - 1ms/step\n",
      "Epoch 147/150\n",
      "868/868 - 1s - loss: 0.0169 - accuracy: 0.9938 - val_loss: 1.5141 - val_accuracy: 0.9138 - 1s/epoch - 1ms/step\n",
      "Epoch 148/150\n",
      "868/868 - 1s - loss: 0.0150 - accuracy: 0.9939 - val_loss: 1.4878 - val_accuracy: 0.9120 - 1s/epoch - 1ms/step\n",
      "Epoch 149/150\n",
      "868/868 - 1s - loss: 0.0188 - accuracy: 0.9928 - val_loss: 1.4581 - val_accuracy: 0.9083 - 1s/epoch - 1ms/step\n",
      "Epoch 150/150\n",
      "868/868 - 1s - loss: 0.0162 - accuracy: 0.9939 - val_loss: 1.5465 - val_accuracy: 0.9075 - 1s/epoch - 1ms/step\n"
     ]
    }
   ],
   "source": [
    "tf.keras.backend.clear_session()\n",
    "model = tf.keras.models.Sequential([\n",
    "    tf.keras.layers.Embedding(vocab_size, embedding_dim, input_length = max_length),\n",
    "    tf.keras.layers.GlobalAveragePooling1D(),\n",
    "    tf.keras.layers.Dense(128, activation = 'relu'),\n",
    "    tf.keras.layers.Dense(64, activation = 'relu'),\n",
    "    tf.keras.layers.Dense(1, activation = 'sigmoid')\n",
    "])\n",
    "\n",
    "model.compile(loss = 'binary_crossentropy',\n",
    "              optimizer = 'adam',\n",
    "              metrics = ['accuracy'])\n",
    "\n",
    "history = model.fit(train_padded, y_train,\n",
    "                    validation_data = (valid_padded, y_test),\n",
    "                    epochs = 150,\n",
    "                    verbose = 2)"
   ]
  },
  {
   "cell_type": "markdown",
   "id": "52c25ced",
   "metadata": {},
   "source": [
    "Ta sẽ dùng Mạng tích chập 1 chiều với `MaxPooling1D` với hy vọng sẽ cải thiện accuracy ở tập test:"
   ]
  },
  {
   "cell_type": "code",
   "execution_count": 85,
   "id": "44b37c72",
   "metadata": {},
   "outputs": [
    {
     "name": "stdout",
     "output_type": "stream",
     "text": [
      "Epoch 1/150\n",
      "868/868 - 8s - loss: 0.2428 - accuracy: 0.9022 - val_loss: 0.2043 - val_accuracy: 0.9225 - 8s/epoch - 9ms/step\n",
      "Epoch 2/150\n",
      "868/868 - 8s - loss: 0.1711 - accuracy: 0.9357 - val_loss: 0.1861 - val_accuracy: 0.9286 - 8s/epoch - 9ms/step\n",
      "Epoch 3/150\n",
      "868/868 - 7s - loss: 0.1467 - accuracy: 0.9448 - val_loss: 0.1987 - val_accuracy: 0.9273 - 7s/epoch - 8ms/step\n",
      "Epoch 4/150\n",
      "868/868 - 7s - loss: 0.1213 - accuracy: 0.9544 - val_loss: 0.1922 - val_accuracy: 0.9279 - 7s/epoch - 8ms/step\n",
      "Epoch 5/150\n",
      "868/868 - 7s - loss: 0.0941 - accuracy: 0.9649 - val_loss: 0.2287 - val_accuracy: 0.9268 - 7s/epoch - 8ms/step\n",
      "Epoch 6/150\n",
      "868/868 - 7s - loss: 0.0722 - accuracy: 0.9713 - val_loss: 0.2804 - val_accuracy: 0.9222 - 7s/epoch - 8ms/step\n",
      "Epoch 7/150\n",
      "868/868 - 7s - loss: 0.0564 - accuracy: 0.9777 - val_loss: 0.3151 - val_accuracy: 0.9193 - 7s/epoch - 8ms/step\n",
      "Epoch 8/150\n",
      "868/868 - 7s - loss: 0.0464 - accuracy: 0.9823 - val_loss: 0.3648 - val_accuracy: 0.9206 - 7s/epoch - 8ms/step\n",
      "Epoch 9/150\n",
      "868/868 - 7s - loss: 0.0420 - accuracy: 0.9848 - val_loss: 0.3682 - val_accuracy: 0.9247 - 7s/epoch - 8ms/step\n",
      "Epoch 10/150\n",
      "868/868 - 7s - loss: 0.0371 - accuracy: 0.9862 - val_loss: 0.3764 - val_accuracy: 0.9240 - 7s/epoch - 8ms/step\n",
      "Epoch 11/150\n",
      "868/868 - 7s - loss: 0.0321 - accuracy: 0.9877 - val_loss: 0.4587 - val_accuracy: 0.9139 - 7s/epoch - 8ms/step\n",
      "Epoch 12/150\n",
      "868/868 - 7s - loss: 0.0316 - accuracy: 0.9886 - val_loss: 0.4416 - val_accuracy: 0.9205 - 7s/epoch - 8ms/step\n",
      "Epoch 13/150\n",
      "868/868 - 7s - loss: 0.0276 - accuracy: 0.9898 - val_loss: 0.4906 - val_accuracy: 0.9205 - 7s/epoch - 8ms/step\n",
      "Epoch 14/150\n",
      "868/868 - 7s - loss: 0.0263 - accuracy: 0.9898 - val_loss: 0.4917 - val_accuracy: 0.9192 - 7s/epoch - 8ms/step\n",
      "Epoch 15/150\n",
      "868/868 - 7s - loss: 0.0246 - accuracy: 0.9906 - val_loss: 0.5232 - val_accuracy: 0.9231 - 7s/epoch - 8ms/step\n",
      "Epoch 16/150\n",
      "868/868 - 7s - loss: 0.0250 - accuracy: 0.9900 - val_loss: 0.5021 - val_accuracy: 0.9207 - 7s/epoch - 8ms/step\n",
      "Epoch 17/150\n",
      "868/868 - 7s - loss: 0.0244 - accuracy: 0.9908 - val_loss: 0.5003 - val_accuracy: 0.9204 - 7s/epoch - 8ms/step\n",
      "Epoch 18/150\n",
      "868/868 - 7s - loss: 0.0238 - accuracy: 0.9916 - val_loss: 0.5102 - val_accuracy: 0.9205 - 7s/epoch - 8ms/step\n",
      "Epoch 19/150\n",
      "868/868 - 7s - loss: 0.0243 - accuracy: 0.9904 - val_loss: 0.5547 - val_accuracy: 0.9246 - 7s/epoch - 8ms/step\n",
      "Epoch 20/150\n",
      "868/868 - 7s - loss: 0.0200 - accuracy: 0.9926 - val_loss: 0.5760 - val_accuracy: 0.9215 - 7s/epoch - 8ms/step\n",
      "Epoch 21/150\n",
      "868/868 - 7s - loss: 0.0209 - accuracy: 0.9923 - val_loss: 0.5659 - val_accuracy: 0.9208 - 7s/epoch - 8ms/step\n",
      "Epoch 22/150\n",
      "868/868 - 7s - loss: 0.0182 - accuracy: 0.9932 - val_loss: 0.5713 - val_accuracy: 0.9170 - 7s/epoch - 8ms/step\n",
      "Epoch 23/150\n",
      "868/868 - 7s - loss: 0.0181 - accuracy: 0.9929 - val_loss: 0.5861 - val_accuracy: 0.9172 - 7s/epoch - 8ms/step\n",
      "Epoch 24/150\n",
      "868/868 - 7s - loss: 0.0193 - accuracy: 0.9928 - val_loss: 0.6207 - val_accuracy: 0.9220 - 7s/epoch - 8ms/step\n",
      "Epoch 25/150\n",
      "868/868 - 7s - loss: 0.0170 - accuracy: 0.9938 - val_loss: 0.6026 - val_accuracy: 0.9173 - 7s/epoch - 8ms/step\n",
      "Epoch 26/150\n",
      "868/868 - 7s - loss: 0.0163 - accuracy: 0.9934 - val_loss: 0.6154 - val_accuracy: 0.9183 - 7s/epoch - 8ms/step\n",
      "Epoch 27/150\n",
      "868/868 - 7s - loss: 0.0163 - accuracy: 0.9935 - val_loss: 0.6179 - val_accuracy: 0.9201 - 7s/epoch - 8ms/step\n",
      "Epoch 28/150\n",
      "868/868 - 7s - loss: 0.0187 - accuracy: 0.9928 - val_loss: 0.5875 - val_accuracy: 0.9173 - 7s/epoch - 8ms/step\n",
      "Epoch 29/150\n",
      "868/868 - 7s - loss: 0.0136 - accuracy: 0.9948 - val_loss: 0.6402 - val_accuracy: 0.9162 - 7s/epoch - 8ms/step\n",
      "Epoch 30/150\n",
      "868/868 - 7s - loss: 0.0168 - accuracy: 0.9937 - val_loss: 0.6138 - val_accuracy: 0.9162 - 7s/epoch - 8ms/step\n",
      "Epoch 31/150\n",
      "868/868 - 7s - loss: 0.0160 - accuracy: 0.9941 - val_loss: 0.5898 - val_accuracy: 0.9191 - 7s/epoch - 8ms/step\n",
      "Epoch 32/150\n",
      "868/868 - 7s - loss: 0.0150 - accuracy: 0.9941 - val_loss: 0.6076 - val_accuracy: 0.9216 - 7s/epoch - 8ms/step\n",
      "Epoch 33/150\n",
      "868/868 - 7s - loss: 0.0146 - accuracy: 0.9945 - val_loss: 0.6565 - val_accuracy: 0.9197 - 7s/epoch - 8ms/step\n",
      "Epoch 34/150\n",
      "868/868 - 7s - loss: 0.0149 - accuracy: 0.9945 - val_loss: 0.7670 - val_accuracy: 0.9205 - 7s/epoch - 8ms/step\n",
      "Epoch 35/150\n",
      "868/868 - 7s - loss: 0.0170 - accuracy: 0.9932 - val_loss: 0.5719 - val_accuracy: 0.9180 - 7s/epoch - 8ms/step\n",
      "Epoch 36/150\n",
      "868/868 - 7s - loss: 0.0139 - accuracy: 0.9953 - val_loss: 0.6780 - val_accuracy: 0.9200 - 7s/epoch - 8ms/step\n",
      "Epoch 37/150\n",
      "868/868 - 7s - loss: 0.0108 - accuracy: 0.9956 - val_loss: 0.7864 - val_accuracy: 0.9211 - 7s/epoch - 8ms/step\n",
      "Epoch 38/150\n",
      "868/868 - 7s - loss: 0.0138 - accuracy: 0.9949 - val_loss: 0.6651 - val_accuracy: 0.9215 - 7s/epoch - 8ms/step\n",
      "Epoch 39/150\n",
      "868/868 - 7s - loss: 0.0145 - accuracy: 0.9941 - val_loss: 0.6198 - val_accuracy: 0.9194 - 7s/epoch - 8ms/step\n",
      "Epoch 40/150\n",
      "868/868 - 7s - loss: 0.0123 - accuracy: 0.9951 - val_loss: 0.6401 - val_accuracy: 0.9195 - 7s/epoch - 8ms/step\n",
      "Epoch 41/150\n",
      "868/868 - 7s - loss: 0.0136 - accuracy: 0.9948 - val_loss: 0.6959 - val_accuracy: 0.9179 - 7s/epoch - 8ms/step\n",
      "Epoch 42/150\n",
      "868/868 - 7s - loss: 0.0118 - accuracy: 0.9952 - val_loss: 0.7671 - val_accuracy: 0.9190 - 7s/epoch - 8ms/step\n",
      "Epoch 43/150\n",
      "868/868 - 7s - loss: 0.0124 - accuracy: 0.9951 - val_loss: 0.7006 - val_accuracy: 0.9201 - 7s/epoch - 8ms/step\n",
      "Epoch 44/150\n",
      "868/868 - 7s - loss: 0.0134 - accuracy: 0.9948 - val_loss: 0.7009 - val_accuracy: 0.9198 - 7s/epoch - 8ms/step\n",
      "Epoch 45/150\n",
      "868/868 - 7s - loss: 0.0128 - accuracy: 0.9950 - val_loss: 0.7161 - val_accuracy: 0.9192 - 7s/epoch - 8ms/step\n",
      "Epoch 46/150\n",
      "868/868 - 7s - loss: 0.0117 - accuracy: 0.9952 - val_loss: 0.7323 - val_accuracy: 0.9190 - 7s/epoch - 8ms/step\n",
      "Epoch 47/150\n",
      "868/868 - 7s - loss: 0.0110 - accuracy: 0.9956 - val_loss: 0.7845 - val_accuracy: 0.9210 - 7s/epoch - 8ms/step\n",
      "Epoch 48/150\n",
      "868/868 - 7s - loss: 0.0100 - accuracy: 0.9960 - val_loss: 0.8017 - val_accuracy: 0.9187 - 7s/epoch - 8ms/step\n",
      "Epoch 49/150\n",
      "868/868 - 7s - loss: 0.0127 - accuracy: 0.9952 - val_loss: 0.7339 - val_accuracy: 0.9228 - 7s/epoch - 8ms/step\n",
      "Epoch 50/150\n",
      "868/868 - 7s - loss: 0.0114 - accuracy: 0.9959 - val_loss: 0.8104 - val_accuracy: 0.9205 - 7s/epoch - 8ms/step\n",
      "Epoch 51/150\n",
      "868/868 - 7s - loss: 0.0130 - accuracy: 0.9949 - val_loss: 0.7272 - val_accuracy: 0.9210 - 7s/epoch - 8ms/step\n",
      "Epoch 52/150\n",
      "868/868 - 7s - loss: 0.0127 - accuracy: 0.9950 - val_loss: 0.7174 - val_accuracy: 0.9211 - 7s/epoch - 8ms/step\n",
      "Epoch 53/150\n",
      "868/868 - 7s - loss: 0.0112 - accuracy: 0.9959 - val_loss: 0.7281 - val_accuracy: 0.9236 - 7s/epoch - 8ms/step\n",
      "Epoch 54/150\n",
      "868/868 - 7s - loss: 0.0111 - accuracy: 0.9959 - val_loss: 0.7668 - val_accuracy: 0.9230 - 7s/epoch - 8ms/step\n",
      "Epoch 55/150\n",
      "868/868 - 7s - loss: 0.0136 - accuracy: 0.9948 - val_loss: 0.7261 - val_accuracy: 0.9205 - 7s/epoch - 8ms/step\n",
      "Epoch 56/150\n",
      "868/868 - 7s - loss: 0.0108 - accuracy: 0.9956 - val_loss: 0.7943 - val_accuracy: 0.9200 - 7s/epoch - 8ms/step\n",
      "Epoch 57/150\n",
      "868/868 - 7s - loss: 0.0102 - accuracy: 0.9960 - val_loss: 0.8473 - val_accuracy: 0.9196 - 7s/epoch - 8ms/step\n",
      "Epoch 58/150\n",
      "868/868 - 7s - loss: 0.0106 - accuracy: 0.9960 - val_loss: 0.8319 - val_accuracy: 0.9200 - 7s/epoch - 8ms/step\n",
      "Epoch 59/150\n",
      "868/868 - 7s - loss: 0.0114 - accuracy: 0.9957 - val_loss: 0.9900 - val_accuracy: 0.9205 - 7s/epoch - 8ms/step\n",
      "Epoch 60/150\n",
      "868/868 - 7s - loss: 0.0110 - accuracy: 0.9957 - val_loss: 0.7245 - val_accuracy: 0.9196 - 7s/epoch - 8ms/step\n",
      "Epoch 61/150\n",
      "868/868 - 7s - loss: 0.0103 - accuracy: 0.9960 - val_loss: 0.8340 - val_accuracy: 0.9204 - 7s/epoch - 8ms/step\n",
      "Epoch 62/150\n",
      "868/868 - 7s - loss: 0.0095 - accuracy: 0.9959 - val_loss: 0.9065 - val_accuracy: 0.9218 - 7s/epoch - 8ms/step\n",
      "Epoch 63/150\n",
      "868/868 - 7s - loss: 0.0118 - accuracy: 0.9954 - val_loss: 0.7537 - val_accuracy: 0.9199 - 7s/epoch - 8ms/step\n",
      "Epoch 64/150\n",
      "868/868 - 7s - loss: 0.0094 - accuracy: 0.9961 - val_loss: 0.8554 - val_accuracy: 0.9196 - 7s/epoch - 8ms/step\n",
      "Epoch 65/150\n",
      "868/868 - 7s - loss: 0.0109 - accuracy: 0.9960 - val_loss: 0.9068 - val_accuracy: 0.9194 - 7s/epoch - 8ms/step\n",
      "Epoch 66/150\n",
      "868/868 - 7s - loss: 0.0098 - accuracy: 0.9961 - val_loss: 0.8241 - val_accuracy: 0.9197 - 7s/epoch - 8ms/step\n",
      "Epoch 67/150\n",
      "868/868 - 7s - loss: 0.0108 - accuracy: 0.9958 - val_loss: 0.7317 - val_accuracy: 0.9183 - 7s/epoch - 8ms/step\n"
     ]
    },
    {
     "name": "stdout",
     "output_type": "stream",
     "text": [
      "Epoch 68/150\n",
      "868/868 - 7s - loss: 0.0111 - accuracy: 0.9957 - val_loss: 0.7429 - val_accuracy: 0.9192 - 7s/epoch - 8ms/step\n",
      "Epoch 69/150\n",
      "868/868 - 7s - loss: 0.0085 - accuracy: 0.9966 - val_loss: 0.7557 - val_accuracy: 0.9188 - 7s/epoch - 8ms/step\n",
      "Epoch 70/150\n",
      "868/868 - 7s - loss: 0.0088 - accuracy: 0.9961 - val_loss: 0.8276 - val_accuracy: 0.9215 - 7s/epoch - 8ms/step\n",
      "Epoch 71/150\n",
      "868/868 - 7s - loss: 0.0084 - accuracy: 0.9965 - val_loss: 0.9054 - val_accuracy: 0.9209 - 7s/epoch - 8ms/step\n",
      "Epoch 72/150\n",
      "868/868 - 7s - loss: 0.0102 - accuracy: 0.9961 - val_loss: 0.8688 - val_accuracy: 0.9200 - 7s/epoch - 8ms/step\n",
      "Epoch 73/150\n",
      "868/868 - 7s - loss: 0.0088 - accuracy: 0.9963 - val_loss: 0.7855 - val_accuracy: 0.9165 - 7s/epoch - 8ms/step\n",
      "Epoch 74/150\n",
      "868/868 - 7s - loss: 0.0091 - accuracy: 0.9963 - val_loss: 0.9057 - val_accuracy: 0.9180 - 7s/epoch - 8ms/step\n",
      "Epoch 75/150\n",
      "868/868 - 7s - loss: 0.0099 - accuracy: 0.9963 - val_loss: 0.9637 - val_accuracy: 0.9182 - 7s/epoch - 8ms/step\n",
      "Epoch 76/150\n",
      "868/868 - 7s - loss: 0.0102 - accuracy: 0.9958 - val_loss: 0.8366 - val_accuracy: 0.9190 - 7s/epoch - 8ms/step\n",
      "Epoch 77/150\n",
      "868/868 - 7s - loss: 0.0088 - accuracy: 0.9965 - val_loss: 0.8404 - val_accuracy: 0.9189 - 7s/epoch - 8ms/step\n",
      "Epoch 78/150\n",
      "868/868 - 7s - loss: 0.0095 - accuracy: 0.9963 - val_loss: 0.7856 - val_accuracy: 0.9200 - 7s/epoch - 8ms/step\n",
      "Epoch 79/150\n",
      "868/868 - 7s - loss: 0.0081 - accuracy: 0.9966 - val_loss: 0.7963 - val_accuracy: 0.9184 - 7s/epoch - 8ms/step\n",
      "Epoch 80/150\n",
      "868/868 - 7s - loss: 0.0083 - accuracy: 0.9966 - val_loss: 0.9761 - val_accuracy: 0.9199 - 7s/epoch - 8ms/step\n",
      "Epoch 81/150\n",
      "868/868 - 7s - loss: 0.0102 - accuracy: 0.9963 - val_loss: 0.8323 - val_accuracy: 0.9203 - 7s/epoch - 8ms/step\n",
      "Epoch 82/150\n",
      "868/868 - 7s - loss: 0.0084 - accuracy: 0.9968 - val_loss: 0.9460 - val_accuracy: 0.9227 - 7s/epoch - 8ms/step\n",
      "Epoch 83/150\n",
      "868/868 - 7s - loss: 0.0106 - accuracy: 0.9959 - val_loss: 0.8681 - val_accuracy: 0.9210 - 7s/epoch - 8ms/step\n",
      "Epoch 84/150\n",
      "868/868 - 7s - loss: 0.0092 - accuracy: 0.9964 - val_loss: 0.8703 - val_accuracy: 0.9189 - 7s/epoch - 8ms/step\n",
      "Epoch 85/150\n",
      "868/868 - 7s - loss: 0.0102 - accuracy: 0.9960 - val_loss: 0.8044 - val_accuracy: 0.9216 - 7s/epoch - 8ms/step\n",
      "Epoch 86/150\n",
      "868/868 - 7s - loss: 0.0082 - accuracy: 0.9965 - val_loss: 0.8520 - val_accuracy: 0.9174 - 7s/epoch - 8ms/step\n",
      "Epoch 87/150\n",
      "868/868 - 7s - loss: 0.0087 - accuracy: 0.9963 - val_loss: 0.8582 - val_accuracy: 0.9208 - 7s/epoch - 8ms/step\n",
      "Epoch 88/150\n",
      "868/868 - 7s - loss: 0.0083 - accuracy: 0.9967 - val_loss: 0.8652 - val_accuracy: 0.9211 - 7s/epoch - 8ms/step\n",
      "Epoch 89/150\n",
      "868/868 - 7s - loss: 0.0099 - accuracy: 0.9966 - val_loss: 0.8336 - val_accuracy: 0.9196 - 7s/epoch - 8ms/step\n",
      "Epoch 90/150\n",
      "868/868 - 7s - loss: 0.0082 - accuracy: 0.9964 - val_loss: 0.7990 - val_accuracy: 0.9171 - 7s/epoch - 8ms/step\n",
      "Epoch 91/150\n",
      "868/868 - 7s - loss: 0.0068 - accuracy: 0.9972 - val_loss: 0.9620 - val_accuracy: 0.9214 - 7s/epoch - 8ms/step\n",
      "Epoch 92/150\n",
      "868/868 - 7s - loss: 0.0079 - accuracy: 0.9969 - val_loss: 0.9844 - val_accuracy: 0.9217 - 7s/epoch - 8ms/step\n",
      "Epoch 93/150\n",
      "868/868 - 7s - loss: 0.0086 - accuracy: 0.9966 - val_loss: 0.9488 - val_accuracy: 0.9204 - 7s/epoch - 8ms/step\n",
      "Epoch 94/150\n",
      "868/868 - 7s - loss: 0.0080 - accuracy: 0.9967 - val_loss: 1.0492 - val_accuracy: 0.9226 - 7s/epoch - 8ms/step\n",
      "Epoch 95/150\n",
      "868/868 - 7s - loss: 0.0084 - accuracy: 0.9966 - val_loss: 0.8767 - val_accuracy: 0.9213 - 7s/epoch - 8ms/step\n",
      "Epoch 96/150\n",
      "868/868 - 7s - loss: 0.0085 - accuracy: 0.9965 - val_loss: 0.8824 - val_accuracy: 0.9206 - 7s/epoch - 8ms/step\n",
      "Epoch 97/150\n",
      "868/868 - 7s - loss: 0.0089 - accuracy: 0.9966 - val_loss: 0.9342 - val_accuracy: 0.9218 - 7s/epoch - 8ms/step\n",
      "Epoch 98/150\n",
      "868/868 - 7s - loss: 0.0087 - accuracy: 0.9965 - val_loss: 0.9500 - val_accuracy: 0.9210 - 7s/epoch - 8ms/step\n",
      "Epoch 99/150\n",
      "868/868 - 7s - loss: 0.0073 - accuracy: 0.9969 - val_loss: 0.9906 - val_accuracy: 0.9216 - 7s/epoch - 8ms/step\n",
      "Epoch 100/150\n",
      "868/868 - 7s - loss: 0.0082 - accuracy: 0.9966 - val_loss: 0.9952 - val_accuracy: 0.9215 - 7s/epoch - 8ms/step\n",
      "Epoch 101/150\n",
      "868/868 - 7s - loss: 0.0074 - accuracy: 0.9969 - val_loss: 1.0720 - val_accuracy: 0.9205 - 7s/epoch - 8ms/step\n",
      "Epoch 102/150\n",
      "868/868 - 7s - loss: 0.0096 - accuracy: 0.9964 - val_loss: 0.8918 - val_accuracy: 0.9223 - 7s/epoch - 8ms/step\n",
      "Epoch 103/150\n",
      "868/868 - 7s - loss: 0.0091 - accuracy: 0.9963 - val_loss: 0.8328 - val_accuracy: 0.9217 - 7s/epoch - 8ms/step\n",
      "Epoch 104/150\n",
      "868/868 - 7s - loss: 0.0080 - accuracy: 0.9965 - val_loss: 0.8923 - val_accuracy: 0.9194 - 7s/epoch - 8ms/step\n",
      "Epoch 105/150\n",
      "868/868 - 7s - loss: 0.0077 - accuracy: 0.9969 - val_loss: 0.9559 - val_accuracy: 0.9197 - 7s/epoch - 8ms/step\n",
      "Epoch 106/150\n",
      "868/868 - 7s - loss: 0.0072 - accuracy: 0.9971 - val_loss: 1.0040 - val_accuracy: 0.9226 - 7s/epoch - 8ms/step\n",
      "Epoch 107/150\n",
      "868/868 - 7s - loss: 0.0076 - accuracy: 0.9970 - val_loss: 0.9805 - val_accuracy: 0.9238 - 7s/epoch - 8ms/step\n",
      "Epoch 108/150\n",
      "868/868 - 7s - loss: 0.0069 - accuracy: 0.9972 - val_loss: 0.9999 - val_accuracy: 0.9220 - 7s/epoch - 8ms/step\n",
      "Epoch 109/150\n",
      "868/868 - 7s - loss: 0.0071 - accuracy: 0.9970 - val_loss: 1.0618 - val_accuracy: 0.9226 - 7s/epoch - 8ms/step\n",
      "Epoch 110/150\n",
      "868/868 - 7s - loss: 0.0096 - accuracy: 0.9965 - val_loss: 0.8196 - val_accuracy: 0.9186 - 7s/epoch - 8ms/step\n",
      "Epoch 111/150\n",
      "868/868 - 7s - loss: 0.0083 - accuracy: 0.9967 - val_loss: 0.8097 - val_accuracy: 0.9205 - 7s/epoch - 8ms/step\n",
      "Epoch 112/150\n",
      "868/868 - 7s - loss: 0.0082 - accuracy: 0.9964 - val_loss: 0.9849 - val_accuracy: 0.9211 - 7s/epoch - 8ms/step\n",
      "Epoch 113/150\n",
      "868/868 - 7s - loss: 0.0084 - accuracy: 0.9963 - val_loss: 0.8656 - val_accuracy: 0.9196 - 7s/epoch - 8ms/step\n",
      "Epoch 114/150\n",
      "868/868 - 7s - loss: 0.0072 - accuracy: 0.9968 - val_loss: 0.9419 - val_accuracy: 0.9231 - 7s/epoch - 8ms/step\n",
      "Epoch 115/150\n",
      "868/868 - 7s - loss: 0.0097 - accuracy: 0.9962 - val_loss: 0.8767 - val_accuracy: 0.9242 - 7s/epoch - 8ms/step\n",
      "Epoch 116/150\n",
      "868/868 - 7s - loss: 0.0076 - accuracy: 0.9971 - val_loss: 0.8165 - val_accuracy: 0.9215 - 7s/epoch - 8ms/step\n",
      "Epoch 117/150\n",
      "868/868 - 7s - loss: 0.0088 - accuracy: 0.9964 - val_loss: 0.8235 - val_accuracy: 0.9231 - 7s/epoch - 8ms/step\n",
      "Epoch 118/150\n",
      "868/868 - 7s - loss: 0.0074 - accuracy: 0.9967 - val_loss: 0.9540 - val_accuracy: 0.9233 - 7s/epoch - 8ms/step\n",
      "Epoch 119/150\n",
      "868/868 - 7s - loss: 0.0067 - accuracy: 0.9971 - val_loss: 0.9752 - val_accuracy: 0.9225 - 7s/epoch - 8ms/step\n",
      "Epoch 120/150\n",
      "868/868 - 7s - loss: 0.0077 - accuracy: 0.9969 - val_loss: 0.9631 - val_accuracy: 0.9220 - 7s/epoch - 8ms/step\n",
      "Epoch 121/150\n",
      "868/868 - 7s - loss: 0.0070 - accuracy: 0.9971 - val_loss: 0.9764 - val_accuracy: 0.9226 - 7s/epoch - 8ms/step\n",
      "Epoch 122/150\n",
      "868/868 - 7s - loss: 0.0069 - accuracy: 0.9972 - val_loss: 0.9643 - val_accuracy: 0.9204 - 7s/epoch - 8ms/step\n",
      "Epoch 123/150\n",
      "868/868 - 7s - loss: 0.0076 - accuracy: 0.9969 - val_loss: 0.9997 - val_accuracy: 0.9211 - 7s/epoch - 8ms/step\n",
      "Epoch 124/150\n",
      "868/868 - 7s - loss: 0.0079 - accuracy: 0.9967 - val_loss: 0.9807 - val_accuracy: 0.9201 - 7s/epoch - 8ms/step\n",
      "Epoch 125/150\n",
      "868/868 - 7s - loss: 0.0081 - accuracy: 0.9966 - val_loss: 0.8783 - val_accuracy: 0.9207 - 7s/epoch - 8ms/step\n",
      "Epoch 126/150\n",
      "868/868 - 7s - loss: 0.0061 - accuracy: 0.9974 - val_loss: 1.0952 - val_accuracy: 0.9208 - 7s/epoch - 8ms/step\n",
      "Epoch 127/150\n",
      "868/868 - 7s - loss: 0.0070 - accuracy: 0.9971 - val_loss: 1.0705 - val_accuracy: 0.9220 - 7s/epoch - 8ms/step\n",
      "Epoch 128/150\n",
      "868/868 - 7s - loss: 0.0069 - accuracy: 0.9972 - val_loss: 1.0315 - val_accuracy: 0.9203 - 7s/epoch - 8ms/step\n",
      "Epoch 129/150\n",
      "868/868 - 7s - loss: 0.0075 - accuracy: 0.9968 - val_loss: 0.9848 - val_accuracy: 0.9220 - 7s/epoch - 8ms/step\n",
      "Epoch 130/150\n",
      "868/868 - 7s - loss: 0.0066 - accuracy: 0.9974 - val_loss: 1.0923 - val_accuracy: 0.9217 - 7s/epoch - 8ms/step\n",
      "Epoch 131/150\n",
      "868/868 - 7s - loss: 0.0079 - accuracy: 0.9970 - val_loss: 1.0778 - val_accuracy: 0.9229 - 7s/epoch - 8ms/step\n",
      "Epoch 132/150\n",
      "868/868 - 7s - loss: 0.0075 - accuracy: 0.9968 - val_loss: 1.0052 - val_accuracy: 0.9223 - 7s/epoch - 8ms/step\n",
      "Epoch 133/150\n",
      "868/868 - 7s - loss: 0.0067 - accuracy: 0.9972 - val_loss: 1.0415 - val_accuracy: 0.9194 - 7s/epoch - 8ms/step\n"
     ]
    },
    {
     "name": "stdout",
     "output_type": "stream",
     "text": [
      "Epoch 134/150\n",
      "868/868 - 7s - loss: 0.0081 - accuracy: 0.9968 - val_loss: 1.0042 - val_accuracy: 0.9212 - 7s/epoch - 8ms/step\n",
      "Epoch 135/150\n",
      "868/868 - 7s - loss: 0.0070 - accuracy: 0.9971 - val_loss: 1.0769 - val_accuracy: 0.9235 - 7s/epoch - 8ms/step\n",
      "Epoch 136/150\n",
      "868/868 - 7s - loss: 0.0076 - accuracy: 0.9970 - val_loss: 0.9652 - val_accuracy: 0.9217 - 7s/epoch - 8ms/step\n",
      "Epoch 137/150\n",
      "868/868 - 7s - loss: 0.0070 - accuracy: 0.9970 - val_loss: 1.0846 - val_accuracy: 0.9221 - 7s/epoch - 8ms/step\n",
      "Epoch 138/150\n",
      "868/868 - 7s - loss: 0.0069 - accuracy: 0.9970 - val_loss: 1.1022 - val_accuracy: 0.9239 - 7s/epoch - 8ms/step\n",
      "Epoch 139/150\n",
      "868/868 - 7s - loss: 0.0082 - accuracy: 0.9967 - val_loss: 1.0593 - val_accuracy: 0.9234 - 7s/epoch - 8ms/step\n",
      "Epoch 140/150\n",
      "868/868 - 7s - loss: 0.0063 - accuracy: 0.9974 - val_loss: 1.0534 - val_accuracy: 0.9217 - 7s/epoch - 9ms/step\n",
      "Epoch 141/150\n",
      "868/868 - 7s - loss: 0.0067 - accuracy: 0.9972 - val_loss: 1.1050 - val_accuracy: 0.9220 - 7s/epoch - 8ms/step\n",
      "Epoch 142/150\n",
      "868/868 - 8s - loss: 0.0075 - accuracy: 0.9972 - val_loss: 0.9414 - val_accuracy: 0.9227 - 8s/epoch - 9ms/step\n",
      "Epoch 143/150\n",
      "868/868 - 7s - loss: 0.0082 - accuracy: 0.9969 - val_loss: 0.9113 - val_accuracy: 0.9214 - 7s/epoch - 8ms/step\n",
      "Epoch 144/150\n",
      "868/868 - 7s - loss: 0.0068 - accuracy: 0.9973 - val_loss: 1.0371 - val_accuracy: 0.9222 - 7s/epoch - 8ms/step\n",
      "Epoch 145/150\n",
      "868/868 - 8s - loss: 0.0068 - accuracy: 0.9972 - val_loss: 1.0055 - val_accuracy: 0.9217 - 8s/epoch - 9ms/step\n",
      "Epoch 146/150\n",
      "868/868 - 7s - loss: 0.0076 - accuracy: 0.9970 - val_loss: 1.1837 - val_accuracy: 0.9234 - 7s/epoch - 9ms/step\n",
      "Epoch 147/150\n",
      "868/868 - 8s - loss: 0.0079 - accuracy: 0.9966 - val_loss: 1.0862 - val_accuracy: 0.9223 - 8s/epoch - 9ms/step\n",
      "Epoch 148/150\n",
      "868/868 - 7s - loss: 0.0073 - accuracy: 0.9972 - val_loss: 1.1314 - val_accuracy: 0.9219 - 7s/epoch - 8ms/step\n",
      "Epoch 149/150\n",
      "868/868 - 7s - loss: 0.0063 - accuracy: 0.9972 - val_loss: 1.2013 - val_accuracy: 0.9247 - 7s/epoch - 8ms/step\n",
      "Epoch 150/150\n",
      "868/868 - 7s - loss: 0.0065 - accuracy: 0.9974 - val_loss: 1.1168 - val_accuracy: 0.9220 - 7s/epoch - 8ms/step\n"
     ]
    }
   ],
   "source": [
    "tf.keras.backend.clear_session()\n",
    "model = tf.keras.models.Sequential([\n",
    "    tf.keras.layers.Embedding(vocab_size, embedding_dim, input_length = max_length),\n",
    "    tf.keras.layers.Conv1D(32, 3, activation = 'relu'),\n",
    "    tf.keras.layers.MaxPooling1D(pool_size = 2, strides = 1),\n",
    "    tf.keras.layers.Flatten(),\n",
    "    tf.keras.layers.Dropout(0.2),\n",
    "    tf.keras.layers.Dense(32, activation = 'relu'),\n",
    "    tf.keras.layers.Dense(16, activation = 'relu'),\n",
    "    tf.keras.layers.Dense(1, activation = 'sigmoid')\n",
    "])\n",
    "\n",
    "model.compile(loss = 'binary_crossentropy',\n",
    "              optimizer = 'adam',\n",
    "              metrics = ['accuracy'])\n",
    "\n",
    "history = model.fit(train_padded, y_train,\n",
    "                    validation_data = (valid_padded, y_test),\n",
    "                    epochs = 150,\n",
    "                    verbose = 2)"
   ]
  },
  {
   "cell_type": "markdown",
   "id": "909f3d89",
   "metadata": {},
   "source": [
    "Độ chính xác ở tập kiểm tra đã cải thiện hơn so với mô hình trước.\n",
    "\n",
    "\n",
    "Ta sẽ điều chuẩn mô hình với một số thay đổi ở hàm kích hoạt và kernel:"
   ]
  },
  {
   "cell_type": "code",
   "execution_count": 92,
   "id": "548532ac",
   "metadata": {
    "scrolled": true
   },
   "outputs": [
    {
     "name": "stdout",
     "output_type": "stream",
     "text": [
      "Epoch 1/150\n",
      "868/868 - 14s - loss: 0.2249 - accuracy: 0.9099 - val_loss: 0.1783 - val_accuracy: 0.9332 - 14s/epoch - 16ms/step\n",
      "Epoch 2/150\n",
      "868/868 - 13s - loss: 0.1642 - accuracy: 0.9358 - val_loss: 0.1763 - val_accuracy: 0.9331 - 13s/epoch - 15ms/step\n",
      "Epoch 3/150\n",
      "868/868 - 12s - loss: 0.1284 - accuracy: 0.9500 - val_loss: 0.1879 - val_accuracy: 0.9300 - 12s/epoch - 14ms/step\n",
      "Epoch 4/150\n",
      "868/868 - 12s - loss: 0.0844 - accuracy: 0.9672 - val_loss: 0.2468 - val_accuracy: 0.9225 - 12s/epoch - 14ms/step\n",
      "Epoch 5/150\n",
      "868/868 - 13s - loss: 0.0542 - accuracy: 0.9795 - val_loss: 0.3011 - val_accuracy: 0.9199 - 13s/epoch - 15ms/step\n",
      "Epoch 6/150\n",
      "868/868 - 13s - loss: 0.0423 - accuracy: 0.9844 - val_loss: 0.3450 - val_accuracy: 0.9246 - 13s/epoch - 14ms/step\n",
      "Epoch 7/150\n",
      "868/868 - 13s - loss: 0.0371 - accuracy: 0.9853 - val_loss: 0.3536 - val_accuracy: 0.9208 - 13s/epoch - 15ms/step\n",
      "Epoch 8/150\n",
      "868/868 - 13s - loss: 0.0306 - accuracy: 0.9885 - val_loss: 0.3908 - val_accuracy: 0.9195 - 13s/epoch - 15ms/step\n",
      "Epoch 9/150\n",
      "868/868 - 12s - loss: 0.0247 - accuracy: 0.9903 - val_loss: 0.4602 - val_accuracy: 0.9202 - 12s/epoch - 14ms/step\n",
      "Epoch 10/150\n",
      "868/868 - 13s - loss: 0.0255 - accuracy: 0.9901 - val_loss: 0.4371 - val_accuracy: 0.9200 - 13s/epoch - 15ms/step\n",
      "Epoch 11/150\n",
      "868/868 - 12s - loss: 0.0217 - accuracy: 0.9918 - val_loss: 0.4461 - val_accuracy: 0.9194 - 12s/epoch - 14ms/step\n",
      "Epoch 12/150\n",
      "868/868 - 13s - loss: 0.0224 - accuracy: 0.9916 - val_loss: 0.5071 - val_accuracy: 0.9231 - 13s/epoch - 14ms/step\n",
      "Epoch 13/150\n",
      "868/868 - 12s - loss: 0.0196 - accuracy: 0.9925 - val_loss: 0.4473 - val_accuracy: 0.9199 - 12s/epoch - 14ms/step\n",
      "Epoch 14/150\n",
      "868/868 - 12s - loss: 0.0183 - accuracy: 0.9931 - val_loss: 0.5103 - val_accuracy: 0.9189 - 12s/epoch - 14ms/step\n",
      "Epoch 15/150\n",
      "868/868 - 12s - loss: 0.0204 - accuracy: 0.9924 - val_loss: 0.4999 - val_accuracy: 0.9164 - 12s/epoch - 14ms/step\n",
      "Epoch 16/150\n",
      "868/868 - 12s - loss: 0.0169 - accuracy: 0.9929 - val_loss: 0.5209 - val_accuracy: 0.9172 - 12s/epoch - 14ms/step\n",
      "Epoch 17/150\n",
      "868/868 - 13s - loss: 0.0182 - accuracy: 0.9932 - val_loss: 0.4825 - val_accuracy: 0.9226 - 13s/epoch - 15ms/step\n",
      "Epoch 18/150\n",
      "868/868 - 13s - loss: 0.0163 - accuracy: 0.9934 - val_loss: 0.5465 - val_accuracy: 0.9199 - 13s/epoch - 14ms/step\n",
      "Epoch 19/150\n",
      "868/868 - 13s - loss: 0.0171 - accuracy: 0.9934 - val_loss: 0.5662 - val_accuracy: 0.9224 - 13s/epoch - 14ms/step\n",
      "Epoch 20/150\n",
      "868/868 - 13s - loss: 0.0163 - accuracy: 0.9941 - val_loss: 0.6243 - val_accuracy: 0.9253 - 13s/epoch - 15ms/step\n",
      "Epoch 21/150\n",
      "868/868 - 13s - loss: 0.0138 - accuracy: 0.9945 - val_loss: 0.6377 - val_accuracy: 0.9203 - 13s/epoch - 15ms/step\n",
      "Epoch 22/150\n",
      "868/868 - 13s - loss: 0.0145 - accuracy: 0.9943 - val_loss: 0.5717 - val_accuracy: 0.9137 - 13s/epoch - 15ms/step\n",
      "Epoch 23/150\n",
      "868/868 - 13s - loss: 0.0154 - accuracy: 0.9937 - val_loss: 0.5466 - val_accuracy: 0.9212 - 13s/epoch - 15ms/step\n",
      "Epoch 24/150\n",
      "868/868 - 13s - loss: 0.0150 - accuracy: 0.9941 - val_loss: 0.5347 - val_accuracy: 0.9191 - 13s/epoch - 15ms/step\n",
      "Epoch 25/150\n",
      "868/868 - 13s - loss: 0.0137 - accuracy: 0.9949 - val_loss: 0.6410 - val_accuracy: 0.9224 - 13s/epoch - 15ms/step\n",
      "Epoch 26/150\n",
      "868/868 - 13s - loss: 0.0123 - accuracy: 0.9949 - val_loss: 0.6913 - val_accuracy: 0.9191 - 13s/epoch - 15ms/step\n",
      "Epoch 27/150\n",
      "868/868 - 13s - loss: 0.0127 - accuracy: 0.9952 - val_loss: 0.6479 - val_accuracy: 0.9206 - 13s/epoch - 15ms/step\n",
      "Epoch 28/150\n",
      "868/868 - 13s - loss: 0.0129 - accuracy: 0.9949 - val_loss: 0.6170 - val_accuracy: 0.9183 - 13s/epoch - 15ms/step\n",
      "Epoch 29/150\n",
      "868/868 - 13s - loss: 0.0136 - accuracy: 0.9943 - val_loss: 0.6291 - val_accuracy: 0.9162 - 13s/epoch - 14ms/step\n",
      "Epoch 30/150\n",
      "868/868 - 12s - loss: 0.0122 - accuracy: 0.9950 - val_loss: 0.6286 - val_accuracy: 0.9139 - 12s/epoch - 14ms/step\n",
      "Epoch 31/150\n",
      "868/868 - 13s - loss: 0.0125 - accuracy: 0.9951 - val_loss: 0.6905 - val_accuracy: 0.9213 - 13s/epoch - 15ms/step\n",
      "Epoch 32/150\n",
      "868/868 - 13s - loss: 0.0117 - accuracy: 0.9955 - val_loss: 0.6806 - val_accuracy: 0.9168 - 13s/epoch - 15ms/step\n",
      "Epoch 33/150\n",
      "868/868 - 13s - loss: 0.0115 - accuracy: 0.9956 - val_loss: 0.6681 - val_accuracy: 0.9210 - 13s/epoch - 15ms/step\n",
      "Epoch 34/150\n",
      "868/868 - 13s - loss: 0.0133 - accuracy: 0.9950 - val_loss: 0.5774 - val_accuracy: 0.9220 - 13s/epoch - 14ms/step\n",
      "Epoch 35/150\n",
      "868/868 - 13s - loss: 0.0112 - accuracy: 0.9955 - val_loss: 0.6698 - val_accuracy: 0.9150 - 13s/epoch - 14ms/step\n",
      "Epoch 36/150\n",
      "868/868 - 13s - loss: 0.0123 - accuracy: 0.9952 - val_loss: 0.6805 - val_accuracy: 0.9191 - 13s/epoch - 15ms/step\n",
      "Epoch 37/150\n",
      "868/868 - 13s - loss: 0.0102 - accuracy: 0.9960 - val_loss: 0.7602 - val_accuracy: 0.9216 - 13s/epoch - 15ms/step\n",
      "Epoch 38/150\n",
      "868/868 - 13s - loss: 0.0105 - accuracy: 0.9959 - val_loss: 0.7671 - val_accuracy: 0.9187 - 13s/epoch - 15ms/step\n",
      "Epoch 39/150\n",
      "868/868 - 13s - loss: 0.0120 - accuracy: 0.9956 - val_loss: 0.6616 - val_accuracy: 0.9179 - 13s/epoch - 15ms/step\n",
      "Epoch 40/150\n",
      "868/868 - 13s - loss: 0.0091 - accuracy: 0.9963 - val_loss: 0.9135 - val_accuracy: 0.9179 - 13s/epoch - 15ms/step\n",
      "Epoch 41/150\n",
      "868/868 - 13s - loss: 0.0095 - accuracy: 0.9961 - val_loss: 0.7998 - val_accuracy: 0.9186 - 13s/epoch - 15ms/step\n",
      "Epoch 42/150\n",
      "868/868 - 13s - loss: 0.0119 - accuracy: 0.9954 - val_loss: 0.7817 - val_accuracy: 0.9196 - 13s/epoch - 15ms/step\n",
      "Epoch 43/150\n",
      "868/868 - 13s - loss: 0.0098 - accuracy: 0.9961 - val_loss: 0.7926 - val_accuracy: 0.9164 - 13s/epoch - 15ms/step\n",
      "Epoch 44/150\n",
      "868/868 - 13s - loss: 0.0090 - accuracy: 0.9963 - val_loss: 0.7755 - val_accuracy: 0.9194 - 13s/epoch - 15ms/step\n",
      "Epoch 45/150\n",
      "868/868 - 13s - loss: 0.0099 - accuracy: 0.9961 - val_loss: 0.8488 - val_accuracy: 0.9190 - 13s/epoch - 15ms/step\n",
      "Epoch 46/150\n",
      "868/868 - 13s - loss: 0.0098 - accuracy: 0.9959 - val_loss: 0.7570 - val_accuracy: 0.9149 - 13s/epoch - 15ms/step\n",
      "Epoch 47/150\n",
      "868/868 - 13s - loss: 0.0092 - accuracy: 0.9964 - val_loss: 0.7484 - val_accuracy: 0.9217 - 13s/epoch - 15ms/step\n",
      "Epoch 48/150\n",
      "868/868 - 13s - loss: 0.0098 - accuracy: 0.9961 - val_loss: 0.7769 - val_accuracy: 0.9161 - 13s/epoch - 15ms/step\n",
      "Epoch 49/150\n",
      "868/868 - 13s - loss: 0.0095 - accuracy: 0.9962 - val_loss: 0.8359 - val_accuracy: 0.9136 - 13s/epoch - 15ms/step\n",
      "Epoch 50/150\n",
      "868/868 - 13s - loss: 0.0086 - accuracy: 0.9965 - val_loss: 0.9029 - val_accuracy: 0.9180 - 13s/epoch - 15ms/step\n",
      "Epoch 51/150\n",
      "868/868 - 13s - loss: 0.0086 - accuracy: 0.9964 - val_loss: 0.9727 - val_accuracy: 0.9202 - 13s/epoch - 15ms/step\n",
      "Epoch 52/150\n",
      "868/868 - 13s - loss: 0.0094 - accuracy: 0.9962 - val_loss: 0.7947 - val_accuracy: 0.9213 - 13s/epoch - 15ms/step\n",
      "Epoch 53/150\n",
      "868/868 - 13s - loss: 0.0093 - accuracy: 0.9966 - val_loss: 0.7690 - val_accuracy: 0.9178 - 13s/epoch - 15ms/step\n",
      "Epoch 54/150\n",
      "868/868 - 13s - loss: 0.0086 - accuracy: 0.9964 - val_loss: 0.8501 - val_accuracy: 0.9189 - 13s/epoch - 15ms/step\n",
      "Epoch 55/150\n",
      "868/868 - 13s - loss: 0.0099 - accuracy: 0.9961 - val_loss: 0.7885 - val_accuracy: 0.9213 - 13s/epoch - 15ms/step\n",
      "Epoch 56/150\n",
      "868/868 - 13s - loss: 0.0085 - accuracy: 0.9966 - val_loss: 0.8362 - val_accuracy: 0.9125 - 13s/epoch - 15ms/step\n",
      "Epoch 57/150\n",
      "868/868 - 13s - loss: 0.0101 - accuracy: 0.9961 - val_loss: 0.8087 - val_accuracy: 0.9185 - 13s/epoch - 15ms/step\n",
      "Epoch 58/150\n",
      "868/868 - 13s - loss: 0.0082 - accuracy: 0.9966 - val_loss: 0.9358 - val_accuracy: 0.9196 - 13s/epoch - 15ms/step\n",
      "Epoch 59/150\n",
      "868/868 - 13s - loss: 0.0083 - accuracy: 0.9968 - val_loss: 1.0179 - val_accuracy: 0.9199 - 13s/epoch - 15ms/step\n",
      "Epoch 60/150\n",
      "868/868 - 13s - loss: 0.0090 - accuracy: 0.9962 - val_loss: 0.9398 - val_accuracy: 0.9162 - 13s/epoch - 15ms/step\n",
      "Epoch 61/150\n",
      "868/868 - 13s - loss: 0.0072 - accuracy: 0.9969 - val_loss: 1.0266 - val_accuracy: 0.9194 - 13s/epoch - 15ms/step\n",
      "Epoch 62/150\n",
      "868/868 - 12s - loss: 0.0079 - accuracy: 0.9966 - val_loss: 0.9201 - val_accuracy: 0.9141 - 12s/epoch - 14ms/step\n",
      "Epoch 63/150\n",
      "868/868 - 12s - loss: 0.0067 - accuracy: 0.9972 - val_loss: 1.0785 - val_accuracy: 0.9158 - 12s/epoch - 14ms/step\n",
      "Epoch 64/150\n",
      "868/868 - 13s - loss: 0.0089 - accuracy: 0.9964 - val_loss: 0.8359 - val_accuracy: 0.9148 - 13s/epoch - 14ms/step\n",
      "Epoch 65/150\n",
      "868/868 - 13s - loss: 0.0086 - accuracy: 0.9961 - val_loss: 0.9887 - val_accuracy: 0.9193 - 13s/epoch - 15ms/step\n"
     ]
    },
    {
     "name": "stdout",
     "output_type": "stream",
     "text": [
      "Epoch 66/150\n",
      "868/868 - 14s - loss: 0.0075 - accuracy: 0.9971 - val_loss: 1.0777 - val_accuracy: 0.9170 - 14s/epoch - 16ms/step\n",
      "Epoch 67/150\n",
      "868/868 - 14s - loss: 0.0085 - accuracy: 0.9967 - val_loss: 1.0119 - val_accuracy: 0.9200 - 14s/epoch - 16ms/step\n",
      "Epoch 68/150\n",
      "868/868 - 14s - loss: 0.0078 - accuracy: 0.9966 - val_loss: 0.9083 - val_accuracy: 0.9192 - 14s/epoch - 16ms/step\n",
      "Epoch 69/150\n",
      "868/868 - 13s - loss: 0.0074 - accuracy: 0.9969 - val_loss: 0.9952 - val_accuracy: 0.9195 - 13s/epoch - 15ms/step\n",
      "Epoch 70/150\n",
      "868/868 - 13s - loss: 0.0075 - accuracy: 0.9970 - val_loss: 1.1263 - val_accuracy: 0.9163 - 13s/epoch - 15ms/step\n",
      "Epoch 71/150\n",
      "868/868 - 13s - loss: 0.0083 - accuracy: 0.9965 - val_loss: 0.9636 - val_accuracy: 0.9166 - 13s/epoch - 14ms/step\n",
      "Epoch 72/150\n",
      "868/868 - 13s - loss: 0.0064 - accuracy: 0.9972 - val_loss: 1.1119 - val_accuracy: 0.9171 - 13s/epoch - 15ms/step\n",
      "Epoch 73/150\n",
      "868/868 - 13s - loss: 0.0085 - accuracy: 0.9966 - val_loss: 0.9239 - val_accuracy: 0.9193 - 13s/epoch - 15ms/step\n",
      "Epoch 74/150\n",
      "868/868 - 12s - loss: 0.0064 - accuracy: 0.9974 - val_loss: 0.8603 - val_accuracy: 0.9205 - 12s/epoch - 14ms/step\n",
      "Epoch 75/150\n",
      "868/868 - 12s - loss: 0.0068 - accuracy: 0.9972 - val_loss: 1.0770 - val_accuracy: 0.9198 - 12s/epoch - 14ms/step\n",
      "Epoch 76/150\n",
      "868/868 - 12s - loss: 0.0067 - accuracy: 0.9970 - val_loss: 1.0106 - val_accuracy: 0.9177 - 12s/epoch - 14ms/step\n",
      "Epoch 77/150\n",
      "868/868 - 13s - loss: 0.0102 - accuracy: 0.9960 - val_loss: 0.7675 - val_accuracy: 0.9182 - 13s/epoch - 15ms/step\n",
      "Epoch 78/150\n",
      "868/868 - 12s - loss: 0.0065 - accuracy: 0.9975 - val_loss: 1.0729 - val_accuracy: 0.9201 - 12s/epoch - 14ms/step\n",
      "Epoch 79/150\n",
      "868/868 - 13s - loss: 0.0066 - accuracy: 0.9973 - val_loss: 1.0939 - val_accuracy: 0.9167 - 13s/epoch - 14ms/step\n",
      "Epoch 80/150\n",
      "868/868 - 12s - loss: 0.0078 - accuracy: 0.9968 - val_loss: 0.9225 - val_accuracy: 0.9141 - 12s/epoch - 14ms/step\n",
      "Epoch 81/150\n",
      "868/868 - 13s - loss: 0.0073 - accuracy: 0.9968 - val_loss: 1.0489 - val_accuracy: 0.9189 - 13s/epoch - 15ms/step\n",
      "Epoch 82/150\n",
      "868/868 - 14s - loss: 0.0063 - accuracy: 0.9972 - val_loss: 1.1166 - val_accuracy: 0.9183 - 14s/epoch - 16ms/step\n",
      "Epoch 83/150\n",
      "868/868 - 14s - loss: 0.0073 - accuracy: 0.9970 - val_loss: 1.0111 - val_accuracy: 0.9176 - 14s/epoch - 16ms/step\n",
      "Epoch 84/150\n",
      "868/868 - 14s - loss: 0.0061 - accuracy: 0.9974 - val_loss: 1.2245 - val_accuracy: 0.9175 - 14s/epoch - 16ms/step\n",
      "Epoch 85/150\n",
      "868/868 - 13s - loss: 0.0061 - accuracy: 0.9972 - val_loss: 1.3137 - val_accuracy: 0.9170 - 13s/epoch - 15ms/step\n",
      "Epoch 86/150\n",
      "868/868 - 13s - loss: 0.0069 - accuracy: 0.9971 - val_loss: 1.1108 - val_accuracy: 0.9193 - 13s/epoch - 15ms/step\n",
      "Epoch 87/150\n",
      "868/868 - 13s - loss: 0.0075 - accuracy: 0.9970 - val_loss: 1.0874 - val_accuracy: 0.9173 - 13s/epoch - 15ms/step\n",
      "Epoch 88/150\n",
      "868/868 - 13s - loss: 0.0065 - accuracy: 0.9970 - val_loss: 1.1931 - val_accuracy: 0.9173 - 13s/epoch - 15ms/step\n",
      "Epoch 89/150\n",
      "868/868 - 13s - loss: 0.0075 - accuracy: 0.9967 - val_loss: 1.1606 - val_accuracy: 0.9157 - 13s/epoch - 15ms/step\n",
      "Epoch 90/150\n",
      "868/868 - 13s - loss: 0.0071 - accuracy: 0.9972 - val_loss: 1.1880 - val_accuracy: 0.9184 - 13s/epoch - 15ms/step\n",
      "Epoch 91/150\n",
      "868/868 - 13s - loss: 0.0068 - accuracy: 0.9969 - val_loss: 1.1456 - val_accuracy: 0.9179 - 13s/epoch - 15ms/step\n",
      "Epoch 92/150\n",
      "868/868 - 13s - loss: 0.0070 - accuracy: 0.9972 - val_loss: 1.1064 - val_accuracy: 0.9174 - 13s/epoch - 15ms/step\n",
      "Epoch 93/150\n",
      "868/868 - 13s - loss: 0.0050 - accuracy: 0.9979 - val_loss: 1.5012 - val_accuracy: 0.9187 - 13s/epoch - 15ms/step\n",
      "Epoch 94/150\n",
      "868/868 - 13s - loss: 0.0081 - accuracy: 0.9968 - val_loss: 1.0835 - val_accuracy: 0.9162 - 13s/epoch - 15ms/step\n",
      "Epoch 95/150\n",
      "868/868 - 13s - loss: 0.0065 - accuracy: 0.9972 - val_loss: 1.2039 - val_accuracy: 0.9192 - 13s/epoch - 15ms/step\n",
      "Epoch 96/150\n",
      "868/868 - 13s - loss: 0.0069 - accuracy: 0.9972 - val_loss: 1.1228 - val_accuracy: 0.9168 - 13s/epoch - 15ms/step\n",
      "Epoch 97/150\n",
      "868/868 - 13s - loss: 0.0075 - accuracy: 0.9973 - val_loss: 1.0852 - val_accuracy: 0.9183 - 13s/epoch - 15ms/step\n",
      "Epoch 98/150\n",
      "868/868 - 14s - loss: 0.0058 - accuracy: 0.9973 - val_loss: 1.3346 - val_accuracy: 0.9186 - 14s/epoch - 16ms/step\n",
      "Epoch 99/150\n",
      "868/868 - 14s - loss: 0.0065 - accuracy: 0.9973 - val_loss: 1.2219 - val_accuracy: 0.9185 - 14s/epoch - 16ms/step\n",
      "Epoch 100/150\n",
      "868/868 - 13s - loss: 0.0072 - accuracy: 0.9970 - val_loss: 1.2232 - val_accuracy: 0.9224 - 13s/epoch - 15ms/step\n",
      "Epoch 101/150\n",
      "868/868 - 13s - loss: 0.0061 - accuracy: 0.9973 - val_loss: 1.1832 - val_accuracy: 0.9180 - 13s/epoch - 15ms/step\n",
      "Epoch 102/150\n",
      "868/868 - 13s - loss: 0.0061 - accuracy: 0.9973 - val_loss: 1.4258 - val_accuracy: 0.9197 - 13s/epoch - 14ms/step\n",
      "Epoch 103/150\n",
      "868/868 - 12s - loss: 0.0059 - accuracy: 0.9973 - val_loss: 1.4406 - val_accuracy: 0.9172 - 12s/epoch - 14ms/step\n",
      "Epoch 104/150\n",
      "868/868 - 13s - loss: 0.0075 - accuracy: 0.9971 - val_loss: 1.0475 - val_accuracy: 0.9175 - 13s/epoch - 14ms/step\n",
      "Epoch 105/150\n",
      "868/868 - 13s - loss: 0.0073 - accuracy: 0.9970 - val_loss: 0.9994 - val_accuracy: 0.9168 - 13s/epoch - 15ms/step\n",
      "Epoch 106/150\n",
      "868/868 - 12s - loss: 0.0059 - accuracy: 0.9977 - val_loss: 1.2316 - val_accuracy: 0.9198 - 12s/epoch - 14ms/step\n",
      "Epoch 107/150\n",
      "868/868 - 12s - loss: 0.0060 - accuracy: 0.9973 - val_loss: 1.3673 - val_accuracy: 0.9200 - 12s/epoch - 14ms/step\n",
      "Epoch 108/150\n",
      "868/868 - 13s - loss: 0.0061 - accuracy: 0.9975 - val_loss: 1.5557 - val_accuracy: 0.9158 - 13s/epoch - 14ms/step\n",
      "Epoch 109/150\n",
      "868/868 - 12s - loss: 0.0078 - accuracy: 0.9970 - val_loss: 1.2400 - val_accuracy: 0.9171 - 12s/epoch - 14ms/step\n",
      "Epoch 110/150\n",
      "868/868 - 12s - loss: 0.0057 - accuracy: 0.9974 - val_loss: 1.6447 - val_accuracy: 0.9178 - 12s/epoch - 14ms/step\n",
      "Epoch 111/150\n",
      "868/868 - 13s - loss: 0.0060 - accuracy: 0.9972 - val_loss: 1.5618 - val_accuracy: 0.9123 - 13s/epoch - 15ms/step\n",
      "Epoch 112/150\n",
      "868/868 - 12s - loss: 0.0057 - accuracy: 0.9974 - val_loss: 1.8358 - val_accuracy: 0.9162 - 12s/epoch - 14ms/step\n",
      "Epoch 113/150\n",
      "868/868 - 13s - loss: 0.0053 - accuracy: 0.9977 - val_loss: 1.5406 - val_accuracy: 0.9120 - 13s/epoch - 14ms/step\n",
      "Epoch 114/150\n",
      "868/868 - 13s - loss: 0.0068 - accuracy: 0.9971 - val_loss: 1.4191 - val_accuracy: 0.9177 - 13s/epoch - 15ms/step\n",
      "Epoch 115/150\n",
      "868/868 - 13s - loss: 0.0061 - accuracy: 0.9971 - val_loss: 1.4919 - val_accuracy: 0.9168 - 13s/epoch - 15ms/step\n",
      "Epoch 116/150\n",
      "868/868 - 13s - loss: 0.0068 - accuracy: 0.9973 - val_loss: 1.3142 - val_accuracy: 0.9153 - 13s/epoch - 15ms/step\n",
      "Epoch 117/150\n",
      "868/868 - 14s - loss: 0.0057 - accuracy: 0.9975 - val_loss: 1.6991 - val_accuracy: 0.9131 - 14s/epoch - 16ms/step\n",
      "Epoch 118/150\n",
      "868/868 - 13s - loss: 0.0074 - accuracy: 0.9969 - val_loss: 1.6044 - val_accuracy: 0.9168 - 13s/epoch - 16ms/step\n",
      "Epoch 119/150\n",
      "868/868 - 13s - loss: 0.0062 - accuracy: 0.9975 - val_loss: 1.4137 - val_accuracy: 0.9165 - 13s/epoch - 15ms/step\n",
      "Epoch 120/150\n",
      "868/868 - 14s - loss: 0.0065 - accuracy: 0.9973 - val_loss: 1.4634 - val_accuracy: 0.9177 - 14s/epoch - 16ms/step\n",
      "Epoch 121/150\n",
      "868/868 - 13s - loss: 0.0056 - accuracy: 0.9976 - val_loss: 1.6505 - val_accuracy: 0.9169 - 13s/epoch - 14ms/step\n",
      "Epoch 122/150\n",
      "868/868 - 12s - loss: 0.0077 - accuracy: 0.9969 - val_loss: 1.5924 - val_accuracy: 0.9171 - 12s/epoch - 14ms/step\n",
      "Epoch 123/150\n",
      "868/868 - 12s - loss: 0.0054 - accuracy: 0.9975 - val_loss: 1.6500 - val_accuracy: 0.9144 - 12s/epoch - 14ms/step\n",
      "Epoch 124/150\n",
      "868/868 - 13s - loss: 0.0070 - accuracy: 0.9975 - val_loss: 1.2771 - val_accuracy: 0.9152 - 13s/epoch - 14ms/step\n",
      "Epoch 125/150\n",
      "868/868 - 13s - loss: 0.0070 - accuracy: 0.9971 - val_loss: 1.2684 - val_accuracy: 0.9116 - 13s/epoch - 15ms/step\n",
      "Epoch 126/150\n",
      "868/868 - 12s - loss: 0.0052 - accuracy: 0.9978 - val_loss: 1.6483 - val_accuracy: 0.9129 - 12s/epoch - 14ms/step\n",
      "Epoch 127/150\n",
      "868/868 - 12s - loss: 0.0052 - accuracy: 0.9977 - val_loss: 1.8626 - val_accuracy: 0.9157 - 12s/epoch - 14ms/step\n",
      "Epoch 128/150\n",
      "868/868 - 12s - loss: 0.0079 - accuracy: 0.9973 - val_loss: 1.6065 - val_accuracy: 0.9150 - 12s/epoch - 14ms/step\n",
      "Epoch 129/150\n",
      "868/868 - 12s - loss: 0.0060 - accuracy: 0.9973 - val_loss: 1.6426 - val_accuracy: 0.9164 - 12s/epoch - 14ms/step\n",
      "Epoch 130/150\n",
      "868/868 - 12s - loss: 0.0055 - accuracy: 0.9977 - val_loss: 1.5284 - val_accuracy: 0.9188 - 12s/epoch - 14ms/step\n"
     ]
    },
    {
     "name": "stdout",
     "output_type": "stream",
     "text": [
      "Epoch 131/150\n",
      "868/868 - 12s - loss: 0.0051 - accuracy: 0.9976 - val_loss: 1.7616 - val_accuracy: 0.9166 - 12s/epoch - 14ms/step\n",
      "Epoch 132/150\n",
      "868/868 - 12s - loss: 0.0070 - accuracy: 0.9972 - val_loss: 1.2354 - val_accuracy: 0.9178 - 12s/epoch - 14ms/step\n",
      "Epoch 133/150\n",
      "868/868 - 12s - loss: 0.0062 - accuracy: 0.9974 - val_loss: 1.4341 - val_accuracy: 0.9177 - 12s/epoch - 14ms/step\n",
      "Epoch 134/150\n",
      "868/868 - 13s - loss: 0.0060 - accuracy: 0.9973 - val_loss: 1.3642 - val_accuracy: 0.9125 - 13s/epoch - 14ms/step\n",
      "Epoch 135/150\n",
      "868/868 - 13s - loss: 0.0060 - accuracy: 0.9973 - val_loss: 1.5355 - val_accuracy: 0.9090 - 13s/epoch - 15ms/step\n",
      "Epoch 136/150\n",
      "868/868 - 12s - loss: 0.0068 - accuracy: 0.9973 - val_loss: 1.2618 - val_accuracy: 0.9163 - 12s/epoch - 14ms/step\n",
      "Epoch 137/150\n",
      "868/868 - 12s - loss: 0.0052 - accuracy: 0.9976 - val_loss: 1.6951 - val_accuracy: 0.9152 - 12s/epoch - 14ms/step\n",
      "Epoch 138/150\n",
      "868/868 - 12s - loss: 0.0055 - accuracy: 0.9975 - val_loss: 1.8126 - val_accuracy: 0.9115 - 12s/epoch - 14ms/step\n",
      "Epoch 139/150\n",
      "868/868 - 12s - loss: 0.0053 - accuracy: 0.9976 - val_loss: 1.4764 - val_accuracy: 0.9122 - 12s/epoch - 14ms/step\n",
      "Epoch 140/150\n",
      "868/868 - 13s - loss: 0.0062 - accuracy: 0.9976 - val_loss: 1.4988 - val_accuracy: 0.9158 - 13s/epoch - 15ms/step\n",
      "Epoch 141/150\n",
      "868/868 - 14s - loss: 0.0065 - accuracy: 0.9974 - val_loss: 1.1267 - val_accuracy: 0.9114 - 14s/epoch - 16ms/step\n",
      "Epoch 142/150\n",
      "868/868 - 12s - loss: 0.0055 - accuracy: 0.9976 - val_loss: 1.5337 - val_accuracy: 0.9157 - 12s/epoch - 14ms/step\n",
      "Epoch 143/150\n",
      "868/868 - 12s - loss: 0.0050 - accuracy: 0.9978 - val_loss: 1.9108 - val_accuracy: 0.9148 - 12s/epoch - 14ms/step\n",
      "Epoch 144/150\n",
      "868/868 - 12s - loss: 0.0057 - accuracy: 0.9977 - val_loss: 1.8781 - val_accuracy: 0.9156 - 12s/epoch - 14ms/step\n",
      "Epoch 145/150\n",
      "868/868 - 12s - loss: 0.0056 - accuracy: 0.9977 - val_loss: 1.8165 - val_accuracy: 0.9110 - 12s/epoch - 14ms/step\n",
      "Epoch 146/150\n",
      "868/868 - 12s - loss: 0.0063 - accuracy: 0.9975 - val_loss: 1.4519 - val_accuracy: 0.9165 - 12s/epoch - 14ms/step\n",
      "Epoch 147/150\n",
      "868/868 - 12s - loss: 0.0071 - accuracy: 0.9971 - val_loss: 1.2107 - val_accuracy: 0.9146 - 12s/epoch - 14ms/step\n",
      "Epoch 148/150\n",
      "868/868 - 12s - loss: 0.0055 - accuracy: 0.9977 - val_loss: 1.3916 - val_accuracy: 0.9171 - 12s/epoch - 14ms/step\n",
      "Epoch 149/150\n",
      "868/868 - 12s - loss: 0.0050 - accuracy: 0.9976 - val_loss: 1.6496 - val_accuracy: 0.9165 - 12s/epoch - 14ms/step\n",
      "Epoch 150/150\n",
      "868/868 - 12s - loss: 0.0051 - accuracy: 0.9976 - val_loss: 1.6222 - val_accuracy: 0.9138 - 12s/epoch - 14ms/step\n"
     ]
    }
   ],
   "source": [
    "tf.keras.backend.clear_session()\n",
    "model = tf.keras.models.Sequential([\n",
    "    tf.keras.layers.Embedding(vocab_size, embedding_dim, input_length = max_length),\n",
    "    tf.keras.layers.Conv1D(64, 5, activation = 'relu'),\n",
    "    tf.keras.layers.MaxPooling1D(pool_size = 2, strides = 1),\n",
    "    tf.keras.layers.Flatten(),\n",
    "    tf.keras.layers.Dropout(0.2),\n",
    "    tf.keras.layers.Dense(32, activation = 'elu', kernel_initializer = 'he_normal'),\n",
    "    tf.keras.layers.Dense(16, activation = 'elu', kernel_initializer = 'he_normal'),\n",
    "    tf.keras.layers.Dense(1, activation = 'sigmoid')\n",
    "])\n",
    "\n",
    "model.compile(loss = 'binary_crossentropy',\n",
    "              optimizer = 'adam',\n",
    "              metrics = ['accuracy'])\n",
    "\n",
    "history = model.fit(train_padded, y_train,\n",
    "                    validation_data = (valid_padded, y_test),\n",
    "                    epochs = 150,\n",
    "                    verbose = 2)"
   ]
  },
  {
   "cell_type": "code",
   "execution_count": 91,
   "id": "85e3a0b1",
   "metadata": {},
   "outputs": [
    {
     "name": "stdout",
     "output_type": "stream",
     "text": [
      "              precision    recall  f1-score   support\n",
      "\n",
      "           0       0.80      0.71      0.75      1975\n",
      "           1       0.94      0.96      0.95      9917\n",
      "\n",
      "    accuracy                           0.92     11892\n",
      "   macro avg       0.87      0.84      0.85     11892\n",
      "weighted avg       0.92      0.92      0.92     11892\n",
      "\n"
     ]
    }
   ],
   "source": [
    "from sklearn.metrics import classification_report\n",
    "\n",
    "yhat = model.predict(valid_padded)\n",
    "yhat = np.round(yhat).reshape(-1)\n",
    "\n",
    "print(classification_report(y_test, yhat))"
   ]
  },
  {
   "cell_type": "markdown",
   "id": "5ff5b780",
   "metadata": {},
   "source": [
    "Ta sẽ phân loại với `LSTM` 2 chiều và lớp _fully connected_ có điều chuẩn:"
   ]
  },
  {
   "cell_type": "code",
   "execution_count": 96,
   "id": "babe57df",
   "metadata": {
    "scrolled": true
   },
   "outputs": [
    {
     "name": "stdout",
     "output_type": "stream",
     "text": [
      "Epoch 1/150\n",
      "868/868 - 39s - loss: 0.2317 - accuracy: 0.9108 - val_loss: 0.1840 - val_accuracy: 0.9312 - 39s/epoch - 45ms/step\n",
      "Epoch 2/150\n",
      "868/868 - 40s - loss: 0.1794 - accuracy: 0.9329 - val_loss: 0.1855 - val_accuracy: 0.9276 - 40s/epoch - 46ms/step\n",
      "Epoch 3/150\n",
      "868/868 - 43s - loss: 0.1637 - accuracy: 0.9383 - val_loss: 0.1859 - val_accuracy: 0.9309 - 43s/epoch - 50ms/step\n",
      "Epoch 4/150\n",
      "868/868 - 39s - loss: 0.1479 - accuracy: 0.9440 - val_loss: 0.1890 - val_accuracy: 0.9303 - 39s/epoch - 45ms/step\n",
      "Epoch 5/150\n",
      "868/868 - 39s - loss: 0.1379 - accuracy: 0.9477 - val_loss: 0.1934 - val_accuracy: 0.9287 - 39s/epoch - 45ms/step\n",
      "Epoch 6/150\n",
      "868/868 - 39s - loss: 0.1271 - accuracy: 0.9527 - val_loss: 0.1982 - val_accuracy: 0.9260 - 39s/epoch - 45ms/step\n",
      "Epoch 7/150\n",
      "868/868 - 39s - loss: 0.1175 - accuracy: 0.9555 - val_loss: 0.2087 - val_accuracy: 0.9235 - 39s/epoch - 45ms/step\n",
      "Epoch 8/150\n",
      "868/868 - 40s - loss: 0.1051 - accuracy: 0.9602 - val_loss: 0.2372 - val_accuracy: 0.9255 - 40s/epoch - 46ms/step\n",
      "Epoch 9/150\n",
      "868/868 - 40s - loss: 0.0972 - accuracy: 0.9634 - val_loss: 0.2571 - val_accuracy: 0.9206 - 40s/epoch - 46ms/step\n",
      "Epoch 10/150\n",
      "868/868 - 39s - loss: 0.0934 - accuracy: 0.9656 - val_loss: 0.2476 - val_accuracy: 0.9210 - 39s/epoch - 45ms/step\n",
      "Epoch 11/150\n",
      "868/868 - 40s - loss: 0.0842 - accuracy: 0.9699 - val_loss: 0.2561 - val_accuracy: 0.9168 - 40s/epoch - 47ms/step\n",
      "Epoch 12/150\n",
      "868/868 - 38s - loss: 0.0774 - accuracy: 0.9719 - val_loss: 0.2752 - val_accuracy: 0.9199 - 38s/epoch - 44ms/step\n",
      "Epoch 13/150\n",
      "868/868 - 38s - loss: 0.0637 - accuracy: 0.9781 - val_loss: 0.3137 - val_accuracy: 0.9166 - 38s/epoch - 43ms/step\n",
      "Epoch 14/150\n",
      "868/868 - 39s - loss: 0.0602 - accuracy: 0.9788 - val_loss: 0.3449 - val_accuracy: 0.9177 - 39s/epoch - 45ms/step\n",
      "Epoch 15/150\n",
      "868/868 - 39s - loss: 0.0574 - accuracy: 0.9792 - val_loss: 0.3395 - val_accuracy: 0.9130 - 39s/epoch - 45ms/step\n",
      "Epoch 16/150\n",
      "868/868 - 38s - loss: 0.0514 - accuracy: 0.9823 - val_loss: 0.3719 - val_accuracy: 0.9183 - 38s/epoch - 44ms/step\n",
      "Epoch 17/150\n",
      "868/868 - 39s - loss: 0.0437 - accuracy: 0.9846 - val_loss: 0.3909 - val_accuracy: 0.9148 - 39s/epoch - 45ms/step\n",
      "Epoch 18/150\n",
      "868/868 - 38s - loss: 0.0441 - accuracy: 0.9842 - val_loss: 0.4098 - val_accuracy: 0.9183 - 38s/epoch - 44ms/step\n",
      "Epoch 19/150\n",
      "868/868 - 38s - loss: 0.0383 - accuracy: 0.9875 - val_loss: 0.4321 - val_accuracy: 0.9126 - 38s/epoch - 44ms/step\n",
      "Epoch 20/150\n",
      "868/868 - 38s - loss: 0.0307 - accuracy: 0.9893 - val_loss: 0.5011 - val_accuracy: 0.9137 - 38s/epoch - 44ms/step\n",
      "Epoch 21/150\n",
      "868/868 - 38s - loss: 0.0297 - accuracy: 0.9903 - val_loss: 0.5033 - val_accuracy: 0.9115 - 38s/epoch - 44ms/step\n",
      "Epoch 22/150\n",
      "868/868 - 38s - loss: 0.0314 - accuracy: 0.9899 - val_loss: 0.4906 - val_accuracy: 0.9012 - 38s/epoch - 44ms/step\n",
      "Epoch 23/150\n",
      "868/868 - 38s - loss: 0.0335 - accuracy: 0.9892 - val_loss: 0.4864 - val_accuracy: 0.9108 - 38s/epoch - 44ms/step\n",
      "Epoch 24/150\n",
      "868/868 - 38s - loss: 0.0240 - accuracy: 0.9921 - val_loss: 0.4906 - val_accuracy: 0.9143 - 38s/epoch - 44ms/step\n",
      "Epoch 25/150\n",
      "868/868 - 39s - loss: 0.0297 - accuracy: 0.9899 - val_loss: 0.4829 - val_accuracy: 0.9112 - 39s/epoch - 44ms/step\n",
      "Epoch 26/150\n",
      "868/868 - 40s - loss: 0.0398 - accuracy: 0.9868 - val_loss: 0.4728 - val_accuracy: 0.9129 - 40s/epoch - 46ms/step\n",
      "Epoch 27/150\n",
      "868/868 - 45s - loss: 0.0180 - accuracy: 0.9938 - val_loss: 0.5825 - val_accuracy: 0.9109 - 45s/epoch - 52ms/step\n",
      "Epoch 28/150\n",
      "868/868 - 41s - loss: 0.0133 - accuracy: 0.9954 - val_loss: 0.6424 - val_accuracy: 0.9113 - 41s/epoch - 47ms/step\n",
      "Epoch 29/150\n",
      "868/868 - 38s - loss: 0.0137 - accuracy: 0.9951 - val_loss: 0.6397 - val_accuracy: 0.9142 - 38s/epoch - 44ms/step\n",
      "Epoch 30/150\n",
      "868/868 - 38s - loss: 0.0230 - accuracy: 0.9922 - val_loss: 0.5441 - val_accuracy: 0.9128 - 38s/epoch - 44ms/step\n",
      "Epoch 31/150\n",
      "868/868 - 43s - loss: 0.0168 - accuracy: 0.9945 - val_loss: 0.5955 - val_accuracy: 0.9140 - 43s/epoch - 50ms/step\n",
      "Epoch 32/150\n",
      "868/868 - 45s - loss: 0.0144 - accuracy: 0.9948 - val_loss: 0.7012 - val_accuracy: 0.9109 - 45s/epoch - 52ms/step\n",
      "Epoch 33/150\n",
      "868/868 - 40s - loss: 0.0132 - accuracy: 0.9954 - val_loss: 0.6812 - val_accuracy: 0.9129 - 40s/epoch - 47ms/step\n",
      "Epoch 34/150\n",
      "868/868 - 42s - loss: 0.0230 - accuracy: 0.9926 - val_loss: 0.5188 - val_accuracy: 0.9077 - 42s/epoch - 49ms/step\n",
      "Epoch 35/150\n",
      "868/868 - 42s - loss: 0.0147 - accuracy: 0.9947 - val_loss: 0.5835 - val_accuracy: 0.9120 - 42s/epoch - 49ms/step\n",
      "Epoch 36/150\n",
      "868/868 - 41s - loss: 0.0179 - accuracy: 0.9944 - val_loss: 0.5657 - val_accuracy: 0.9084 - 41s/epoch - 48ms/step\n",
      "Epoch 37/150\n",
      "868/868 - 41s - loss: 0.0123 - accuracy: 0.9956 - val_loss: 0.6599 - val_accuracy: 0.9114 - 41s/epoch - 48ms/step\n",
      "Epoch 38/150\n",
      "868/868 - 42s - loss: 0.0112 - accuracy: 0.9958 - val_loss: 0.6752 - val_accuracy: 0.9108 - 42s/epoch - 48ms/step\n",
      "Epoch 39/150\n",
      "868/868 - 43s - loss: 0.0134 - accuracy: 0.9952 - val_loss: 0.6182 - val_accuracy: 0.9117 - 43s/epoch - 49ms/step\n",
      "Epoch 40/150\n",
      "868/868 - 43s - loss: 0.0137 - accuracy: 0.9951 - val_loss: 0.6603 - val_accuracy: 0.9045 - 43s/epoch - 49ms/step\n",
      "Epoch 41/150\n",
      "868/868 - 43s - loss: 0.0153 - accuracy: 0.9947 - val_loss: 0.5846 - val_accuracy: 0.9104 - 43s/epoch - 50ms/step\n",
      "Epoch 42/150\n",
      "868/868 - 44s - loss: 0.0152 - accuracy: 0.9948 - val_loss: 0.6384 - val_accuracy: 0.9106 - 44s/epoch - 51ms/step\n",
      "Epoch 43/150\n",
      "868/868 - 45s - loss: 0.0093 - accuracy: 0.9966 - val_loss: 0.6675 - val_accuracy: 0.9169 - 45s/epoch - 52ms/step\n",
      "Epoch 44/150\n",
      "868/868 - 41s - loss: 0.0117 - accuracy: 0.9958 - val_loss: 0.6716 - val_accuracy: 0.8980 - 41s/epoch - 48ms/step\n",
      "Epoch 45/150\n",
      "868/868 - 42s - loss: 0.0134 - accuracy: 0.9951 - val_loss: 0.6736 - val_accuracy: 0.9113 - 42s/epoch - 49ms/step\n",
      "Epoch 46/150\n",
      "868/868 - 43s - loss: 0.0113 - accuracy: 0.9956 - val_loss: 0.6748 - val_accuracy: 0.9013 - 43s/epoch - 49ms/step\n",
      "Epoch 47/150\n",
      "868/868 - 43s - loss: 0.0104 - accuracy: 0.9959 - val_loss: 0.6778 - val_accuracy: 0.9094 - 43s/epoch - 50ms/step\n",
      "Epoch 48/150\n",
      "868/868 - 42s - loss: 0.0107 - accuracy: 0.9963 - val_loss: 0.6783 - val_accuracy: 0.9074 - 42s/epoch - 48ms/step\n",
      "Epoch 49/150\n",
      "868/868 - 43s - loss: 0.0160 - accuracy: 0.9946 - val_loss: 0.6115 - val_accuracy: 0.9074 - 43s/epoch - 50ms/step\n",
      "Epoch 50/150\n",
      "868/868 - 42s - loss: 0.0103 - accuracy: 0.9961 - val_loss: 0.6466 - val_accuracy: 0.9057 - 42s/epoch - 48ms/step\n",
      "Epoch 51/150\n",
      "868/868 - 42s - loss: 0.0126 - accuracy: 0.9957 - val_loss: 0.6435 - val_accuracy: 0.9161 - 42s/epoch - 48ms/step\n",
      "Epoch 52/150\n",
      "868/868 - 43s - loss: 0.0257 - accuracy: 0.9923 - val_loss: 0.5274 - val_accuracy: 0.9099 - 43s/epoch - 49ms/step\n",
      "Epoch 53/150\n",
      "868/868 - 51s - loss: 0.0079 - accuracy: 0.9968 - val_loss: 0.6403 - val_accuracy: 0.9114 - 51s/epoch - 58ms/step\n",
      "Epoch 54/150\n",
      "868/868 - 41s - loss: 0.0073 - accuracy: 0.9969 - val_loss: 0.6719 - val_accuracy: 0.9105 - 41s/epoch - 47ms/step\n",
      "Epoch 55/150\n",
      "868/868 - 43s - loss: 0.0073 - accuracy: 0.9969 - val_loss: 0.6715 - val_accuracy: 0.9121 - 43s/epoch - 49ms/step\n",
      "Epoch 56/150\n",
      "868/868 - 43s - loss: 0.0072 - accuracy: 0.9970 - val_loss: 0.6780 - val_accuracy: 0.9127 - 43s/epoch - 49ms/step\n",
      "Epoch 57/150\n",
      "868/868 - 43s - loss: 0.0070 - accuracy: 0.9969 - val_loss: 0.7005 - val_accuracy: 0.9128 - 43s/epoch - 50ms/step\n",
      "Epoch 58/150\n",
      "868/868 - 43s - loss: 0.0153 - accuracy: 0.9947 - val_loss: 0.5883 - val_accuracy: 0.9110 - 43s/epoch - 50ms/step\n",
      "Epoch 59/150\n",
      "868/868 - 44s - loss: 0.0124 - accuracy: 0.9955 - val_loss: 0.6492 - val_accuracy: 0.9063 - 44s/epoch - 50ms/step\n",
      "Epoch 60/150\n",
      "868/868 - 44s - loss: 0.0074 - accuracy: 0.9969 - val_loss: 0.6699 - val_accuracy: 0.9094 - 44s/epoch - 50ms/step\n",
      "Epoch 61/150\n",
      "868/868 - 42s - loss: 0.0119 - accuracy: 0.9955 - val_loss: 0.6152 - val_accuracy: 0.9071 - 42s/epoch - 49ms/step\n",
      "Epoch 62/150\n",
      "868/868 - 42s - loss: 0.0092 - accuracy: 0.9966 - val_loss: 0.6639 - val_accuracy: 0.9104 - 42s/epoch - 49ms/step\n",
      "Epoch 63/150\n",
      "868/868 - 43s - loss: 0.0090 - accuracy: 0.9966 - val_loss: 0.6857 - val_accuracy: 0.9078 - 43s/epoch - 49ms/step\n",
      "Epoch 64/150\n",
      "868/868 - 42s - loss: 0.0077 - accuracy: 0.9965 - val_loss: 0.7153 - val_accuracy: 0.9089 - 42s/epoch - 48ms/step\n",
      "Epoch 65/150\n",
      "868/868 - 43s - loss: 0.0075 - accuracy: 0.9970 - val_loss: 0.7392 - val_accuracy: 0.9098 - 43s/epoch - 49ms/step\n"
     ]
    },
    {
     "name": "stdout",
     "output_type": "stream",
     "text": [
      "Epoch 66/150\n",
      "868/868 - 42s - loss: 0.0088 - accuracy: 0.9967 - val_loss: 0.6914 - val_accuracy: 0.9101 - 42s/epoch - 48ms/step\n",
      "Epoch 67/150\n",
      "868/868 - 43s - loss: 0.0103 - accuracy: 0.9960 - val_loss: 0.6339 - val_accuracy: 0.9106 - 43s/epoch - 49ms/step\n",
      "Epoch 68/150\n",
      "868/868 - 42s - loss: 0.0115 - accuracy: 0.9961 - val_loss: 0.5901 - val_accuracy: 0.9114 - 42s/epoch - 48ms/step\n",
      "Epoch 69/150\n",
      "868/868 - 43s - loss: 0.0089 - accuracy: 0.9966 - val_loss: 0.6500 - val_accuracy: 0.9125 - 43s/epoch - 49ms/step\n",
      "Epoch 70/150\n",
      "868/868 - 42s - loss: 0.0074 - accuracy: 0.9970 - val_loss: 0.6826 - val_accuracy: 0.9030 - 42s/epoch - 48ms/step\n",
      "Epoch 71/150\n",
      "868/868 - 43s - loss: 0.0095 - accuracy: 0.9965 - val_loss: 0.6703 - val_accuracy: 0.9094 - 43s/epoch - 49ms/step\n",
      "Epoch 72/150\n",
      "868/868 - 43s - loss: 0.0071 - accuracy: 0.9972 - val_loss: 0.7067 - val_accuracy: 0.9087 - 43s/epoch - 49ms/step\n",
      "Epoch 73/150\n",
      "868/868 - 44s - loss: 0.0103 - accuracy: 0.9961 - val_loss: 0.6097 - val_accuracy: 0.9112 - 44s/epoch - 50ms/step\n",
      "Epoch 74/150\n",
      "868/868 - 42s - loss: 0.0105 - accuracy: 0.9965 - val_loss: 0.6277 - val_accuracy: 0.9120 - 42s/epoch - 49ms/step\n",
      "Epoch 75/150\n",
      "868/868 - 43s - loss: 0.0128 - accuracy: 0.9954 - val_loss: 0.6106 - val_accuracy: 0.9057 - 43s/epoch - 50ms/step\n",
      "Epoch 76/150\n",
      "868/868 - 43s - loss: 0.0081 - accuracy: 0.9970 - val_loss: 0.6340 - val_accuracy: 0.9128 - 43s/epoch - 49ms/step\n",
      "Epoch 77/150\n",
      "868/868 - 45s - loss: 0.0072 - accuracy: 0.9970 - val_loss: 0.6558 - val_accuracy: 0.9136 - 45s/epoch - 52ms/step\n",
      "Epoch 78/150\n",
      "868/868 - 42s - loss: 0.0069 - accuracy: 0.9971 - val_loss: 0.6842 - val_accuracy: 0.9098 - 42s/epoch - 48ms/step\n",
      "Epoch 79/150\n",
      "868/868 - 44s - loss: 0.0102 - accuracy: 0.9966 - val_loss: 0.6384 - val_accuracy: 0.9147 - 44s/epoch - 50ms/step\n",
      "Epoch 80/150\n",
      "868/868 - 45s - loss: 0.0065 - accuracy: 0.9974 - val_loss: 0.6722 - val_accuracy: 0.9115 - 45s/epoch - 52ms/step\n",
      "Epoch 81/150\n",
      "868/868 - 43s - loss: 0.0063 - accuracy: 0.9973 - val_loss: 0.6736 - val_accuracy: 0.9133 - 43s/epoch - 50ms/step\n",
      "Epoch 82/150\n",
      "868/868 - 44s - loss: 0.0059 - accuracy: 0.9976 - val_loss: 0.6825 - val_accuracy: 0.9146 - 44s/epoch - 51ms/step\n",
      "Epoch 83/150\n",
      "868/868 - 43s - loss: 0.0065 - accuracy: 0.9971 - val_loss: 0.6906 - val_accuracy: 0.9149 - 43s/epoch - 49ms/step\n",
      "Epoch 84/150\n",
      "868/868 - 43s - loss: 0.0064 - accuracy: 0.9971 - val_loss: 0.6811 - val_accuracy: 0.9158 - 43s/epoch - 50ms/step\n",
      "Epoch 85/150\n",
      "868/868 - 45s - loss: 0.0147 - accuracy: 0.9950 - val_loss: 0.5715 - val_accuracy: 0.9059 - 45s/epoch - 52ms/step\n",
      "Epoch 86/150\n",
      "868/868 - 57s - loss: 0.0106 - accuracy: 0.9961 - val_loss: 0.5682 - val_accuracy: 0.9069 - 57s/epoch - 66ms/step\n",
      "Epoch 87/150\n",
      "868/868 - 43s - loss: 0.0080 - accuracy: 0.9970 - val_loss: 0.6816 - val_accuracy: 0.9144 - 43s/epoch - 49ms/step\n",
      "Epoch 88/150\n",
      "868/868 - 48s - loss: 0.0060 - accuracy: 0.9975 - val_loss: 0.7078 - val_accuracy: 0.9159 - 48s/epoch - 56ms/step\n",
      "Epoch 89/150\n",
      "868/868 - 57s - loss: 0.0057 - accuracy: 0.9976 - val_loss: 0.7166 - val_accuracy: 0.9129 - 57s/epoch - 66ms/step\n",
      "Epoch 90/150\n",
      "868/868 - 42s - loss: 0.0057 - accuracy: 0.9974 - val_loss: 0.7229 - val_accuracy: 0.9151 - 42s/epoch - 48ms/step\n",
      "Epoch 91/150\n",
      "868/868 - 45s - loss: 0.0058 - accuracy: 0.9974 - val_loss: 0.7198 - val_accuracy: 0.9143 - 45s/epoch - 52ms/step\n",
      "Epoch 92/150\n",
      "868/868 - 42s - loss: 0.0061 - accuracy: 0.9974 - val_loss: 0.7034 - val_accuracy: 0.9142 - 42s/epoch - 49ms/step\n",
      "Epoch 93/150\n",
      "868/868 - 44s - loss: 0.0064 - accuracy: 0.9973 - val_loss: 0.6895 - val_accuracy: 0.9096 - 44s/epoch - 50ms/step\n",
      "Epoch 94/150\n",
      "868/868 - 46s - loss: 0.0154 - accuracy: 0.9948 - val_loss: 0.5813 - val_accuracy: 0.9122 - 46s/epoch - 53ms/step\n",
      "Epoch 95/150\n",
      "868/868 - 43s - loss: 0.0061 - accuracy: 0.9973 - val_loss: 0.6509 - val_accuracy: 0.9077 - 43s/epoch - 49ms/step\n",
      "Epoch 96/150\n",
      "868/868 - 43s - loss: 0.0056 - accuracy: 0.9976 - val_loss: 0.7139 - val_accuracy: 0.9134 - 43s/epoch - 50ms/step\n",
      "Epoch 97/150\n",
      "868/868 - 43s - loss: 0.0055 - accuracy: 0.9974 - val_loss: 0.7089 - val_accuracy: 0.9112 - 43s/epoch - 49ms/step\n",
      "Epoch 98/150\n",
      "868/868 - 42s - loss: 0.0054 - accuracy: 0.9976 - val_loss: 0.7224 - val_accuracy: 0.9127 - 42s/epoch - 49ms/step\n",
      "Epoch 99/150\n",
      "868/868 - 47s - loss: 0.0060 - accuracy: 0.9975 - val_loss: 0.6794 - val_accuracy: 0.9141 - 47s/epoch - 54ms/step\n",
      "Epoch 100/150\n",
      "868/868 - 44s - loss: 0.0056 - accuracy: 0.9977 - val_loss: 0.7108 - val_accuracy: 0.9143 - 44s/epoch - 51ms/step\n",
      "Epoch 101/150\n",
      "868/868 - 46s - loss: 0.0106 - accuracy: 0.9963 - val_loss: 0.5352 - val_accuracy: 0.9120 - 46s/epoch - 53ms/step\n",
      "Epoch 102/150\n",
      "868/868 - 47s - loss: 0.0118 - accuracy: 0.9954 - val_loss: 0.5811 - val_accuracy: 0.9116 - 47s/epoch - 54ms/step\n",
      "Epoch 103/150\n",
      "868/868 - 42s - loss: 0.0061 - accuracy: 0.9975 - val_loss: 0.6501 - val_accuracy: 0.9160 - 42s/epoch - 49ms/step\n",
      "Epoch 104/150\n",
      "868/868 - 40s - loss: 0.0055 - accuracy: 0.9976 - val_loss: 0.6754 - val_accuracy: 0.9146 - 40s/epoch - 46ms/step\n",
      "Epoch 105/150\n",
      "868/868 - 40s - loss: 0.0054 - accuracy: 0.9977 - val_loss: 0.6991 - val_accuracy: 0.9157 - 40s/epoch - 46ms/step\n",
      "Epoch 106/150\n",
      "868/868 - 42s - loss: 0.0055 - accuracy: 0.9975 - val_loss: 0.6930 - val_accuracy: 0.9115 - 42s/epoch - 49ms/step\n",
      "Epoch 107/150\n",
      "868/868 - 45s - loss: 0.0056 - accuracy: 0.9974 - val_loss: 0.6717 - val_accuracy: 0.9162 - 45s/epoch - 51ms/step\n",
      "Epoch 108/150\n",
      "868/868 - 41s - loss: 0.0056 - accuracy: 0.9976 - val_loss: 0.6909 - val_accuracy: 0.9164 - 41s/epoch - 47ms/step\n",
      "Epoch 109/150\n",
      "868/868 - 40s - loss: 0.0056 - accuracy: 0.9974 - val_loss: 0.6775 - val_accuracy: 0.9170 - 40s/epoch - 46ms/step\n",
      "Epoch 110/150\n",
      "868/868 - 41s - loss: 0.0109 - accuracy: 0.9960 - val_loss: 0.5257 - val_accuracy: 0.9122 - 41s/epoch - 47ms/step\n",
      "Epoch 111/150\n",
      "868/868 - 44s - loss: 0.0112 - accuracy: 0.9965 - val_loss: 0.5669 - val_accuracy: 0.9143 - 44s/epoch - 51ms/step\n",
      "Epoch 112/150\n",
      "868/868 - 49s - loss: 0.0078 - accuracy: 0.9972 - val_loss: 0.5901 - val_accuracy: 0.9136 - 49s/epoch - 57ms/step\n",
      "Epoch 113/150\n",
      "868/868 - 40s - loss: 0.0066 - accuracy: 0.9974 - val_loss: 0.6656 - val_accuracy: 0.9139 - 40s/epoch - 46ms/step\n",
      "Epoch 114/150\n",
      "868/868 - 41s - loss: 0.0053 - accuracy: 0.9978 - val_loss: 0.7120 - val_accuracy: 0.9115 - 41s/epoch - 47ms/step\n",
      "Epoch 115/150\n",
      "868/868 - 43s - loss: 0.0051 - accuracy: 0.9977 - val_loss: 0.7209 - val_accuracy: 0.9135 - 43s/epoch - 49ms/step\n",
      "Epoch 116/150\n",
      "868/868 - 45s - loss: 0.0054 - accuracy: 0.9978 - val_loss: 0.7049 - val_accuracy: 0.9149 - 45s/epoch - 52ms/step\n",
      "Epoch 117/150\n",
      "868/868 - 41s - loss: 0.0052 - accuracy: 0.9977 - val_loss: 0.6987 - val_accuracy: 0.9150 - 41s/epoch - 48ms/step\n",
      "Epoch 118/150\n",
      "868/868 - 42s - loss: 0.0054 - accuracy: 0.9974 - val_loss: 0.7159 - val_accuracy: 0.9130 - 42s/epoch - 48ms/step\n",
      "Epoch 119/150\n",
      "868/868 - 40s - loss: 0.0105 - accuracy: 0.9961 - val_loss: 0.5726 - val_accuracy: 0.9153 - 40s/epoch - 46ms/step\n",
      "Epoch 120/150\n",
      "868/868 - 43s - loss: 0.0096 - accuracy: 0.9968 - val_loss: 0.5673 - val_accuracy: 0.9118 - 43s/epoch - 50ms/step\n",
      "Epoch 121/150\n",
      "868/868 - 46s - loss: 0.0058 - accuracy: 0.9976 - val_loss: 0.6667 - val_accuracy: 0.9158 - 46s/epoch - 52ms/step\n",
      "Epoch 122/150\n",
      "868/868 - 43s - loss: 0.0060 - accuracy: 0.9975 - val_loss: 0.7066 - val_accuracy: 0.9140 - 43s/epoch - 49ms/step\n",
      "Epoch 123/150\n",
      "868/868 - 40s - loss: 0.0049 - accuracy: 0.9978 - val_loss: 0.7325 - val_accuracy: 0.9176 - 40s/epoch - 46ms/step\n",
      "Epoch 124/150\n",
      "868/868 - 41s - loss: 0.0052 - accuracy: 0.9976 - val_loss: 0.7252 - val_accuracy: 0.9163 - 41s/epoch - 47ms/step\n",
      "Epoch 125/150\n",
      "868/868 - 41s - loss: 0.0052 - accuracy: 0.9976 - val_loss: 0.7336 - val_accuracy: 0.9157 - 41s/epoch - 47ms/step\n",
      "Epoch 126/150\n",
      "868/868 - 41s - loss: 0.0052 - accuracy: 0.9975 - val_loss: 0.6981 - val_accuracy: 0.9162 - 41s/epoch - 47ms/step\n",
      "Epoch 127/150\n",
      "868/868 - 42s - loss: 0.0055 - accuracy: 0.9977 - val_loss: 0.6878 - val_accuracy: 0.9124 - 42s/epoch - 49ms/step\n",
      "Epoch 128/150\n",
      "868/868 - 46s - loss: 0.0114 - accuracy: 0.9960 - val_loss: 0.5834 - val_accuracy: 0.9136 - 46s/epoch - 53ms/step\n",
      "Epoch 129/150\n",
      "868/868 - 44s - loss: 0.0100 - accuracy: 0.9965 - val_loss: 0.5363 - val_accuracy: 0.9123 - 44s/epoch - 50ms/step\n",
      "Epoch 130/150\n",
      "868/868 - 43s - loss: 0.0060 - accuracy: 0.9976 - val_loss: 0.6594 - val_accuracy: 0.9118 - 43s/epoch - 49ms/step\n"
     ]
    },
    {
     "name": "stdout",
     "output_type": "stream",
     "text": [
      "Epoch 131/150\n",
      "868/868 - 43s - loss: 0.0052 - accuracy: 0.9978 - val_loss: 0.7135 - val_accuracy: 0.9112 - 43s/epoch - 49ms/step\n",
      "Epoch 132/150\n",
      "868/868 - 44s - loss: 0.0058 - accuracy: 0.9974 - val_loss: 0.6892 - val_accuracy: 0.9124 - 44s/epoch - 51ms/step\n",
      "Epoch 133/150\n",
      "868/868 - 42s - loss: 0.0070 - accuracy: 0.9971 - val_loss: 0.6354 - val_accuracy: 0.9100 - 42s/epoch - 48ms/step\n",
      "Epoch 134/150\n",
      "868/868 - 42s - loss: 0.0067 - accuracy: 0.9973 - val_loss: 0.6901 - val_accuracy: 0.9088 - 42s/epoch - 48ms/step\n",
      "Epoch 135/150\n",
      "868/868 - 43s - loss: 0.0060 - accuracy: 0.9975 - val_loss: 0.6617 - val_accuracy: 0.9152 - 43s/epoch - 49ms/step\n",
      "Epoch 136/150\n",
      "868/868 - 44s - loss: 0.0062 - accuracy: 0.9976 - val_loss: 0.6709 - val_accuracy: 0.9147 - 44s/epoch - 51ms/step\n",
      "Epoch 137/150\n",
      "868/868 - 45s - loss: 0.0053 - accuracy: 0.9978 - val_loss: 0.6990 - val_accuracy: 0.9141 - 45s/epoch - 52ms/step\n",
      "Epoch 138/150\n",
      "868/868 - 48s - loss: 0.0050 - accuracy: 0.9977 - val_loss: 0.7025 - val_accuracy: 0.9152 - 48s/epoch - 56ms/step\n",
      "Epoch 139/150\n",
      "868/868 - 45s - loss: 0.0050 - accuracy: 0.9977 - val_loss: 0.7015 - val_accuracy: 0.9166 - 45s/epoch - 52ms/step\n",
      "Epoch 140/150\n",
      "868/868 - 46s - loss: 0.0053 - accuracy: 0.9977 - val_loss: 0.6928 - val_accuracy: 0.9173 - 46s/epoch - 53ms/step\n",
      "Epoch 141/150\n",
      "868/868 - 46s - loss: 0.0051 - accuracy: 0.9979 - val_loss: 0.6849 - val_accuracy: 0.9126 - 46s/epoch - 53ms/step\n",
      "Epoch 142/150\n",
      "868/868 - 48s - loss: 0.0051 - accuracy: 0.9977 - val_loss: 0.6784 - val_accuracy: 0.9146 - 48s/epoch - 55ms/step\n",
      "Epoch 143/150\n",
      "868/868 - 48s - loss: 0.0091 - accuracy: 0.9963 - val_loss: 0.5666 - val_accuracy: 0.9115 - 48s/epoch - 55ms/step\n",
      "Epoch 144/150\n",
      "868/868 - 46s - loss: 0.0082 - accuracy: 0.9969 - val_loss: 0.5885 - val_accuracy: 0.9145 - 46s/epoch - 53ms/step\n",
      "Epoch 145/150\n",
      "868/868 - 47s - loss: 0.0054 - accuracy: 0.9975 - val_loss: 0.6954 - val_accuracy: 0.9116 - 47s/epoch - 54ms/step\n",
      "Epoch 146/150\n",
      "868/868 - 45s - loss: 0.0065 - accuracy: 0.9975 - val_loss: 0.6549 - val_accuracy: 0.9136 - 45s/epoch - 52ms/step\n",
      "Epoch 147/150\n",
      "868/868 - 46s - loss: 0.0048 - accuracy: 0.9978 - val_loss: 0.7116 - val_accuracy: 0.9138 - 46s/epoch - 53ms/step\n",
      "Epoch 148/150\n",
      "868/868 - 46s - loss: 0.0049 - accuracy: 0.9978 - val_loss: 0.7121 - val_accuracy: 0.9150 - 46s/epoch - 53ms/step\n",
      "Epoch 149/150\n",
      "868/868 - 48s - loss: 0.0049 - accuracy: 0.9979 - val_loss: 0.7060 - val_accuracy: 0.9129 - 48s/epoch - 55ms/step\n",
      "Epoch 150/150\n",
      "868/868 - 45s - loss: 0.0050 - accuracy: 0.9978 - val_loss: 0.6998 - val_accuracy: 0.9118 - 45s/epoch - 52ms/step\n"
     ]
    }
   ],
   "source": [
    "model_lstm = tf.keras.models.Sequential([\n",
    "    tf.keras.layers.Embedding(vocab_size, embedding_dim, input_length = max_length),\n",
    "    tf.keras.layers.Bidirectional(tf.keras.layers.LSTM(32)),\n",
    "    tf.keras.layers.Dense(32, activation = 'elu', kernel_initializer = 'he_normal'),\n",
    "    tf.keras.layers.Dense(1, activation = 'sigmoid')\n",
    "])\n",
    "\n",
    "model_lstm.compile(loss = 'binary_crossentropy',\n",
    "              optimizer = 'adam',\n",
    "              metrics = ['accuracy'])\n",
    "\n",
    "history = model_lstm.fit(train_padded, y_train,\n",
    "                    validation_data = (valid_padded, y_test),\n",
    "                    epochs = 150,\n",
    "                    verbose = 2)"
   ]
  },
  {
   "cell_type": "code",
   "execution_count": 97,
   "id": "11c59f04",
   "metadata": {
    "scrolled": true
   },
   "outputs": [
    {
     "name": "stdout",
     "output_type": "stream",
     "text": [
      "Epoch 1/150\n",
      "868/868 - 10s - loss: 0.2408 - accuracy: 0.9034 - val_loss: 0.1777 - val_accuracy: 0.9330 - 10s/epoch - 11ms/step\n",
      "Epoch 2/150\n",
      "868/868 - 8s - loss: 0.1737 - accuracy: 0.9337 - val_loss: 0.1756 - val_accuracy: 0.9328 - 8s/epoch - 9ms/step\n",
      "Epoch 3/150\n",
      "868/868 - 8s - loss: 0.1549 - accuracy: 0.9400 - val_loss: 0.1809 - val_accuracy: 0.9324 - 8s/epoch - 9ms/step\n",
      "Epoch 4/150\n",
      "868/868 - 8s - loss: 0.1347 - accuracy: 0.9479 - val_loss: 0.1854 - val_accuracy: 0.9326 - 8s/epoch - 9ms/step\n",
      "Epoch 5/150\n",
      "868/868 - 8s - loss: 0.1151 - accuracy: 0.9546 - val_loss: 0.2084 - val_accuracy: 0.9304 - 8s/epoch - 9ms/step\n",
      "Epoch 6/150\n",
      "868/868 - 8s - loss: 0.0968 - accuracy: 0.9612 - val_loss: 0.2240 - val_accuracy: 0.9252 - 8s/epoch - 9ms/step\n",
      "Epoch 7/150\n",
      "868/868 - 8s - loss: 0.0847 - accuracy: 0.9678 - val_loss: 0.2497 - val_accuracy: 0.9269 - 8s/epoch - 9ms/step\n",
      "Epoch 8/150\n",
      "868/868 - 8s - loss: 0.0763 - accuracy: 0.9716 - val_loss: 0.2542 - val_accuracy: 0.9248 - 8s/epoch - 9ms/step\n",
      "Epoch 9/150\n",
      "868/868 - 8s - loss: 0.0678 - accuracy: 0.9737 - val_loss: 0.2767 - val_accuracy: 0.9247 - 8s/epoch - 9ms/step\n",
      "Epoch 10/150\n",
      "868/868 - 8s - loss: 0.0605 - accuracy: 0.9759 - val_loss: 0.2761 - val_accuracy: 0.9224 - 8s/epoch - 9ms/step\n",
      "Epoch 11/150\n",
      "868/868 - 7s - loss: 0.0596 - accuracy: 0.9768 - val_loss: 0.2878 - val_accuracy: 0.9252 - 7s/epoch - 9ms/step\n",
      "Epoch 12/150\n",
      "868/868 - 7s - loss: 0.0515 - accuracy: 0.9809 - val_loss: 0.3563 - val_accuracy: 0.9239 - 7s/epoch - 9ms/step\n",
      "Epoch 13/150\n",
      "868/868 - 8s - loss: 0.0502 - accuracy: 0.9804 - val_loss: 0.3368 - val_accuracy: 0.9237 - 8s/epoch - 9ms/step\n",
      "Epoch 14/150\n",
      "868/868 - 8s - loss: 0.0479 - accuracy: 0.9817 - val_loss: 0.3588 - val_accuracy: 0.9212 - 8s/epoch - 9ms/step\n",
      "Epoch 15/150\n",
      "868/868 - 8s - loss: 0.0448 - accuracy: 0.9821 - val_loss: 0.3587 - val_accuracy: 0.9227 - 8s/epoch - 9ms/step\n",
      "Epoch 16/150\n",
      "868/868 - 7s - loss: 0.0452 - accuracy: 0.9815 - val_loss: 0.3551 - val_accuracy: 0.9223 - 7s/epoch - 9ms/step\n",
      "Epoch 17/150\n",
      "868/868 - 7s - loss: 0.0422 - accuracy: 0.9839 - val_loss: 0.3457 - val_accuracy: 0.9229 - 7s/epoch - 9ms/step\n",
      "Epoch 18/150\n",
      "868/868 - 8s - loss: 0.0402 - accuracy: 0.9840 - val_loss: 0.3546 - val_accuracy: 0.9209 - 8s/epoch - 9ms/step\n",
      "Epoch 19/150\n",
      "868/868 - 7s - loss: 0.0415 - accuracy: 0.9840 - val_loss: 0.3635 - val_accuracy: 0.9209 - 7s/epoch - 9ms/step\n",
      "Epoch 20/150\n",
      "868/868 - 7s - loss: 0.0382 - accuracy: 0.9857 - val_loss: 0.3634 - val_accuracy: 0.9221 - 7s/epoch - 9ms/step\n",
      "Epoch 21/150\n",
      "868/868 - 7s - loss: 0.0384 - accuracy: 0.9856 - val_loss: 0.3595 - val_accuracy: 0.9229 - 7s/epoch - 9ms/step\n",
      "Epoch 22/150\n",
      "868/868 - 7s - loss: 0.0374 - accuracy: 0.9854 - val_loss: 0.3945 - val_accuracy: 0.9222 - 7s/epoch - 9ms/step\n",
      "Epoch 23/150\n",
      "868/868 - 7s - loss: 0.0357 - accuracy: 0.9862 - val_loss: 0.3661 - val_accuracy: 0.9218 - 7s/epoch - 9ms/step\n",
      "Epoch 24/150\n",
      "868/868 - 7s - loss: 0.0329 - accuracy: 0.9872 - val_loss: 0.4110 - val_accuracy: 0.9208 - 7s/epoch - 9ms/step\n",
      "Epoch 25/150\n",
      "868/868 - 7s - loss: 0.0330 - accuracy: 0.9866 - val_loss: 0.4162 - val_accuracy: 0.9222 - 7s/epoch - 9ms/step\n",
      "Epoch 26/150\n",
      "868/868 - 7s - loss: 0.0334 - accuracy: 0.9876 - val_loss: 0.3858 - val_accuracy: 0.9224 - 7s/epoch - 9ms/step\n",
      "Epoch 27/150\n",
      "868/868 - 8s - loss: 0.0339 - accuracy: 0.9871 - val_loss: 0.4145 - val_accuracy: 0.9203 - 8s/epoch - 9ms/step\n",
      "Epoch 28/150\n",
      "868/868 - 7s - loss: 0.0326 - accuracy: 0.9877 - val_loss: 0.4167 - val_accuracy: 0.9216 - 7s/epoch - 9ms/step\n",
      "Epoch 29/150\n",
      "868/868 - 7s - loss: 0.0316 - accuracy: 0.9881 - val_loss: 0.4084 - val_accuracy: 0.9222 - 7s/epoch - 9ms/step\n",
      "Epoch 30/150\n",
      "868/868 - 8s - loss: 0.0303 - accuracy: 0.9880 - val_loss: 0.4300 - val_accuracy: 0.9205 - 8s/epoch - 9ms/step\n",
      "Epoch 31/150\n",
      "868/868 - 8s - loss: 0.0310 - accuracy: 0.9881 - val_loss: 0.4165 - val_accuracy: 0.9224 - 8s/epoch - 9ms/step\n",
      "Epoch 32/150\n",
      "868/868 - 8s - loss: 0.0292 - accuracy: 0.9889 - val_loss: 0.4190 - val_accuracy: 0.9220 - 8s/epoch - 9ms/step\n",
      "Epoch 33/150\n",
      "868/868 - 8s - loss: 0.0274 - accuracy: 0.9899 - val_loss: 0.4034 - val_accuracy: 0.9241 - 8s/epoch - 9ms/step\n",
      "Epoch 34/150\n",
      "868/868 - 8s - loss: 0.0290 - accuracy: 0.9888 - val_loss: 0.4007 - val_accuracy: 0.9231 - 8s/epoch - 9ms/step\n",
      "Epoch 35/150\n",
      "868/868 - 8s - loss: 0.0283 - accuracy: 0.9892 - val_loss: 0.4373 - val_accuracy: 0.9204 - 8s/epoch - 9ms/step\n",
      "Epoch 36/150\n",
      "868/868 - 8s - loss: 0.0267 - accuracy: 0.9895 - val_loss: 0.4334 - val_accuracy: 0.9234 - 8s/epoch - 9ms/step\n",
      "Epoch 37/150\n",
      "868/868 - 8s - loss: 0.0290 - accuracy: 0.9896 - val_loss: 0.4046 - val_accuracy: 0.9234 - 8s/epoch - 9ms/step\n",
      "Epoch 38/150\n",
      "868/868 - 8s - loss: 0.0248 - accuracy: 0.9901 - val_loss: 0.4480 - val_accuracy: 0.9226 - 8s/epoch - 9ms/step\n",
      "Epoch 39/150\n",
      "868/868 - 8s - loss: 0.0260 - accuracy: 0.9901 - val_loss: 0.4236 - val_accuracy: 0.9214 - 8s/epoch - 9ms/step\n",
      "Epoch 40/150\n",
      "868/868 - 8s - loss: 0.0256 - accuracy: 0.9899 - val_loss: 0.4266 - val_accuracy: 0.9242 - 8s/epoch - 9ms/step\n",
      "Epoch 41/150\n",
      "868/868 - 8s - loss: 0.0237 - accuracy: 0.9909 - val_loss: 0.4202 - val_accuracy: 0.9220 - 8s/epoch - 9ms/step\n",
      "Epoch 42/150\n",
      "868/868 - 8s - loss: 0.0233 - accuracy: 0.9909 - val_loss: 0.4330 - val_accuracy: 0.9232 - 8s/epoch - 9ms/step\n",
      "Epoch 43/150\n",
      "868/868 - 8s - loss: 0.0265 - accuracy: 0.9895 - val_loss: 0.4649 - val_accuracy: 0.9227 - 8s/epoch - 9ms/step\n",
      "Epoch 44/150\n",
      "868/868 - 8s - loss: 0.0261 - accuracy: 0.9901 - val_loss: 0.4176 - val_accuracy: 0.9226 - 8s/epoch - 9ms/step\n",
      "Epoch 45/150\n",
      "868/868 - 8s - loss: 0.0272 - accuracy: 0.9892 - val_loss: 0.4343 - val_accuracy: 0.9206 - 8s/epoch - 9ms/step\n",
      "Epoch 46/150\n",
      "868/868 - 8s - loss: 0.0236 - accuracy: 0.9911 - val_loss: 0.4812 - val_accuracy: 0.9228 - 8s/epoch - 9ms/step\n",
      "Epoch 47/150\n",
      "868/868 - 9s - loss: 0.0230 - accuracy: 0.9912 - val_loss: 0.4757 - val_accuracy: 0.9234 - 9s/epoch - 11ms/step\n",
      "Epoch 48/150\n",
      "868/868 - 10s - loss: 0.0225 - accuracy: 0.9908 - val_loss: 0.4756 - val_accuracy: 0.9221 - 10s/epoch - 11ms/step\n",
      "Epoch 49/150\n",
      "868/868 - 10s - loss: 0.0221 - accuracy: 0.9916 - val_loss: 0.5345 - val_accuracy: 0.9226 - 10s/epoch - 11ms/step\n",
      "Epoch 50/150\n",
      "868/868 - 9s - loss: 0.0226 - accuracy: 0.9919 - val_loss: 0.4442 - val_accuracy: 0.9221 - 9s/epoch - 10ms/step\n",
      "Epoch 51/150\n",
      "868/868 - 8s - loss: 0.0230 - accuracy: 0.9905 - val_loss: 0.4846 - val_accuracy: 0.9230 - 8s/epoch - 10ms/step\n",
      "Epoch 52/150\n",
      "868/868 - 8s - loss: 0.0245 - accuracy: 0.9902 - val_loss: 0.4954 - val_accuracy: 0.9221 - 8s/epoch - 9ms/step\n",
      "Epoch 53/150\n",
      "868/868 - 8s - loss: 0.0223 - accuracy: 0.9915 - val_loss: 0.4741 - val_accuracy: 0.9198 - 8s/epoch - 9ms/step\n",
      "Epoch 54/150\n",
      "868/868 - 8s - loss: 0.0227 - accuracy: 0.9911 - val_loss: 0.4721 - val_accuracy: 0.9215 - 8s/epoch - 9ms/step\n",
      "Epoch 55/150\n",
      "868/868 - 8s - loss: 0.0208 - accuracy: 0.9920 - val_loss: 0.4547 - val_accuracy: 0.9215 - 8s/epoch - 9ms/step\n",
      "Epoch 56/150\n",
      "868/868 - 8s - loss: 0.0206 - accuracy: 0.9919 - val_loss: 0.4961 - val_accuracy: 0.9194 - 8s/epoch - 9ms/step\n",
      "Epoch 57/150\n",
      "868/868 - 8s - loss: 0.0225 - accuracy: 0.9917 - val_loss: 0.4523 - val_accuracy: 0.9220 - 8s/epoch - 9ms/step\n",
      "Epoch 58/150\n",
      "868/868 - 8s - loss: 0.0201 - accuracy: 0.9923 - val_loss: 0.5003 - val_accuracy: 0.9212 - 8s/epoch - 9ms/step\n",
      "Epoch 59/150\n",
      "868/868 - 8s - loss: 0.0187 - accuracy: 0.9925 - val_loss: 0.5397 - val_accuracy: 0.9212 - 8s/epoch - 9ms/step\n",
      "Epoch 60/150\n",
      "868/868 - 8s - loss: 0.0228 - accuracy: 0.9912 - val_loss: 0.4690 - val_accuracy: 0.9235 - 8s/epoch - 9ms/step\n",
      "Epoch 61/150\n",
      "868/868 - 8s - loss: 0.0200 - accuracy: 0.9917 - val_loss: 0.5228 - val_accuracy: 0.9209 - 8s/epoch - 9ms/step\n",
      "Epoch 62/150\n",
      "868/868 - 8s - loss: 0.0199 - accuracy: 0.9923 - val_loss: 0.5056 - val_accuracy: 0.9242 - 8s/epoch - 9ms/step\n",
      "Epoch 63/150\n",
      "868/868 - 8s - loss: 0.0204 - accuracy: 0.9926 - val_loss: 0.5012 - val_accuracy: 0.9249 - 8s/epoch - 9ms/step\n",
      "Epoch 64/150\n",
      "868/868 - 8s - loss: 0.0207 - accuracy: 0.9920 - val_loss: 0.4824 - val_accuracy: 0.9238 - 8s/epoch - 9ms/step\n",
      "Epoch 65/150\n",
      "868/868 - 8s - loss: 0.0214 - accuracy: 0.9915 - val_loss: 0.4720 - val_accuracy: 0.9226 - 8s/epoch - 9ms/step\n",
      "Epoch 66/150\n",
      "868/868 - 8s - loss: 0.0187 - accuracy: 0.9928 - val_loss: 0.4977 - val_accuracy: 0.9212 - 8s/epoch - 10ms/step\n",
      "Epoch 67/150\n"
     ]
    },
    {
     "name": "stdout",
     "output_type": "stream",
     "text": [
      "868/868 - 8s - loss: 0.0179 - accuracy: 0.9929 - val_loss: 0.5850 - val_accuracy: 0.9232 - 8s/epoch - 9ms/step\n",
      "Epoch 68/150\n",
      "868/868 - 8s - loss: 0.0202 - accuracy: 0.9924 - val_loss: 0.5433 - val_accuracy: 0.9240 - 8s/epoch - 9ms/step\n",
      "Epoch 69/150\n",
      "868/868 - 8s - loss: 0.0196 - accuracy: 0.9926 - val_loss: 0.5290 - val_accuracy: 0.9248 - 8s/epoch - 9ms/step\n",
      "Epoch 70/150\n",
      "868/868 - 8s - loss: 0.0178 - accuracy: 0.9930 - val_loss: 0.4664 - val_accuracy: 0.9230 - 8s/epoch - 9ms/step\n",
      "Epoch 71/150\n",
      "868/868 - 8s - loss: 0.0207 - accuracy: 0.9920 - val_loss: 0.5061 - val_accuracy: 0.9231 - 8s/epoch - 9ms/step\n",
      "Epoch 72/150\n",
      "868/868 - 8s - loss: 0.0187 - accuracy: 0.9924 - val_loss: 0.5613 - val_accuracy: 0.9223 - 8s/epoch - 9ms/step\n",
      "Epoch 73/150\n",
      "868/868 - 8s - loss: 0.0180 - accuracy: 0.9931 - val_loss: 0.5314 - val_accuracy: 0.9246 - 8s/epoch - 9ms/step\n",
      "Epoch 74/150\n",
      "868/868 - 8s - loss: 0.0194 - accuracy: 0.9926 - val_loss: 0.5522 - val_accuracy: 0.9235 - 8s/epoch - 9ms/step\n",
      "Epoch 75/150\n",
      "868/868 - 9s - loss: 0.0192 - accuracy: 0.9920 - val_loss: 0.5407 - val_accuracy: 0.9242 - 9s/epoch - 10ms/step\n",
      "Epoch 76/150\n",
      "868/868 - 9s - loss: 0.0193 - accuracy: 0.9926 - val_loss: 0.4956 - val_accuracy: 0.9226 - 9s/epoch - 11ms/step\n",
      "Epoch 77/150\n",
      "868/868 - 8s - loss: 0.0180 - accuracy: 0.9930 - val_loss: 0.5273 - val_accuracy: 0.9232 - 8s/epoch - 10ms/step\n",
      "Epoch 78/150\n",
      "868/868 - 8s - loss: 0.0180 - accuracy: 0.9930 - val_loss: 0.5316 - val_accuracy: 0.9220 - 8s/epoch - 9ms/step\n",
      "Epoch 79/150\n",
      "868/868 - 8s - loss: 0.0189 - accuracy: 0.9924 - val_loss: 0.5921 - val_accuracy: 0.9225 - 8s/epoch - 9ms/step\n",
      "Epoch 80/150\n",
      "868/868 - 8s - loss: 0.0181 - accuracy: 0.9931 - val_loss: 0.5492 - val_accuracy: 0.9225 - 8s/epoch - 9ms/step\n",
      "Epoch 81/150\n",
      "868/868 - 8s - loss: 0.0180 - accuracy: 0.9928 - val_loss: 0.5480 - val_accuracy: 0.9223 - 8s/epoch - 9ms/step\n",
      "Epoch 82/150\n",
      "868/868 - 8s - loss: 0.0186 - accuracy: 0.9934 - val_loss: 0.5469 - val_accuracy: 0.9214 - 8s/epoch - 9ms/step\n",
      "Epoch 83/150\n",
      "868/868 - 8s - loss: 0.0178 - accuracy: 0.9933 - val_loss: 0.5090 - val_accuracy: 0.9218 - 8s/epoch - 9ms/step\n",
      "Epoch 84/150\n",
      "868/868 - 8s - loss: 0.0180 - accuracy: 0.9935 - val_loss: 0.5214 - val_accuracy: 0.9222 - 8s/epoch - 9ms/step\n",
      "Epoch 85/150\n",
      "868/868 - 8s - loss: 0.0169 - accuracy: 0.9935 - val_loss: 0.5599 - val_accuracy: 0.9219 - 8s/epoch - 9ms/step\n",
      "Epoch 86/150\n",
      "868/868 - 8s - loss: 0.0182 - accuracy: 0.9927 - val_loss: 0.5264 - val_accuracy: 0.9220 - 8s/epoch - 9ms/step\n",
      "Epoch 87/150\n",
      "868/868 - 8s - loss: 0.0174 - accuracy: 0.9929 - val_loss: 0.5426 - val_accuracy: 0.9220 - 8s/epoch - 9ms/step\n",
      "Epoch 88/150\n",
      "868/868 - 8s - loss: 0.0181 - accuracy: 0.9930 - val_loss: 0.5076 - val_accuracy: 0.9203 - 8s/epoch - 9ms/step\n",
      "Epoch 89/150\n",
      "868/868 - 8s - loss: 0.0180 - accuracy: 0.9934 - val_loss: 0.5254 - val_accuracy: 0.9214 - 8s/epoch - 9ms/step\n",
      "Epoch 90/150\n",
      "868/868 - 8s - loss: 0.0167 - accuracy: 0.9933 - val_loss: 0.5138 - val_accuracy: 0.9209 - 8s/epoch - 9ms/step\n",
      "Epoch 91/150\n",
      "868/868 - 8s - loss: 0.0161 - accuracy: 0.9938 - val_loss: 0.5901 - val_accuracy: 0.9195 - 8s/epoch - 9ms/step\n",
      "Epoch 92/150\n",
      "868/868 - 8s - loss: 0.0162 - accuracy: 0.9938 - val_loss: 0.5474 - val_accuracy: 0.9210 - 8s/epoch - 9ms/step\n",
      "Epoch 93/150\n",
      "868/868 - 8s - loss: 0.0164 - accuracy: 0.9935 - val_loss: 0.5684 - val_accuracy: 0.9208 - 8s/epoch - 9ms/step\n",
      "Epoch 94/150\n",
      "868/868 - 8s - loss: 0.0174 - accuracy: 0.9932 - val_loss: 0.5446 - val_accuracy: 0.9231 - 8s/epoch - 9ms/step\n",
      "Epoch 95/150\n",
      "868/868 - 8s - loss: 0.0181 - accuracy: 0.9926 - val_loss: 0.5711 - val_accuracy: 0.9221 - 8s/epoch - 10ms/step\n",
      "Epoch 96/150\n",
      "868/868 - 8s - loss: 0.0179 - accuracy: 0.9930 - val_loss: 0.5830 - val_accuracy: 0.9229 - 8s/epoch - 9ms/step\n",
      "Epoch 97/150\n",
      "868/868 - 8s - loss: 0.0162 - accuracy: 0.9936 - val_loss: 0.5517 - val_accuracy: 0.9228 - 8s/epoch - 9ms/step\n",
      "Epoch 98/150\n",
      "868/868 - 8s - loss: 0.0171 - accuracy: 0.9934 - val_loss: 0.5453 - val_accuracy: 0.9215 - 8s/epoch - 9ms/step\n",
      "Epoch 99/150\n",
      "868/868 - 8s - loss: 0.0161 - accuracy: 0.9935 - val_loss: 0.5745 - val_accuracy: 0.9218 - 8s/epoch - 9ms/step\n",
      "Epoch 100/150\n",
      "868/868 - 8s - loss: 0.0169 - accuracy: 0.9931 - val_loss: 0.5363 - val_accuracy: 0.9187 - 8s/epoch - 9ms/step\n",
      "Epoch 101/150\n",
      "868/868 - 8s - loss: 0.0159 - accuracy: 0.9938 - val_loss: 0.5543 - val_accuracy: 0.9210 - 8s/epoch - 9ms/step\n",
      "Epoch 102/150\n",
      "868/868 - 8s - loss: 0.0174 - accuracy: 0.9932 - val_loss: 0.5230 - val_accuracy: 0.9220 - 8s/epoch - 9ms/step\n",
      "Epoch 103/150\n",
      "868/868 - 8s - loss: 0.0165 - accuracy: 0.9938 - val_loss: 0.5289 - val_accuracy: 0.9223 - 8s/epoch - 9ms/step\n",
      "Epoch 104/150\n",
      "868/868 - 8s - loss: 0.0153 - accuracy: 0.9939 - val_loss: 0.5708 - val_accuracy: 0.9220 - 8s/epoch - 9ms/step\n",
      "Epoch 105/150\n",
      "868/868 - 8s - loss: 0.0153 - accuracy: 0.9942 - val_loss: 0.5475 - val_accuracy: 0.9230 - 8s/epoch - 9ms/step\n",
      "Epoch 106/150\n",
      "868/868 - 8s - loss: 0.0172 - accuracy: 0.9930 - val_loss: 0.5457 - val_accuracy: 0.9221 - 8s/epoch - 9ms/step\n",
      "Epoch 107/150\n",
      "868/868 - 7s - loss: 0.0147 - accuracy: 0.9941 - val_loss: 0.6264 - val_accuracy: 0.9236 - 7s/epoch - 9ms/step\n",
      "Epoch 108/150\n",
      "868/868 - 8s - loss: 0.0153 - accuracy: 0.9938 - val_loss: 0.5711 - val_accuracy: 0.9227 - 8s/epoch - 9ms/step\n",
      "Epoch 109/150\n",
      "868/868 - 7s - loss: 0.0154 - accuracy: 0.9939 - val_loss: 0.5642 - val_accuracy: 0.9230 - 7s/epoch - 9ms/step\n",
      "Epoch 110/150\n",
      "868/868 - 8s - loss: 0.0150 - accuracy: 0.9942 - val_loss: 0.6124 - val_accuracy: 0.9219 - 8s/epoch - 9ms/step\n",
      "Epoch 111/150\n",
      "868/868 - 7s - loss: 0.0155 - accuracy: 0.9938 - val_loss: 0.5798 - val_accuracy: 0.9241 - 7s/epoch - 9ms/step\n",
      "Epoch 112/150\n",
      "868/868 - 8s - loss: 0.0157 - accuracy: 0.9939 - val_loss: 0.5578 - val_accuracy: 0.9238 - 8s/epoch - 9ms/step\n",
      "Epoch 113/150\n",
      "868/868 - 8s - loss: 0.0143 - accuracy: 0.9940 - val_loss: 0.6123 - val_accuracy: 0.9226 - 8s/epoch - 9ms/step\n",
      "Epoch 114/150\n",
      "868/868 - 8s - loss: 0.0161 - accuracy: 0.9938 - val_loss: 0.6071 - val_accuracy: 0.9242 - 8s/epoch - 9ms/step\n",
      "Epoch 115/150\n",
      "868/868 - 8s - loss: 0.0152 - accuracy: 0.9943 - val_loss: 0.5636 - val_accuracy: 0.9257 - 8s/epoch - 9ms/step\n",
      "Epoch 116/150\n",
      "868/868 - 8s - loss: 0.0147 - accuracy: 0.9940 - val_loss: 0.6323 - val_accuracy: 0.9218 - 8s/epoch - 9ms/step\n",
      "Epoch 117/150\n",
      "868/868 - 8s - loss: 0.0149 - accuracy: 0.9944 - val_loss: 0.5913 - val_accuracy: 0.9246 - 8s/epoch - 9ms/step\n",
      "Epoch 118/150\n",
      "868/868 - 8s - loss: 0.0157 - accuracy: 0.9943 - val_loss: 0.5091 - val_accuracy: 0.9227 - 8s/epoch - 9ms/step\n",
      "Epoch 119/150\n",
      "868/868 - 8s - loss: 0.0140 - accuracy: 0.9944 - val_loss: 0.5677 - val_accuracy: 0.9252 - 8s/epoch - 9ms/step\n",
      "Epoch 120/150\n",
      "868/868 - 8s - loss: 0.0150 - accuracy: 0.9942 - val_loss: 0.6095 - val_accuracy: 0.9253 - 8s/epoch - 9ms/step\n",
      "Epoch 121/150\n",
      "868/868 - 8s - loss: 0.0128 - accuracy: 0.9946 - val_loss: 0.6594 - val_accuracy: 0.9236 - 8s/epoch - 9ms/step\n",
      "Epoch 122/150\n",
      "868/868 - 8s - loss: 0.0147 - accuracy: 0.9944 - val_loss: 0.5902 - val_accuracy: 0.9239 - 8s/epoch - 9ms/step\n",
      "Epoch 123/150\n",
      "868/868 - 8s - loss: 0.0158 - accuracy: 0.9944 - val_loss: 0.5780 - val_accuracy: 0.9233 - 8s/epoch - 9ms/step\n",
      "Epoch 124/150\n",
      "868/868 - 8s - loss: 0.0149 - accuracy: 0.9940 - val_loss: 0.5503 - val_accuracy: 0.9235 - 8s/epoch - 9ms/step\n",
      "Epoch 125/150\n",
      "868/868 - 8s - loss: 0.0145 - accuracy: 0.9946 - val_loss: 0.5589 - val_accuracy: 0.9227 - 8s/epoch - 9ms/step\n",
      "Epoch 126/150\n",
      "868/868 - 7s - loss: 0.0138 - accuracy: 0.9947 - val_loss: 0.5748 - val_accuracy: 0.9228 - 7s/epoch - 9ms/step\n",
      "Epoch 127/150\n",
      "868/868 - 8s - loss: 0.0150 - accuracy: 0.9939 - val_loss: 0.6375 - val_accuracy: 0.9230 - 8s/epoch - 9ms/step\n",
      "Epoch 128/150\n",
      "868/868 - 8s - loss: 0.0134 - accuracy: 0.9946 - val_loss: 0.6524 - val_accuracy: 0.9225 - 8s/epoch - 9ms/step\n",
      "Epoch 129/150\n",
      "868/868 - 8s - loss: 0.0136 - accuracy: 0.9946 - val_loss: 0.6732 - val_accuracy: 0.9227 - 8s/epoch - 9ms/step\n",
      "Epoch 130/150\n",
      "868/868 - 8s - loss: 0.0136 - accuracy: 0.9945 - val_loss: 0.6328 - val_accuracy: 0.9219 - 8s/epoch - 9ms/step\n",
      "Epoch 131/150\n",
      "868/868 - 7s - loss: 0.0156 - accuracy: 0.9939 - val_loss: 0.6105 - val_accuracy: 0.9231 - 7s/epoch - 9ms/step\n",
      "Epoch 132/150\n",
      "868/868 - 7s - loss: 0.0151 - accuracy: 0.9938 - val_loss: 0.5931 - val_accuracy: 0.9247 - 7s/epoch - 9ms/step\n"
     ]
    },
    {
     "name": "stdout",
     "output_type": "stream",
     "text": [
      "Epoch 133/150\n",
      "868/868 - 8s - loss: 0.0138 - accuracy: 0.9944 - val_loss: 0.5907 - val_accuracy: 0.9245 - 8s/epoch - 9ms/step\n",
      "Epoch 134/150\n",
      "868/868 - 8s - loss: 0.0151 - accuracy: 0.9937 - val_loss: 0.5624 - val_accuracy: 0.9239 - 8s/epoch - 9ms/step\n",
      "Epoch 135/150\n",
      "868/868 - 8s - loss: 0.0136 - accuracy: 0.9944 - val_loss: 0.6109 - val_accuracy: 0.9236 - 8s/epoch - 9ms/step\n",
      "Epoch 136/150\n",
      "868/868 - 8s - loss: 0.0128 - accuracy: 0.9948 - val_loss: 0.7503 - val_accuracy: 0.9221 - 8s/epoch - 9ms/step\n",
      "Epoch 137/150\n",
      "868/868 - 8s - loss: 0.0136 - accuracy: 0.9947 - val_loss: 0.6023 - val_accuracy: 0.9257 - 8s/epoch - 9ms/step\n",
      "Epoch 138/150\n",
      "868/868 - 8s - loss: 0.0147 - accuracy: 0.9943 - val_loss: 0.6104 - val_accuracy: 0.9242 - 8s/epoch - 9ms/step\n",
      "Epoch 139/150\n",
      "868/868 - 8s - loss: 0.0158 - accuracy: 0.9940 - val_loss: 0.5597 - val_accuracy: 0.9236 - 8s/epoch - 9ms/step\n",
      "Epoch 140/150\n",
      "868/868 - 8s - loss: 0.0134 - accuracy: 0.9944 - val_loss: 0.5946 - val_accuracy: 0.9237 - 8s/epoch - 9ms/step\n",
      "Epoch 141/150\n",
      "868/868 - 8s - loss: 0.0138 - accuracy: 0.9943 - val_loss: 0.6554 - val_accuracy: 0.9242 - 8s/epoch - 9ms/step\n",
      "Epoch 142/150\n",
      "868/868 - 8s - loss: 0.0160 - accuracy: 0.9944 - val_loss: 0.5470 - val_accuracy: 0.9245 - 8s/epoch - 9ms/step\n",
      "Epoch 143/150\n",
      "868/868 - 8s - loss: 0.0139 - accuracy: 0.9944 - val_loss: 0.6138 - val_accuracy: 0.9234 - 8s/epoch - 9ms/step\n",
      "Epoch 144/150\n",
      "868/868 - 8s - loss: 0.0135 - accuracy: 0.9946 - val_loss: 0.5889 - val_accuracy: 0.9211 - 8s/epoch - 9ms/step\n",
      "Epoch 145/150\n",
      "868/868 - 8s - loss: 0.0132 - accuracy: 0.9947 - val_loss: 0.6394 - val_accuracy: 0.9216 - 8s/epoch - 9ms/step\n",
      "Epoch 146/150\n",
      "868/868 - 8s - loss: 0.0134 - accuracy: 0.9948 - val_loss: 0.6949 - val_accuracy: 0.9232 - 8s/epoch - 9ms/step\n",
      "Epoch 147/150\n",
      "868/868 - 8s - loss: 0.0119 - accuracy: 0.9951 - val_loss: 0.7594 - val_accuracy: 0.9215 - 8s/epoch - 9ms/step\n",
      "Epoch 148/150\n",
      "868/868 - 8s - loss: 0.0138 - accuracy: 0.9946 - val_loss: 0.7150 - val_accuracy: 0.9223 - 8s/epoch - 9ms/step\n",
      "Epoch 149/150\n",
      "868/868 - 8s - loss: 0.0128 - accuracy: 0.9948 - val_loss: 0.7065 - val_accuracy: 0.9242 - 8s/epoch - 9ms/step\n",
      "Epoch 150/150\n",
      "868/868 - 8s - loss: 0.0121 - accuracy: 0.9951 - val_loss: 0.7629 - val_accuracy: 0.9232 - 8s/epoch - 9ms/step\n"
     ]
    }
   ],
   "source": [
    "tf.keras.backend.clear_session()\n",
    "model = tf.keras.models.Sequential([\n",
    "    tf.keras.layers.Embedding(vocab_size, embedding_dim, input_length = max_length),\n",
    "    tf.keras.layers.Conv1D(32, 3, activation = 'relu'),\n",
    "    tf.keras.layers.MaxPooling1D(pool_size = 2, strides = 1),\n",
    "    tf.keras.layers.Flatten(),\n",
    "    tf.keras.layers.Dropout(0.5),\n",
    "    tf.keras.layers.Dense(24, activation = 'elu', kernel_initializer = 'he_normal'),\n",
    "    tf.keras.layers.Dense(16, activation = 'elu', kernel_initializer = 'he_normal'),\n",
    "    tf.keras.layers.Dense(1, activation = 'sigmoid')\n",
    "])\n",
    "\n",
    "model.compile(loss = 'binary_crossentropy',\n",
    "              optimizer = 'adam',\n",
    "              metrics = ['accuracy'])\n",
    "\n",
    "history = model.fit(train_padded, y_train,\n",
    "                    validation_data = (valid_padded, y_test),\n",
    "                    epochs = 150,\n",
    "                    verbose = 2)"
   ]
  },
  {
   "cell_type": "markdown",
   "id": "53376040",
   "metadata": {},
   "source": [
    "- Nhận xét:\n",
    "\n",
    "    Mô hình mạng neural với lớp `Conv1D` và `MaxPooling1D` kèm điều chuẩn cho hiệu suất khá tốt và thời gian nhanh hơn các mô hình còn lại, kể cả `Voting Classifier` phía trên.\n",
    "    \n",
    "    Đề xuất lựa chọn mô hình mạng neural với lớp `Conv1D` và `MaxPooling1D` kèm điều chuẩn để lưu mô hình và dự đoán."
   ]
  },
  {
   "cell_type": "code",
   "execution_count": 146,
   "id": "63a82c6a",
   "metadata": {},
   "outputs": [
    {
     "name": "stdout",
     "output_type": "stream",
     "text": [
      "              precision    recall  f1-score   support\n",
      "\n",
      "           0       0.80      0.72      0.76      1975\n",
      "           1       0.95      0.96      0.95      9917\n",
      "\n",
      "    accuracy                           0.92     11892\n",
      "   macro avg       0.87      0.84      0.86     11892\n",
      "weighted avg       0.92      0.92      0.92     11892\n",
      "\n"
     ]
    }
   ],
   "source": [
    "yhat = model.predict(valid_padded)\n",
    "yhat = np.round(yhat).reshape(-1)\n",
    "\n",
    "print(classification_report(y_test, yhat))"
   ]
  },
  {
   "cell_type": "code",
   "execution_count": 156,
   "id": "5fcd35d8",
   "metadata": {},
   "outputs": [
    {
     "name": "stdout",
     "output_type": "stream",
     "text": [
      "Saved !!!\n"
     ]
    }
   ],
   "source": [
    "model.save('Foody_review_analysis.h5')\n",
    "print('Saved !!!')"
   ]
  },
  {
   "cell_type": "code",
   "execution_count": 142,
   "id": "21905589",
   "metadata": {},
   "outputs": [],
   "source": [
    "text = ['đồ ăn tạm tàm nhưng nhân viên thái độ lồi lõm, đúng là một lần và mãi mãi', \n",
    "        'quán dở bà cố mà review ảo tung chảo',\n",
    "        'Có ngon gì đâu mà review cao ngất ngưởng',\n",
    "        'Nguyên liệu cũ để lâu ngày',\n",
    "        'Quán xập xệ, nóng bức làm ăn mất cả ngon',\n",
    "        'Chưa nói đến đồ ăn có ngon hay không, quán sát bờ sông mà chỉ xài đèn cầy, đi với anh người eo cả buổi cứ gãi sồn sột mất hết cả hình ảnh duyên đánh, thanh lịch của mị',\n",
    "        'Đồ ăn không ngon được cái anh chủ quán đẹp trai nhưng anh lại có vợ',\n",
    "        ]"
   ]
  },
  {
   "cell_type": "code",
   "execution_count": 141,
   "id": "f17da7bc",
   "metadata": {},
   "outputs": [],
   "source": [
    "review = 'đồ ăn tạm tàm nhưng nhân viên thái độ lồi lõm, đúng là một lần và mãi mãi'"
   ]
  },
  {
   "cell_type": "code",
   "execution_count": 135,
   "id": "d914bc1f",
   "metadata": {},
   "outputs": [],
   "source": [
    "final_text = fc.clean_text(text, emoji_dict, teen_dict, wrong_lst, stopwords_lst)\n",
    "final_text"
   ]
  },
  {
   "cell_type": "code",
   "execution_count": 150,
   "id": "f8ce00f5",
   "metadata": {},
   "outputs": [],
   "source": [
    "proceed_text = [fc.clean_text(x, emoji_dict, teen_dict, wrong_lst, stopwords_lst) for x in text]"
   ]
  },
  {
   "cell_type": "code",
   "execution_count": 151,
   "id": "752a4c05",
   "metadata": {},
   "outputs": [
    {
     "data": {
      "text/plain": [
       "['đồ tạm tàm nhân viên thái độ lồi lõm mãi mãi.',\n",
       " 'quán dở cố review ảo chảo.',\n",
       " 'review ngất ngưởng.',\n",
       " 'nguyên liệu cũ ngày.',\n",
       " 'quán xập xệ nóng .',\n",
       " 'đồ không quán sát bờ sông xài đèn cầy gãi sồn sột hình ảnh duyên đánh lịch mị.',\n",
       " 'đồ không chủ quán đẹp vợ.']"
      ]
     },
     "execution_count": 151,
     "metadata": {},
     "output_type": "execute_result"
    }
   ],
   "source": [
    "proceed_text"
   ]
  },
  {
   "cell_type": "code",
   "execution_count": 153,
   "id": "ee15e695",
   "metadata": {},
   "outputs": [],
   "source": [
    "def predict_review(text):\n",
    "    new_sequence = tokenizer.texts_to_sequences(text)\n",
    "    new_padded = pad_sequences(new_sequence,\n",
    "                               padding = padding_type,\n",
    "                               truncating = trunc_type,\n",
    "                               maxlen = max_length)\n",
    "    return new_padded"
   ]
  },
  {
   "cell_type": "code",
   "execution_count": 154,
   "id": "2d765dd0",
   "metadata": {},
   "outputs": [],
   "source": [
    "new_text = predict_review(proceed_text)"
   ]
  },
  {
   "cell_type": "code",
   "execution_count": 155,
   "id": "5fdac9ff",
   "metadata": {},
   "outputs": [
    {
     "data": {
      "text/plain": [
       "array([0, 0, 0, 0, 0, 0, 0])"
      ]
     },
     "execution_count": 155,
     "metadata": {},
     "output_type": "execute_result"
    }
   ],
   "source": [
    "np.argmax(model.predict(new_text), axis=-1)"
   ]
  },
  {
   "cell_type": "code",
   "execution_count": 147,
   "id": "872dce60",
   "metadata": {},
   "outputs": [],
   "source": [
    "review_cv = cv.transform(pd.Series(data = text))"
   ]
  },
  {
   "cell_type": "code",
   "execution_count": 148,
   "id": "3703f87a",
   "metadata": {},
   "outputs": [
    {
     "data": {
      "text/plain": [
       "array([0, 0, 0, 1, 1, 0, 1])"
      ]
     },
     "execution_count": 148,
     "metadata": {},
     "output_type": "execute_result"
    }
   ],
   "source": [
    "voting_modified.predict(review_cv)"
   ]
  },
  {
   "cell_type": "code",
   "execution_count": 149,
   "id": "7f68943d",
   "metadata": {},
   "outputs": [
    {
     "data": {
      "text/plain": [
       "array([0, 0, 1, 1, 1, 0, 1])"
      ]
     },
     "execution_count": 149,
     "metadata": {},
     "output_type": "execute_result"
    }
   ],
   "source": [
    "xgb_model = xgb_clf.fit(X_train_cv, y_train)\n",
    "xgb_clf.predict(review_cv)"
   ]
  },
  {
   "cell_type": "code",
   "execution_count": 158,
   "id": "1fd8277f",
   "metadata": {},
   "outputs": [],
   "source": [
    "# from sklearn.base import BaseEstimator, TransformerMixin\n",
    "\n",
    "# class ReplaceByAvg(BaseEstimator, TransformerMixin):\n",
    "#     def __init__(self, list_col):\n",
    "#         self.list_col = list_col\n",
    "#     def fit(self, X, y = None):\n",
    "#         return self\n",
    "#     def transform(self, df):\n",
    "#         X = df.copy()\n",
    "#         for col in self.list_col:\n",
    "#             X.loc[X[col] == 0, col] = round(X[col].mean(), 2)\n",
    "#         return X"
   ]
  },
  {
   "cell_type": "code",
   "execution_count": 159,
   "id": "2a3dfca4",
   "metadata": {},
   "outputs": [
    {
     "data": {
      "text/plain": [
       "['Ngãi heo với heo thiệttttt 🐷🐷🐷\\n🤤🤤 bún nem chả gì gì của Quảng - bao ngon, bao thơm, bao no 🤤🤤\\n quán này ở trần văn khéo .Kế sò ốc 99. Quán quảng. Mình ăn rất vừa miệng. Thịt nướng mềm. Nước chấm vừa ăn. Do mình ko thích ăn dầu mỡ nhìu nên chả giò rán nó mình ăn ko nhìu. Nhưng ko ngấy. Mỗi khúc chả đều có tôm nguyên con. Nhưng nếu lột vỏ tôm hả bỏ vào chả giò thì ổn hơn. 😌']"
      ]
     },
     "execution_count": 159,
     "metadata": {},
     "output_type": "execute_result"
    }
   ],
   "source": [
    "a = [data['review_text'][4]]\n",
    "a"
   ]
  },
  {
   "cell_type": "code",
   "execution_count": 160,
   "id": "30fac780",
   "metadata": {},
   "outputs": [
    {
     "data": {
      "text/plain": [
       "array([0])"
      ]
     },
     "execution_count": 160,
     "metadata": {},
     "output_type": "execute_result"
    }
   ],
   "source": [
    "pred_text = predict_review(a)\n",
    "np.argmax(model.predict(pred_text), axis = -1)"
   ]
  },
  {
   "cell_type": "code",
   "execution_count": null,
   "id": "89e37efa",
   "metadata": {},
   "outputs": [],
   "source": []
  },
  {
   "cell_type": "code",
   "execution_count": null,
   "id": "c9db74ab",
   "metadata": {},
   "outputs": [],
   "source": []
  }
 ],
 "metadata": {
  "kernelspec": {
   "display_name": "Python 3",
   "language": "python",
   "name": "python3"
  },
  "language_info": {
   "codemirror_mode": {
    "name": "ipython",
    "version": 3
   },
   "file_extension": ".py",
   "mimetype": "text/x-python",
   "name": "python",
   "nbconvert_exporter": "python",
   "pygments_lexer": "ipython3",
   "version": "3.8.10"
  }
 },
 "nbformat": 4,
 "nbformat_minor": 5
}
